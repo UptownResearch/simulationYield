{
 "cells": [
  {
   "cell_type": "code",
   "execution_count": 1,
   "metadata": {},
   "outputs": [],
   "source": [
    "class Token:       \n",
    "    def __init__(self):\n",
    "        self.balances = {}\n",
    "        self.totalSupply = 0\n",
    "    \n",
    "    def mint(self, address, amount):\n",
    "        assert(amount > 0)\n",
    "        self.balances[address] = self.balances.get(address, 0) + amount\n",
    "        self.totalSupply += amount\n",
    "    \n",
    "    def balanceOf(self, address):\n",
    "        return self.balances.get(address, 0)\n",
    "    \n",
    "    def transferFrom(self, sender, recipient, amount):\n",
    "        assert(amount >= 0)\n",
    "        if self.balanceOf(sender) >= amount:\n",
    "            self.balances[sender] = self.balances.get(sender, 0) - amount\n",
    "            self.balances[recipient] = self.balances.get(recipient, 0) + amount    \n",
    "            return True\n",
    "        else:\n",
    "            return False"
   ]
  },
  {
   "cell_type": "code",
   "execution_count": 2,
   "metadata": {},
   "outputs": [],
   "source": [
    "token = Token()\n",
    "token.mint(\"A\", 5)\n",
    "assert(token.balanceOf(\"A\") == 5)\n",
    "\n",
    "token.transferFrom(\"A\", \"B\", 3)\n",
    "assert(token.balanceOf(\"B\") == 3)\n",
    "assert(token.balanceOf(\"A\") == 2)\n",
    "\n",
    "token.transferFrom(\"A\", \"C\", 2)\n",
    "assert(token.balanceOf(\"A\") == 0)\n",
    "assert(token.balanceOf(\"C\") == 2)"
   ]
  },
  {
   "cell_type": "code",
   "execution_count": 215,
   "metadata": {},
   "outputs": [],
   "source": [
    "import time \n",
    "import decimal\n",
    "from decimal import Decimal \n",
    "math = decimal.Context()\n",
    "\n",
    "# class InterestToken\n",
    "#  __init__(rate, _rateAccumulator)\n",
    "#  balanceOfUnderlying(address)\n",
    "#  accrueInterest()\n",
    "#  updateRate(update)\n",
    "#  yearlyRate()\n",
    "\n",
    "class blockchain:\n",
    "    \n",
    "    def __init__(self, _timestamp, _block):\n",
    "        self.timestamp = _timestamp\n",
    "        self.block = _block\n",
    "    \n",
    "    def incrementBlock(self):\n",
    "        self.block += 1\n",
    "        self.timestamp += 15\n",
    "    \n",
    "    def updateTimestamp(self, _timestamp):\n",
    "        self.timestamp = _timestamp\n",
    "    \n",
    "    def now(self):\n",
    "        return self.timestamp\n",
    "\n",
    "\n",
    "class InterestToken(Token):\n",
    "    # rate is a yearly rate, converted to a rate compounded per second\n",
    "    def __init__(self, _blockchain, rate, _rateAccumulator):\n",
    "        Token.__init__(self)\n",
    "        self.blockchain = _blockchain\n",
    "        self.lastUpdate = self.blockchain.now()\n",
    "        self.rateAccumulator = _rateAccumulator\n",
    "        # 31622400 is the number of seconds in a year\n",
    "        self.rate = math.power(1 + Decimal(rate), 1/Decimal(31622400))  \n",
    "    \n",
    "    def balanceOfUnderlying(self, address):\n",
    "        return self.balanceOf(address) * self.rateAccumulator\n",
    "    \n",
    "    def transferUnderlying(self, sender, recipient, amount):\n",
    "        value = amount / self.rateAccumulator\n",
    "        self.transferFrom(sender, recipient, value)\n",
    "        \n",
    "    def accrueInterest(self):\n",
    "        now = self.blockchain.now()\n",
    "        if now > self.lastUpdate:\n",
    "            total_time =  now - self.lastUpdate\n",
    "            self.rateAccumulator = math.power(self.rate, total_time) * self.rateAccumulator\n",
    "            self.lastUpdate = now\n",
    "    \n",
    "    def updateRate(self, update):\n",
    "        newRate = math.power(1 + Decimal(update), 1/Decimal(31622400)) - 1\n",
    "        self.rate = self.rate + newRate\n",
    "        if self.rate < Decimal(1):\n",
    "            self.rate = Decimal(1)\n",
    "    \n",
    "    def yearlyRate(self):\n",
    "        return math.power(self.rate, Decimal(31622400)) - 1"
   ]
  },
  {
   "cell_type": "code",
   "execution_count": 198,
   "metadata": {},
   "outputs": [],
   "source": [
    "chain = blockchain(0,1)\n",
    "token = InterestToken(chain, .02, 1)\n",
    "token.mint(\"A\", 1000)\n",
    "#token.lastUpdate = token.lastUpdate - 31622400\n",
    "chain.updateTimestamp(31622400)\n",
    "token.accrueInterest()\n",
    "token.balanceOfUnderlying(\"A\")\n",
    "assert(int(token.balanceOfUnderlying(\"A\")) == 1020)"
   ]
  },
  {
   "cell_type": "code",
   "execution_count": null,
   "metadata": {},
   "outputs": [],
   "source": []
  },
  {
   "cell_type": "code",
   "execution_count": 199,
   "metadata": {},
   "outputs": [
    {
     "name": "stdout",
     "output_type": "stream",
     "text": [
      "1.000000000721011950427853002\n"
     ]
    }
   ],
   "source": [
    "chain = blockchain(0,1)\n",
    "token = InterestToken(chain, .02, 1)\n",
    "token.mint(\"A\", 1000)\n",
    "#token.lastUpdate = token.lastUpdate - 31622400\n",
    "# Note that the per second rates are multiplied, not added\n",
    "token.updateRate(.001)\n",
    "token.updateRate(.001)\n",
    "token.updateRate(-.001)\n",
    "token.updateRate(.001)\n",
    "token.updateRate(.001)\n",
    "#print(token.yearlyRate())\n",
    "chain.updateTimestamp(31622400)\n",
    "print(token.rate)\n",
    "token.accrueInterest()\n",
    "assert(int(token.balanceOfUnderlying(\"A\")) == 1023)"
   ]
  },
  {
   "cell_type": "code",
   "execution_count": 200,
   "metadata": {},
   "outputs": [
    {
     "data": {
      "text/plain": [
       "Decimal('1.000186059700104401460770319')"
      ]
     },
     "execution_count": 200,
     "metadata": {},
     "output_type": "execute_result"
    }
   ],
   "source": [
    "chain = blockchain(1,1)\n",
    "uToken = InterestToken(chain, .04, 1)\n",
    "for x in range(10000):\n",
    "    chain.incrementBlock()\n",
    "    uToken.accrueInterest()\n",
    "\n",
    "uToken.rateAccumulator\n"
   ]
  },
  {
   "cell_type": "code",
   "execution_count": 498,
   "metadata": {},
   "outputs": [],
   "source": [
    "# class Queueball: \n",
    "#   __init__(self, _uToken : Token , _sToken : Token)\n",
    "#   check_user(self, address)\n",
    "#   sell_underlying_for_synthetic(self, address, amount)\n",
    "#   withdraw_synthetic(self, address)\n",
    "#   sell_synthetic_for_underlying(self, address, amount)\n",
    "#   withdraw_underlying(self, address)\n",
    "\n",
    "class Queueball:\n",
    "    def __init__(self, _uToken : Token , _sToken : Token):\n",
    "        self.uToken = _uToken\n",
    "        self.sToken = _sToken\n",
    "        self.underlying = 0\n",
    "        self.synthetic  = 0\n",
    "        self.address = \"queueball\"\n",
    "        self.book = {}\n",
    "    \n",
    "    def check_user(self, address):\n",
    "        if not address in self.book:\n",
    "            self.book[address] = {'s': [], 'u': []}\n",
    "        \n",
    "    def transferToken(self, token, sender, recipient, amount):\n",
    "        return token.transferUnderlying(sender, recipient, amount)\n",
    "    \n",
    "    def sell_underlying_for_synthetic(self, address, amount):\n",
    "        self.transferToken(uToken, address, self.address, amount)\n",
    "        if (self.underlying + amount) > self.synthetic:\n",
    "            self.check_user(address)\n",
    "            self.book[address]['u'].append({'amount': amount, 'height': self.underlying + amount})\n",
    "            self.underlying += amount\n",
    "        else:\n",
    "            self.transferToken(sToken, self.address, address, amount)\n",
    "            self.underlying += amount\n",
    "        \n",
    "    def sell_synthetic_for_underlying(self, address, amount):\n",
    "        self.transferToken(sToken, address, self.address, amount)\n",
    "        if (self.synthetic + amount) > self.underlying:\n",
    "            # add to book\n",
    "            self.check_user(address)\n",
    "            self.book[address]['s'].append({'amount': amount, 'height': self.synthetic + amount})\n",
    "            self.synthetic += amount\n",
    "        else:\n",
    "            # execute immediately\n",
    "            self.transferToken(uToken, self.address, address, amount)\n",
    "            self.synthetic += amount\n",
    "\n",
    "    def withdraw_synthetic(self, address):\n",
    "        self.check_user(address)\n",
    "        remaining_orders = []\n",
    "        for order in self.book[address]['u']:\n",
    "            if self.synthetic >= order['height']:\n",
    "                self.transferToken(sToken, self.address, address, order['amount'])\n",
    "            else:\n",
    "                remaining_orders.append(order)\n",
    "        self.book[address]['u'] = remaining_orders\n",
    "        \n",
    "    def withdraw_underlying(self, address):\n",
    "        self.check_user(address)\n",
    "        remaining_orders = []\n",
    "        for order in self.book[address]['s']:\n",
    "            if self.underlying >= order['height']:\n",
    "                self.transferToken(uToken, self.address, address, order['amount'])\n",
    "            else:\n",
    "                remaining_orders.append(order)\n",
    "        self.book[address]['s'] = remaining_orders\n",
    "        \n",
    "    def order_value(self, address):\n",
    "        total = 0\n",
    "        for order in self.book[address]['s']:\n",
    "            total += order['amount']\n",
    "        for order in self.book[address]['u']:\n",
    "            total += order['amount']\n",
    "        return total"
   ]
  },
  {
   "cell_type": "code",
   "execution_count": 191,
   "metadata": {},
   "outputs": [],
   "source": [
    "# Test out Queueball\n",
    "chain = blockchain(1,1)\n",
    "uToken = InterestToken(chain, 0,1)\n",
    "sToken = InterestToken(chain, 0,1)\n",
    "queue = Queueball(uToken, sToken)\n",
    "uToken.mint(\"A\", 1000)\n",
    "sToken.mint(\"B\", 1000)\n",
    "\n",
    "# Test 1\n",
    "queue.sell_underlying_for_synthetic(\"A\", 100)\n",
    "queue.sell_synthetic_for_underlying(\"B\", 100)\n",
    "queue.withdraw_synthetic(\"A\")\n",
    "queue.withdraw_synthetic(\"B\") # should not do anything\n",
    "queue.withdraw_underlying(\"A\") # should not do anything\n",
    "queue.withdraw_underlying(\"B\") # should not do anything\n",
    "assert(uToken.balanceOfUnderlying(\"A\") ==  900)\n",
    "assert(uToken.balanceOfUnderlying(\"B\") ==  100)\n",
    "assert(sToken.balanceOfUnderlying(\"A\") ==  100)\n",
    "assert(sToken.balanceOfUnderlying(\"B\") ==  900)\n",
    "\n",
    "#Test 2\n",
    "queue.sell_underlying_for_synthetic(\"A\", 100)\n",
    "queue.sell_synthetic_for_underlying(\"B\", 150)\n",
    "queue.withdraw_synthetic(\"A\")\n",
    "queue.withdraw_synthetic(\"B\") # should not do anything\n",
    "queue.withdraw_underlying(\"A\") # should not do anything\n",
    "queue.withdraw_underlying(\"B\") # should not do anything\n",
    "assert(uToken.balanceOfUnderlying(\"A\") ==  800)\n",
    "assert(uToken.balanceOfUnderlying(\"B\") ==  100)\n",
    "assert(sToken.balanceOfUnderlying(\"A\") ==  200)\n",
    "assert(sToken.balanceOfUnderlying(\"B\") ==  750)\n",
    "\n",
    "#Test 3\n",
    "queue.sell_underlying_for_synthetic(\"A\", 100)\n",
    "queue.withdraw_synthetic(\"A\") # should not do anything\n",
    "queue.withdraw_synthetic(\"B\") # should not do anything\n",
    "queue.withdraw_underlying(\"A\") # should not do anything\n",
    "queue.withdraw_underlying(\"B\")\n",
    "assert(uToken.balanceOfUnderlying(\"A\") ==  700)\n",
    "assert(uToken.balanceOfUnderlying(\"B\") ==  250)\n",
    "assert(sToken.balanceOfUnderlying(\"A\") ==  200)\n",
    "assert(sToken.balanceOfUnderlying(\"B\") ==  750)"
   ]
  },
  {
   "cell_type": "code",
   "execution_count": 192,
   "metadata": {},
   "outputs": [],
   "source": [
    "# Further Test out Queueball\n",
    "chain = blockchain(1,1)\n",
    "uToken = InterestToken(chain, 0,1)\n",
    "sToken = InterestToken(chain, 0,1)\n",
    "queue = Queueball(uToken, sToken)\n",
    "uToken.mint(\"C\", 1000)\n",
    "uToken.mint(\"D\", 1000)\n",
    "uToken.mint(\"E\", 1000)\n",
    "sToken.mint(\"C\", 1000)\n",
    "sToken.mint(\"D\", 1000)\n",
    "sToken.mint(\"E\", 1000)\n",
    "# You can permute the following in any order and the tests should still pass\n",
    "\n",
    "queue.sell_underlying_for_synthetic(\"C\", 100)\n",
    "queue.sell_underlying_for_synthetic(\"E\", 200)\n",
    "queue.sell_underlying_for_synthetic(\"D\", 200)\n",
    "queue.sell_synthetic_for_underlying(\"D\", 300)\n",
    "queue.sell_underlying_for_synthetic(\"E\", 300)\n",
    "queue.sell_synthetic_for_underlying(\"E\", 100)\n",
    "queue.sell_synthetic_for_underlying(\"E\", 400)\n",
    "\n",
    "#######\n",
    "queue.withdraw_synthetic(\"C\")\n",
    "queue.withdraw_synthetic(\"D\")\n",
    "queue.withdraw_synthetic(\"E\")\n",
    "queue.withdraw_underlying(\"C\")\n",
    "queue.withdraw_underlying(\"D\")\n",
    "queue.withdraw_underlying(\"E\")\n",
    "assert(uToken.balanceOfUnderlying(\"C\") ==  900)\n",
    "assert(uToken.balanceOfUnderlying(\"D\") ==  1100)\n",
    "assert(uToken.balanceOfUnderlying(\"E\") ==  1000)\n",
    "assert(sToken.balanceOfUnderlying(\"C\") ==  1100)\n",
    "assert(sToken.balanceOfUnderlying(\"D\") ==  900)\n",
    "assert(sToken.balanceOfUnderlying(\"E\") ==  1000)"
   ]
  },
  {
   "cell_type": "markdown",
   "metadata": {},
   "source": [
    "## Simulate"
   ]
  },
  {
   "cell_type": "code",
   "execution_count": 607,
   "metadata": {},
   "outputs": [],
   "source": [
    "import numpy\n",
    "import random\n",
    "\n",
    "chain = blockchain(1,1)\n",
    "uToken = InterestToken(chain, .04, 1)\n",
    "sToken = InterestToken(chain, .04, 1)\n",
    "queue = Queueball(uToken, sToken)\n",
    "finalU = {}\n",
    "finalS = {}\n",
    "for x in range(10):\n",
    "    uToken.mint(x, Decimal(1000000000))\n",
    "    sToken.mint(x, Decimal(1000000000))\n",
    "    finalU[x] = Decimal(1000000000)\n",
    "    finalS[x] = Decimal(1000000000)\n",
    "    \n",
    "interestUpdateAmount = 0.0001\n",
    "ratesPerBlock = []\n",
    "ordersOutstanding = []\n",
    "\n",
    "arbitrage_user = 'arb'\n",
    "uToken.mint(arbitrage_user, Decimal(10000000000))\n",
    "sToken.mint(arbitrage_user, Decimal(10000000000))\n",
    "arb_value = []\n",
    "arb_syn = []\n",
    "arb_und = []\n",
    "\n",
    "buyVsSella = 0\n",
    "buyVsSell = []\n",
    "traded = 0\n",
    "    \n",
    "for block in range(10000):\n",
    "    # perform interest rate update at beginning of block\n",
    "    chain.incrementBlock()\n",
    "\n",
    "    if queue.underlying > queue.synthetic:\n",
    "        # lower interest rate\n",
    "        sToken.updateRate(-interestUpdateAmount)\n",
    "    elif  queue.synthetic > queue.underlying:\n",
    "        # raise interest rate\n",
    "        sToken.updateRate(interestUpdateAmount)\n",
    "    \n",
    "    ratesPerBlock.append(sToken.yearlyRate())\n",
    "    #ratesPerBlock.append(sToken.rate)\n",
    "    ordersOutstanding.append(queue.underlying - queue.synthetic)\n",
    "    \n",
    "    # perform a random trade\n",
    "    amount = Decimal(int(numpy.random.lognormal(11, 3)))\n",
    "    user = random.choice(range(10))\n",
    "    if random.choice([\"buy\",\"sell\"]) == \"buy\":\n",
    "        if uToken.balanceOfUnderlying(user) > amount:\n",
    "            queue.sell_underlying_for_synthetic(user, amount)\n",
    "            finalS[user] += amount\n",
    "            finalU[user] -= amount\n",
    "            buyVsSella -= amount\n",
    "            \n",
    "    else:\n",
    "        if sToken.balanceOfUnderlying(user) > amount:\n",
    "            queue.sell_synthetic_for_underlying(user, amount)\n",
    "            finalU[user] += amount\n",
    "            finalS[user] -= amount\n",
    "            buyVsSella += amount\n",
    "            \n",
    "    buyVsSell.append(buyVsSella)\n",
    "    queue.withdraw_synthetic(user)\n",
    "    queue.withdraw_underlying(user)\n",
    "    # let an arbitrage agent make a trade\n",
    "    if True: \n",
    "        \n",
    "        #amount = min(Decimal(int(numpy.random.lognormal(11, 3))), uToken.balanceOfUnderlying(arbitrage_user))\n",
    "        if (uToken.yearlyRate() - sToken.yearlyRate()) > 0.04 :\n",
    "            # lower interest rate\n",
    "            desired = max(Decimal(0), \n",
    "                          Decimal(queue.underlying - queue.synthetic))\n",
    "            amount = min(desired, sToken.balanceOfUnderlying(arbitrage_user))\n",
    "            #if amount == Decimal(0):\n",
    "            #    amount = Decimal(10000000)\n",
    "            queue.sell_synthetic_for_underlying(arbitrage_user, Decimal(amount))\n",
    "            traded += amount\n",
    "        elif (sToken.yearlyRate() - uToken.yearlyRate()) > 0.04:\n",
    "            desired = max(Decimal(0),  \n",
    "                          Decimal( queue.synthetic - queue.underlying))\n",
    "            amount = min(desired, uToken.balanceOfUnderlying(arbitrage_user))\n",
    "            #if amount == Decimal(0):\n",
    "            #    amount = Decimal(10000000)\n",
    "            queue.sell_underlying_for_synthetic(arbitrage_user, Decimal(amount)) \n",
    "            traded -= amount\n",
    "\n",
    "        queue.withdraw_synthetic(arbitrage_user)\n",
    "        queue.withdraw_underlying(arbitrage_user)\n",
    "        arb_value.append(int(sToken.balanceOfUnderlying(arbitrage_user) + \\\n",
    "                         uToken.balanceOfUnderlying(arbitrage_user) + \\\n",
    "                         queue.order_value(arbitrage_user)))\n",
    "        #arb_value.append(traded)\n",
    "        arb_syn.append(sToken.balanceOfUnderlying(arbitrage_user))\n",
    "        arb_und.append(uToken.balanceOfUnderlying(arbitrage_user))\n",
    "    \n",
    "    # final behavior at end of block\n",
    "    uToken.accrueInterest()\n",
    "    sToken.accrueInterest()"
   ]
  },
  {
   "cell_type": "code",
   "execution_count": 608,
   "metadata": {},
   "outputs": [
    {
     "data": {
      "text/plain": [
       "<matplotlib.axes._subplots.AxesSubplot at 0x14351ee10>"
      ]
     },
     "execution_count": 608,
     "metadata": {},
     "output_type": "execute_result"
    },
    {
     "data": {
      "image/png": "[encoded data removed]",
      "text/plain": [
       "<Figure size 432x288 with 1 Axes>"
      ]
     },
     "metadata": {
      "needs_background": "light"
     },
     "output_type": "display_data"
    }
   ],
   "source": [
    "import pandas\n",
    "import matplotlib\n",
    "import matplotlib.pyplot as plt\n",
    "%matplotlib inline\n",
    "s = pandas.Series(pandas.to_numeric(ratesPerBlock))\n",
    "s.plot()"
   ]
  },
  {
   "cell_type": "code",
   "execution_count": 609,
   "metadata": {},
   "outputs": [
    {
     "data": {
      "text/plain": [
       "<matplotlib.axes._subplots.AxesSubplot at 0x14395c590>"
      ]
     },
     "execution_count": 609,
     "metadata": {},
     "output_type": "execute_result"
    },
    {
     "data": {
      "image/png": "[encoded data removed]",
      "text/plain": [
       "<Figure size 432x288 with 1 Axes>"
      ]
     },
     "metadata": {
      "needs_background": "light"
     },
     "output_type": "display_data"
    }
   ],
   "source": [
    "t = pandas.Series(pandas.to_numeric(buyVsSell))\n",
    "t.plot()"
   ]
  },
  {
   "cell_type": "code",
   "execution_count": 610,
   "metadata": {},
   "outputs": [
    {
     "data": {
      "text/plain": [
       "<matplotlib.axes._subplots.AxesSubplot at 0x1438ff7d0>"
      ]
     },
     "execution_count": 610,
     "metadata": {},
     "output_type": "execute_result"
    },
    {
     "data": {
      "image/png": "[encoded data removed]",
      "text/plain": [
       "<Figure size 432x288 with 1 Axes>"
      ]
     },
     "metadata": {
      "needs_background": "light"
     },
     "output_type": "display_data"
    }
   ],
   "source": [
    "f = pandas.Series(pandas.to_numeric(arb_value))\n",
    "f.plot()"
   ]
  },
  {
   "cell_type": "code",
   "execution_count": 611,
   "metadata": {},
   "outputs": [
    {
     "data": {
      "text/plain": [
       "<matplotlib.axes._subplots.AxesSubplot at 0x143ac20d0>"
      ]
     },
     "execution_count": 611,
     "metadata": {},
     "output_type": "execute_result"
    },
    {
     "data": {
      "image/png": "[encoded data removed]",
      "text/plain": [
       "<Figure size 432x288 with 1 Axes>"
      ]
     },
     "metadata": {
      "needs_background": "light"
     },
     "output_type": "display_data"
    }
   ],
   "source": [
    "o = pandas.Series(pandas.to_numeric(ordersOutstanding))\n",
    "o.plot()"
   ]
  },
  {
   "cell_type": "code",
   "execution_count": null,
   "metadata": {},
   "outputs": [],
   "source": []
  },
  {
   "cell_type": "code",
   "execution_count": 612,
   "metadata": {},
   "outputs": [
    {
     "data": {
      "text/plain": [
       "1.00017554555"
      ]
     },
     "execution_count": 612,
     "metadata": {},
     "output_type": "execute_result"
    }
   ],
   "source": [
    "arb_value[-1]/arb_value[0]"
   ]
  },
  {
   "cell_type": "code",
   "execution_count": 613,
   "metadata": {},
   "outputs": [
    {
     "data": {
      "text/plain": [
       "Decimal('1.000166390173918467456588861')"
      ]
     },
     "execution_count": 613,
     "metadata": {},
     "output_type": "execute_result"
    }
   ],
   "source": [
    "sToken.rateAccumulator"
   ]
  },
  {
   "cell_type": "code",
   "execution_count": 614,
   "metadata": {},
   "outputs": [
    {
     "data": {
      "text/plain": [
       "Decimal('1.000186059700104401460770319')"
      ]
     },
     "execution_count": 614,
     "metadata": {},
     "output_type": "execute_result"
    }
   ],
   "source": [
    "uToken.rateAccumulator"
   ]
  },
  {
   "cell_type": "code",
   "execution_count": 507,
   "metadata": {},
   "outputs": [
    {
     "data": {
      "text/plain": [
       "Decimal('0.033727501488361251126852937')"
      ]
     },
     "execution_count": 507,
     "metadata": {},
     "output_type": "execute_result"
    }
   ],
   "source": [
    "ratesPerBlock[-1]"
   ]
  },
  {
   "cell_type": "code",
   "execution_count": 427,
   "metadata": {},
   "outputs": [
    {
     "data": {
      "text/plain": [
       "True"
      ]
     },
     "execution_count": 427,
     "metadata": {},
     "output_type": "execute_result"
    }
   ],
   "source": [
    "ratesPerBlock[6000] > 0.01"
   ]
  },
  {
   "cell_type": "code",
   "execution_count": 473,
   "metadata": {},
   "outputs": [
    {
     "data": {
      "text/plain": [
       "Decimal('5')"
      ]
     },
     "execution_count": 473,
     "metadata": {},
     "output_type": "execute_result"
    }
   ],
   "source": [
    "abs(Decimal(-5))"
   ]
  },
  {
   "cell_type": "code",
   "execution_count": 474,
   "metadata": {},
   "outputs": [
    {
     "data": {
      "text/plain": [
       "1"
      ]
     },
     "execution_count": 474,
     "metadata": {},
     "output_type": "execute_result"
    }
   ],
   "source": [
    "min(1,2,3)"
   ]
  },
  {
   "cell_type": "code",
   "execution_count": null,
   "metadata": {},
   "outputs": [],
   "source": []
  }
 ],
 "metadata": {
  "kernelspec": {
   "display_name": "Python 3",
   "language": "python",
   "name": "python3"
  },
  "language_info": {
   "codemirror_mode": {
    "name": "ipython",
    "version": 3
   },
   "file_extension": ".py",
   "mimetype": "text/x-python",
   "name": "python",
   "nbconvert_exporter": "python",
   "pygments_lexer": "ipython3",
   "version": "3.7.4"
  }
 },
 "nbformat": 4,
 "nbformat_minor": 2
}
