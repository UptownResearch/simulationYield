{
 "cells": [
  {
   "cell_type": "code",
   "execution_count": 91,
   "metadata": {},
   "outputs": [],
   "source": [
    "class Token:       \n",
    "    def __init__(self):\n",
    "        self.balances = {}\n",
    "        self.totalSupply = 0\n",
    "    \n",
    "    def mint(self, address, amount):\n",
    "        assert(amount > 0)\n",
    "        self.balances[address] = self.balances.get(address, 0) + amount\n",
    "        self.totalSupply += amount\n",
    "    \n",
    "    def balanceOf(self, address):\n",
    "        return self.balances.get(address, 0)\n",
    "    \n",
    "    def transferFrom(self, sender, recipient, amount):\n",
    "        assert(amount >= 0)\n",
    "        if self.balanceOf(sender) >= amount:\n",
    "            self.balances[sender] = self.balances.get(sender, 0) - amount\n",
    "            self.balances[recipient] = self.balances.get(recipient, 0) + amount    \n",
    "            return True\n",
    "        else:\n",
    "            return False"
   ]
  },
  {
   "cell_type": "code",
   "execution_count": 92,
   "metadata": {},
   "outputs": [],
   "source": [
    "token = Token()\n",
    "token.mint(\"A\", 5)\n",
    "assert(token.balanceOf(\"A\") == 5)\n",
    "\n",
    "token.transferFrom(\"A\", \"B\", 3)\n",
    "assert(token.balanceOf(\"B\") == 3)\n",
    "assert(token.balanceOf(\"A\") == 2)\n",
    "\n",
    "token.transferFrom(\"A\", \"C\", 2)\n",
    "assert(token.balanceOf(\"A\") == 0)\n",
    "assert(token.balanceOf(\"C\") == 2)"
   ]
  },
  {
   "cell_type": "code",
   "execution_count": 93,
   "metadata": {},
   "outputs": [],
   "source": [
    "import time \n",
    "import decimal\n",
    "from decimal import Decimal \n",
    "math = decimal.Context()\n",
    "\n",
    "# class InterestToken\n",
    "#  __init__(rate, _rateAccumulator)\n",
    "#  balanceOfUnderlying(address)\n",
    "#  accrueInterest()\n",
    "#  updateRate(update)\n",
    "#  yearlyRate()\n",
    "\n",
    "class blockchain:\n",
    "    \n",
    "    def __init__(self, _timestamp, _block):\n",
    "        self.timestamp = _timestamp\n",
    "        self.block = _block\n",
    "    \n",
    "    def incrementBlock(self):\n",
    "        self.block += 1\n",
    "        self.timestamp += 15\n",
    "    \n",
    "    def updateTimestamp(self, _timestamp):\n",
    "        self.timestamp = _timestamp\n",
    "    \n",
    "    def now(self):\n",
    "        return self.timestamp\n",
    "\n",
    "\n",
    "class InterestToken(Token):\n",
    "    # rate is a yearly rate, converted to a rate compounded per second\n",
    "    def __init__(self, _blockchain, rate, _rateAccumulator):\n",
    "        Token.__init__(self)\n",
    "        self.blockchain = _blockchain\n",
    "        self.lastUpdate = self.blockchain.now()\n",
    "        self.rateAccumulator = _rateAccumulator\n",
    "        # 31622400 is the number of seconds in a year\n",
    "        self.rate = math.power(1 + Decimal(rate), 1/Decimal(31622400))  \n",
    "        \n",
    "    def getCurrentTargetExchangeRate(self):\n",
    "        return self.rateAccumulator\n",
    "        \n",
    "    def accrueInterest(self):\n",
    "        now = self.blockchain.now()\n",
    "        if now > self.lastUpdate:\n",
    "            total_time =  now - self.lastUpdate\n",
    "            self.rateAccumulator = math.power(self.rate, total_time) * self.rateAccumulator\n",
    "            self.lastUpdate = now\n",
    "    \n",
    "    def updateRate(self, update):\n",
    "        newRate = math.power(1 + Decimal(update), 1/Decimal(31622400)) - 1\n",
    "        self.rate = self.rate + newRate\n",
    "        if self.rate < Decimal(1):\n",
    "            self.rate = Decimal(1)\n",
    "    \n",
    "    def yearlyRate(self):\n",
    "        return math.power(self.rate, Decimal(31622400)) - 1"
   ]
  },
  {
   "cell_type": "code",
   "execution_count": 198,
   "metadata": {},
   "outputs": [],
   "source": []
  },
  {
   "cell_type": "code",
   "execution_count": null,
   "metadata": {},
   "outputs": [],
   "source": []
  },
  {
   "cell_type": "code",
   "execution_count": 94,
   "metadata": {},
   "outputs": [],
   "source": [
    "chain = blockchain(0,1)\n",
    "token = InterestToken(chain, .02, 1)\n",
    "token.mint(\"A\", 1000)\n",
    "#token.lastUpdate = token.lastUpdate - 31622400\n",
    "# Note that the per second rates are multiplied, not added\n",
    "token.updateRate(.001)\n",
    "token.updateRate(.001)\n",
    "token.updateRate(-.001)\n",
    "token.updateRate(.001)\n",
    "token.updateRate(.001)\n",
    "#print(token.yearlyRate())\n",
    "chain.updateTimestamp(31622400)\n",
    "token.accrueInterest()\n",
    "assert(int(token.balanceOf(\"A\") * token.getCurrentTargetExchangeRate()) == 1023)"
   ]
  },
  {
   "cell_type": "code",
   "execution_count": 95,
   "metadata": {},
   "outputs": [
    {
     "data": {
      "text/plain": [
       "Decimal('1.000186059700104401460770319')"
      ]
     },
     "execution_count": 95,
     "metadata": {},
     "output_type": "execute_result"
    }
   ],
   "source": [
    "chain = blockchain(1,1)\n",
    "uToken = InterestToken(chain, .04, 1)\n",
    "for x in range(10000):\n",
    "    chain.incrementBlock()\n",
    "    uToken.accrueInterest()\n",
    "\n",
    "uToken.rateAccumulator\n"
   ]
  },
  {
   "cell_type": "code",
   "execution_count": 103,
   "metadata": {},
   "outputs": [],
   "source": [
    "import string\n",
    "\n",
    "# class Queueball: \n",
    "#   __init__(self, _uToken : Token , _sToken : Token)\n",
    "#   sell_underlying_for_synthetic(self, address, amount)\n",
    "#   sell_synthetic_for_underlying(self, address, amount)\n",
    "#   withdraw_underlying(self, address)\n",
    "\n",
    "class Queueball:\n",
    "    def __init__(self, _uToken : Token , _sToken : Token):\n",
    "        self.uToken = _uToken\n",
    "        self.pyToken = _sToken\n",
    "        self.underlying = 0\n",
    "        self.synthetic  = 0\n",
    "        self.address = \"queueball\"\n",
    "        self.book = dict.fromkeys(list(string.ascii_uppercase), []) \n",
    "    \n",
    "    def sell_underlying_for_synthetic(self, sender, amount):\n",
    "        uToken.transferFrom(sender, self.address, amount)\n",
    "        self.underlying += amount\n",
    "        # inflates supply to create new pyTokens\n",
    "        if self.underlying > self.synthetic:\n",
    "            sToken.mint( self.address, self.underlying - self.synthetic)\n",
    "        amount_scaled_to_pyToken = amount / sToken.getCurrentTargetExchangeRate()\n",
    "        sToken.transferFrom(self.address, sender, amount_scaled_to_pyToken)\n",
    "        \n",
    "    def sell_synthetic_for_underlying(self, sender, amount):\n",
    "        sToken.transferFrom(sender, self.address, amount)\n",
    "        amount_scaled_to_underlying = amount * sToken.getCurrentTargetExchangeRate()\n",
    "        self.synthetic += amount_scaled_to_underlying\n",
    "        if self.synthetic > self.underlying:\n",
    "            self.book[sender].append({'amount': amount_scaled_to_underlying, 'height': self.synthetic})\n",
    "        else:\n",
    "            uToken.transferFrom(self.address, sender, amount_scaled_to_underlying)\n",
    "\n",
    "        \n",
    "    def withdraw_underlying(self, sender):\n",
    "        for order in self.book[sender]:\n",
    "            if self.underlying >= order['height']:\n",
    "                uToken.transferFrom(self.address, sender, order['amount'])\n",
    "                self.book[sender].remove(order)\n",
    "    "
   ]
  },
  {
   "cell_type": "code",
   "execution_count": 104,
   "metadata": {},
   "outputs": [],
   "source": [
    "# Test out Queueball\n",
    "chain = blockchain(1,1)\n",
    "uToken = InterestToken(chain, 0,1)\n",
    "sToken = InterestToken(chain, 0,1)\n",
    "queue = Queueball(uToken, sToken)\n",
    "uToken.mint(\"A\", 1000)\n",
    "sToken.mint(\"B\", 1000)\n",
    "\n",
    "# Test 1\n",
    "queue.sell_underlying_for_synthetic(\"A\", 100)\n",
    "queue.sell_synthetic_for_underlying(\"B\", 100)\n",
    "queue.withdraw_underlying(\"A\") # should not do anything\n",
    "queue.withdraw_underlying(\"B\") # should not do anything\n",
    "assert(uToken.balanceOf(\"A\") ==  900)\n",
    "assert(uToken.balanceOf(\"B\") ==  100)\n",
    "assert(sToken.balanceOf(\"A\") ==  100)\n",
    "assert(sToken.balanceOf(\"B\") ==  900)\n",
    "\n",
    "#Test 2\n",
    "queue.sell_underlying_for_synthetic(\"A\", 100)\n",
    "queue.sell_synthetic_for_underlying(\"B\", 150)\n",
    "queue.withdraw_underlying(\"A\") # should not do anything\n",
    "queue.withdraw_underlying(\"B\") # should not do anything\n",
    "assert(uToken.balanceOf(\"A\") ==  800)\n",
    "assert(uToken.balanceOf(\"B\") ==  100)\n",
    "assert(sToken.balanceOf(\"A\") ==  200)\n",
    "assert(sToken.balanceOf(\"B\") ==  750)\n",
    "\n",
    "#Test 3\n",
    "queue.sell_underlying_for_synthetic(\"A\", 100)\n",
    "queue.withdraw_underlying(\"B\")\n",
    "queue.withdraw_underlying(\"A\") \n",
    "\n",
    "assert(uToken.balanceOf(\"A\") ==  700)\n",
    "assert(uToken.balanceOf(\"B\") ==  250)\n",
    "assert(sToken.balanceOf(\"A\") ==  300)\n",
    "assert(sToken.balanceOf(\"B\") ==  750)"
   ]
  },
  {
   "cell_type": "code",
   "execution_count": 124,
   "metadata": {},
   "outputs": [
    {
     "name": "stdout",
     "output_type": "stream",
     "text": [
      "3.181435529421500642797350854\n"
     ]
    }
   ],
   "source": [
    "# Test out Queueball\n",
    "chain = blockchain(1,1)\n",
    "uToken = InterestToken(chain, 0,1)\n",
    "sToken = InterestToken(chain, 0.04,1)\n",
    "queue = Queueball(uToken, sToken)\n",
    "uToken.mint(\"A\", 1000)\n",
    "sToken.mint(\"B\", 1000)\n",
    "\n",
    "#Test 2\n",
    "queue.sell_synthetic_for_underlying(\"B\", 150)\n",
    "timestamp = chain.now()\n",
    "chain.updateTimestamp( timestamp + 60*60*24*30*360)\n",
    "sToken.accrueInterest()\n",
    "queue.sell_underlying_for_synthetic(\"A\", 150)\n",
    "queue.withdraw_underlying(\"B\")\n",
    "assert(uToken.balanceOf(\"B\") ==  150)\n",
    "assert(sToken.balanceOf(\"B\") ==  850)\n",
    "\n",
    "assert(uToken.balanceOf(\"A\") ==  850)\n",
    "assert(sToken.balanceOf(\"A\") == 150 / sToken.getCurrentTargetExchangeRate() )\n",
    "queue.sell_underlying_for_synthetic(\"A\", 850)\n",
    "queue.sell_synthetic_for_underlying(\"B\", 50)\n",
    "print(sToken.getCurrentTargetExchangeRate())\n",
    "assert(uToken.balanceOf(\"B\") ==  150 + 50 * sToken.getCurrentTargetExchangeRate())\n"
   ]
  },
  {
   "cell_type": "code",
   "execution_count": 125,
   "metadata": {},
   "outputs": [],
   "source": [
    "# Further Test out Queueball\n",
    "chain = blockchain(1,1)\n",
    "uToken = InterestToken(chain, 0,1)\n",
    "sToken = InterestToken(chain, 0,1)\n",
    "queue = Queueball(uToken, sToken)\n",
    "uToken.mint(\"C\", 1000)\n",
    "uToken.mint(\"D\", 1000)\n",
    "uToken.mint(\"E\", 1000)\n",
    "sToken.mint(\"C\", 1000)\n",
    "sToken.mint(\"D\", 1000)\n",
    "sToken.mint(\"E\", 1000)\n",
    "# You can permute the following in any order and the tests should still pass\n",
    "\n",
    "queue.sell_underlying_for_synthetic(\"C\", 100)\n",
    "queue.sell_underlying_for_synthetic(\"E\", 200)\n",
    "queue.sell_underlying_for_synthetic(\"D\", 200)\n",
    "queue.sell_synthetic_for_underlying(\"D\", 300)\n",
    "queue.sell_underlying_for_synthetic(\"E\", 300)\n",
    "queue.sell_synthetic_for_underlying(\"E\", 100)\n",
    "queue.sell_synthetic_for_underlying(\"E\", 400)\n",
    "\n",
    "#######\n",
    "queue.withdraw_underlying(\"C\")\n",
    "queue.withdraw_underlying(\"D\")\n",
    "queue.withdraw_underlying(\"E\")\n",
    "assert(uToken.balanceOf(\"C\") ==  900)\n",
    "assert(uToken.balanceOf(\"D\") ==  1100)\n",
    "assert(uToken.balanceOf(\"E\") ==  1000)\n",
    "assert(sToken.balanceOf(\"C\") ==  1100)\n",
    "assert(sToken.balanceOf(\"D\") ==  900)\n",
    "assert(sToken.balanceOf(\"E\") ==  1000)"
   ]
  },
  {
   "cell_type": "markdown",
   "metadata": {},
   "source": [
    "## Simulate"
   ]
  },
  {
   "cell_type": "code",
   "execution_count": 607,
   "metadata": {},
   "outputs": [],
   "source": []
  },
  {
   "cell_type": "code",
   "execution_count": null,
   "metadata": {},
   "outputs": [],
   "source": []
  },
  {
   "cell_type": "code",
   "execution_count": null,
   "metadata": {},
   "outputs": [],
   "source": []
  },
  {
   "cell_type": "code",
   "execution_count": null,
   "metadata": {},
   "outputs": [],
   "source": []
  },
  {
   "cell_type": "code",
   "execution_count": null,
   "metadata": {},
   "outputs": [],
   "source": []
  },
  {
   "cell_type": "code",
   "execution_count": null,
   "metadata": {},
   "outputs": [],
   "source": []
  },
  {
   "cell_type": "code",
   "execution_count": 612,
   "metadata": {},
   "outputs": [
    {
     "data": {
      "text/plain": [
       "1.00017554555"
      ]
     },
     "execution_count": 612,
     "metadata": {},
     "output_type": "execute_result"
    }
   ],
   "source": []
  },
  {
   "cell_type": "code",
   "execution_count": 613,
   "metadata": {},
   "outputs": [
    {
     "data": {
      "text/plain": [
       "Decimal('1.000166390173918467456588861')"
      ]
     },
     "execution_count": 613,
     "metadata": {},
     "output_type": "execute_result"
    }
   ],
   "source": []
  },
  {
   "cell_type": "code",
   "execution_count": 614,
   "metadata": {},
   "outputs": [
    {
     "data": {
      "text/plain": [
       "Decimal('1.000186059700104401460770319')"
      ]
     },
     "execution_count": 614,
     "metadata": {},
     "output_type": "execute_result"
    }
   ],
   "source": []
  },
  {
   "cell_type": "code",
   "execution_count": 507,
   "metadata": {},
   "outputs": [
    {
     "data": {
      "text/plain": [
       "Decimal('0.033727501488361251126852937')"
      ]
     },
     "execution_count": 507,
     "metadata": {},
     "output_type": "execute_result"
    }
   ],
   "source": []
  },
  {
   "cell_type": "code",
   "execution_count": 427,
   "metadata": {},
   "outputs": [
    {
     "data": {
      "text/plain": [
       "True"
      ]
     },
     "execution_count": 427,
     "metadata": {},
     "output_type": "execute_result"
    }
   ],
   "source": []
  },
  {
   "cell_type": "code",
   "execution_count": 473,
   "metadata": {},
   "outputs": [
    {
     "data": {
      "text/plain": [
       "Decimal('5')"
      ]
     },
     "execution_count": 473,
     "metadata": {},
     "output_type": "execute_result"
    }
   ],
   "source": []
  },
  {
   "cell_type": "code",
   "execution_count": 474,
   "metadata": {},
   "outputs": [
    {
     "data": {
      "text/plain": [
       "1"
      ]
     },
     "execution_count": 474,
     "metadata": {},
     "output_type": "execute_result"
    }
   ],
   "source": []
  },
  {
   "cell_type": "code",
   "execution_count": null,
   "metadata": {},
   "outputs": [],
   "source": []
  }
 ],
 "metadata": {
  "kernelspec": {
   "display_name": "Python 3",
   "language": "python",
   "name": "python3"
  },
  "language_info": {
   "codemirror_mode": {
    "name": "ipython",
    "version": 3
   },
   "file_extension": ".py",
   "mimetype": "text/x-python",
   "name": "python",
   "nbconvert_exporter": "python",
   "pygments_lexer": "ipython3",
   "version": "3.7.4"
  }
 },
 "nbformat": 4,
 "nbformat_minor": 2
}
