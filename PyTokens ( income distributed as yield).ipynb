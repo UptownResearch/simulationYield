{
 "cells": [
  {
   "cell_type": "code",
   "execution_count": 1,
   "metadata": {},
   "outputs": [],
   "source": [
    "from decimal import Decimal\n",
    "import time \n",
    "import decimal\n",
    "math = decimal.Context()\n",
    "import numpy \n",
    "import random\n",
    "%matplotlib inline\n",
    "import matplotlib\n",
    "import pandas"
   ]
  },
  {
   "cell_type": "code",
   "execution_count": 2,
   "metadata": {},
   "outputs": [],
   "source": [
    "class Token:       \n",
    "    def __init__(self, _name = \"\"):\n",
    "        self.balances = {}\n",
    "        self.totalSupply = 0\n",
    "        self._name = _name\n",
    "    \n",
    "    def mint(self, address, amount):\n",
    "        assert(amount > 0)\n",
    "        self.balances[address] = self.balances.get(address, 0) + amount\n",
    "        self.totalSupply += amount\n",
    "        return True\n",
    "        \n",
    "    def burn(self, address, amount):\n",
    "        assert(amount > 0)\n",
    "        if self.balances[address] < amount:\n",
    "            raise Exception(\"burn: Cannot burn more value than present at address. Requested: {} Available: {}\".format(amount, self.balances[address]))\n",
    "        self.balances[address] = self.balances.get(address, 0) - amount\n",
    "        self.totalSupply -= amount\n",
    "        return True\n",
    "    \n",
    "    def balanceOf(self, address):\n",
    "        return self.balances.get(address, 0)\n",
    "    \n",
    "    def name(self):\n",
    "        return self._name\n",
    "    \n",
    "    def transferFrom(self, sender, recipient, amount):\n",
    "        assert(amount >= 0)\n",
    "        # always round\n",
    "        if self.balanceOf(sender) >= amount:\n",
    "            self.balances[sender] = self.balances.get(sender, 0) - amount\n",
    "            self.balances[recipient] = self.balances.get(recipient, 0) + amount    \n",
    "            return True\n",
    "        else:\n",
    "            raise Exception(\"transferFrom: Cannot transfer more than balance\")"
   ]
  },
  {
   "cell_type": "code",
   "execution_count": 3,
   "metadata": {},
   "outputs": [],
   "source": [
    "# Basic test of Token class\n",
    "\n",
    "token = Token()\n",
    "token.mint(\"A\", 5)\n",
    "assert(token.balanceOf(\"A\") == 5)\n",
    "\n",
    "token.transferFrom(\"A\", \"B\", 3)\n",
    "assert(token.balanceOf(\"B\") == 3)\n",
    "assert(token.balanceOf(\"A\") == 2)\n",
    "\n",
    "token.transferFrom(\"A\", \"C\", 2)\n",
    "assert(token.balanceOf(\"A\") == 0)\n",
    "assert(token.balanceOf(\"C\") == 2)"
   ]
  },
  {
   "cell_type": "code",
   "execution_count": 4,
   "metadata": {},
   "outputs": [],
   "source": [
    "class blockchain:\n",
    "    \n",
    "    def __init__(self, _timestamp, _block):\n",
    "        self.timestamp = _timestamp\n",
    "        self.block = _block\n",
    "    \n",
    "    def incrementBlock(self):\n",
    "        self.block += 1\n",
    "        self.timestamp += 15\n",
    "    \n",
    "    def updateTimestamp(self, _timestamp):\n",
    "        self.timestamp = _timestamp\n",
    "    \n",
    "    def now(self):\n",
    "        return self.timestamp\n",
    "\n",
    "\n",
    "class InterestToken(Token):\n",
    "    # rate is a yearly rate, converted to a rate compounded per second\n",
    "    def __init__(self, _name, _blockchain, rate, _rateAccumulator):\n",
    "        Token.__init__(self, _name)\n",
    "        self.blockchain = _blockchain\n",
    "        self.lastUpdate = self.blockchain.now()\n",
    "        self.rateAccumulator = _rateAccumulator\n",
    "        # 31622400 is the number of seconds in a year\n",
    "        self.rate = math.power(1 + Decimal(rate), 1/Decimal(31622400))  \n",
    "        self.interestRateLimit = math.power(1 + Decimal(2), 1/Decimal(31622400)) \n",
    "    \n",
    "    def balanceOfUnderlying(self, address):\n",
    "        return self.balanceOf(address) * self.rateAccumulator\n",
    "    \n",
    "    def transferUnderlying(self, sender, recipient, amount):\n",
    "        value = amount / self.rateAccumulator\n",
    "        return self.transferFrom(sender, recipient, value)\n",
    "    \n",
    "    def totalSupplyUnderlying(self):\n",
    "        return self.totalSupply * self.rateAccumulator\n",
    "        \n",
    "    def accrueInterest(self):\n",
    "        now = self.blockchain.now()\n",
    "        if now > self.lastUpdate:\n",
    "            total_time =  now - self.lastUpdate\n",
    "            self.rateAccumulator = math.power(self.rate, total_time) * self.rateAccumulator\n",
    "            self.lastUpdate = now\n",
    "    \n",
    "    def updateRate(self, update):\n",
    "        print(\"Using old updateRate for some reason!\")\n",
    "        newRate = math.power(1 + Decimal(update), 1/Decimal(31622400)) - 1\n",
    "        self.rate = self.rate + newRate\n",
    "        if self.rate < Decimal(1):\n",
    "            self.rate = Decimal(1)\n",
    "        if self.rate > self.interestRateLimit:\n",
    "            self.rate = self.interestRateLimit\n",
    "    \n",
    "    def yearlyRate(self):\n",
    "        return math.power(self.rate, Decimal(31622400)) - 1\n",
    "    \n",
    "    def mintInUnderlying(self, address, amount):\n",
    "        return self.mint(address, amount/self.rateAccumulator)\n",
    "        \n",
    "    def burnInUnderlying(self, address, amount):\n",
    "        return self.burn(address, amount/self.rateAccumulator)"
   ]
  },
  {
   "cell_type": "code",
   "execution_count": 5,
   "metadata": {},
   "outputs": [],
   "source": [
    "# Basic tests of Interest Token Class\n",
    "\n",
    "chain = blockchain(0,1)\n",
    "token = InterestToken(\"Token\", chain, .02, 1)\n",
    "token.mint(\"A\", 1000)\n",
    "#token.lastUpdate = token.lastUpdate - 31622400\n",
    "chain.updateTimestamp(31622400)\n",
    "token.accrueInterest()\n",
    "token.balanceOfUnderlying(\"A\")\n",
    "assert(int(token.balanceOfUnderlying(\"A\")) == 1020)"
   ]
  },
  {
   "cell_type": "code",
   "execution_count": 6,
   "metadata": {},
   "outputs": [
    {
     "name": "stdout",
     "output_type": "stream",
     "text": [
      "Using old updateRate for some reason!\n",
      "Using old updateRate for some reason!\n",
      "Using old updateRate for some reason!\n",
      "Using old updateRate for some reason!\n",
      "Using old updateRate for some reason!\n"
     ]
    }
   ],
   "source": [
    "chain = blockchain(0,1)\n",
    "token = InterestToken(\"Token\", chain, .02, 1)\n",
    "token.mint(\"A\", 1000)\n",
    "#token.lastUpdate = token.lastUpdate - 31622400\n",
    "# Note that the per second rates are multiplied, not added\n",
    "token.updateRate(.001)\n",
    "token.updateRate(.001)\n",
    "token.updateRate(-.001)\n",
    "token.updateRate(.001)\n",
    "token.updateRate(.001)\n",
    "#print(token.yearlyRate())\n",
    "chain.updateTimestamp(31622400)\n",
    "#print(token.rate)\n",
    "token.accrueInterest()\n",
    "assert(int(token.balanceOfUnderlying(\"A\")) == 1023)"
   ]
  },
  {
   "cell_type": "code",
   "execution_count": 7,
   "metadata": {},
   "outputs": [],
   "source": [
    "\n",
    "# class QX:\n",
    "#  mint(address, amount):\n",
    "#  redeem(address, amount):\n",
    "#   measureRatio(self)\n",
    "#\n",
    "class QX:\n",
    "    def __init__(self, _uToken : Token , _sToken : Token):\n",
    "        self.uToken = _uToken\n",
    "        self.pyToken = _sToken\n",
    "        self.underlying = Decimal('0')\n",
    "        self.synthetic  = Decimal('0')   # denominated in pyTokens\n",
    "        self.address = '0xQX_' + _uToken.name()\n",
    "        self.book = dict()\n",
    "\n",
    "    def mint(self, address, amount):\n",
    "        if amount < 0:\n",
    "            raise Exception(\"mint: Cannot sell a negative amount. Amount: {}\".format(amount))\n",
    "        result = self.uToken.transferFrom(address, self.address, amount)\n",
    "        if result:\n",
    "            self.underlying += amount\n",
    "            result = self.pyToken.mintInUnderlying( self.address, amount)\n",
    "            if not result:\n",
    "                raise Exception(\"mint: Minting pyTokens failed. Amount: {}\".format(amount))\n",
    "            result = self.pyToken.transferUnderlying(self.address, address, amount)\n",
    "            if not result:\n",
    "                raise Exception(\"mint: Token transfer out failed. Amount: {}\".format(amount))\n",
    "        else:\n",
    "            raise Exception(\"mint: Token transfer in failed. Amount: {}\".format(amount))\n",
    "    \n",
    "    def redeem(self, address, amount):\n",
    "        if amount < 0:\n",
    "            raise Exception(\"redeem: Cannot redeem a negative amount. Amount: {}\".format(amount))\n",
    "        if self.underlying < amount:\n",
    "            raise Exception(\"redeem: Cannot withdraw more than available in reserves\")\n",
    "        result = self.pyToken.burnInUnderlying(address, amount)\n",
    "        if result:\n",
    "            outResult = self.uToken.transferFrom(self.address, address, amount)\n",
    "            if not outResult:\n",
    "                raise Exception(\"redeem: Token transfer out failed\")\n",
    "            self.underlying -= amount\n",
    "        else:\n",
    "            raise Exception(\"redeem: Token transfer in failed. Amount: {}\".format(amount))\n",
    "    \n",
    "    \n",
    "    def measureRatio(self):\n",
    "        try:\n",
    "            if self.underlying <= 0:\n",
    "                return Decimal('0')\n",
    "            return Decimal(self.underlying) / Decimal(self.pyToken.getTotalDebt() + self.underlying)\n",
    "        except Exception as e:\n",
    "            print(\"underlying: {} TotalDebt:{}\".format(self.underlying, self.pyToken.getTotalDebt()))\n",
    "            raise e\n",
    "    "
   ]
  },
  {
   "cell_type": "code",
   "execution_count": null,
   "metadata": {},
   "outputs": [],
   "source": []
  },
  {
   "cell_type": "code",
   "execution_count": null,
   "metadata": {},
   "outputs": [],
   "source": []
  },
  {
   "cell_type": "code",
   "execution_count": 8,
   "metadata": {},
   "outputs": [],
   "source": [
    "class Oracle:\n",
    "    def __init__(self, _tokenA, _tokenB):\n",
    "        self.tokenA = _tokenA\n",
    "        self.tokenB = _tokenB\n",
    "        # Price is stored in terms of TokenB\n",
    "        self.price = 0 \n",
    "    \n",
    "    # Assumes price is in terms of Token B\n",
    "    def currentPrice(self):\n",
    "        return self.price\n",
    "    \n",
    "    # Assumes price is in terms of Token B\n",
    "    def setPrice(self, price):\n",
    "        self.price = price\n",
    "        \n",
    "    def setPriceInToken(self, token, price):\n",
    "        if token == self.tokenA:\n",
    "            self.price = 1 / price\n",
    "        else:\n",
    "            self.price = price\n",
    "            \n",
    "    def getPriceInToken(self, token):\n",
    "        if token == self.tokenA:\n",
    "            return Decimal('1') /self.price\n",
    "        else:     \n",
    "            return self.price"
   ]
  },
  {
   "cell_type": "code",
   "execution_count": 9,
   "metadata": {},
   "outputs": [],
   "source": [
    "# Simple Test of Oracle\n",
    "ETH = Token(\"ETH\")\n",
    "DAI = Token(\"DAI\")\n",
    "oracle = Oracle(ETH, DAI)\n",
    "oracle.setPriceInToken(DAI, Decimal('100'))\n",
    "assert(oracle.getPriceInToken(DAI) == Decimal('100'))\n",
    "assert(oracle.getPriceInToken(ETH) == (Decimal('1')/Decimal('100')))"
   ]
  },
  {
   "cell_type": "code",
   "execution_count": 10,
   "metadata": {},
   "outputs": [],
   "source": [
    "# Issues:\n",
    "# 1. it is possible to pay out more pyTokens that is offset by debt\n",
    "\n",
    "\n",
    "class pyToken (InterestToken):\n",
    "    def __init__(self, _blockchain, _underlying : Token, _oracle):  \n",
    "        super().__init__(\"\", _blockchain, Decimal('0'), Decimal('1'))\n",
    "        self.underlying = _underlying\n",
    "        self._name = \"py\" + self.underlying.name()\n",
    "        self.cdp = {self.underlying.name(): {}}\n",
    "        self.tokens = {}\n",
    "        self.address = '0x' + self.name()\n",
    "        # oracle for the pyToken <> pyToken pair\n",
    "        self.oracle = _oracle\n",
    "        self.qx = 0\n",
    "        self.interestUpdateAmount = Decimal('0.0001')\n",
    "        self.collateralizationRatio = Decimal('1.7')\n",
    "        self.debtAccumulator = self.rateAccumulator\n",
    "        self.debtRate = Decimal('1.0')\n",
    "        # totalDebt is normalized by the debtAccumulator\n",
    "        self.totalDebt = Decimal('0.0')\n",
    "        # bonus factor when liquidating\n",
    "        self.bonus = Decimal('1.1')\n",
    "        self.reservesTarget = Decimal('0.3')\n",
    "        self.adjustmentFreeWindow = Decimal('0.1')\n",
    "        # minimumSpread may be deprecated\n",
    "        self.minimumSpread = Decimal('0.1')\n",
    "        self.borrowFee = Decimal('0.1')\n",
    "        self.totalFeeIncome = Decimal('0.0')\n",
    "        self.impliedRate = Decimal('1.0')\n",
    "        \n",
    "    # Admin Functions\n",
    "    def setPair(self, _pairedpyToken : InterestToken):\n",
    "        self.pairedpyToken = _pairedpyToken  \n",
    "        self.tokens[self.pairedpyToken.name()] = self.pairedpyToken\n",
    "        self.cdp[self.pairedpyToken.name()] = {}\n",
    "        \n",
    "    def setQueueExchange(self,exchange):\n",
    "        self.qx = exchange\n",
    "        \n",
    "    def addCollateralType(self, token, oracle):\n",
    "        self.tokens[token.name()] = { 'token':token, 'oracle':oracle }\n",
    "        self.cdp[token.name()] = {}\n",
    "    \n",
    "    # User Functions\n",
    "    def addCollateral(self, token, address, amount):\n",
    "        if token not in self.tokens.keys():\n",
    "            return False\n",
    "        result = self.tokens[token]['token'].transferFrom(address, self.address, amount)\n",
    "        if result:\n",
    "            if address not in self.cdp[token]:\n",
    "                self.cdp[token][address] = {'amount':amount, 'debt':Decimal('0')}\n",
    "            else:\n",
    "                self.cdp[token][address]['amount'] += amount\n",
    "        else:\n",
    "            return False\n",
    "      \n",
    "    def withdrawCollateral(self, token, address, amount):\n",
    "        if token not in self.tokens.keys():\n",
    "            return False\n",
    "        # check oracle price\n",
    "        price = self.oracle.currentPrice()\n",
    "        minimumCollateral = self.oracle.currentPrice() * self.collateralizationRatio * \\\n",
    "                            (self.cdp[token][address]['debt'] * self.debtAccumulator - amount)\n",
    "        if self.cdp[token][address]['amount'] < minimumCollateral:\n",
    "            raise Exception(\"withdrawCollateral: Insufficient free capital to withdraw\")\n",
    "        result = self.tokens[token].transferFrom(self.address, address, amount)\n",
    "        if result:\n",
    "            self.cdp[token][address]['amount'] = self.cdp[token][address]['amount'] - amount\n",
    "    \n",
    "    # accrue for both debt and interest\n",
    "    def accrueInterest(self):\n",
    "        now = self.blockchain.now()\n",
    "        if now > self.lastUpdate:\n",
    "            total_time =  now - self.lastUpdate\n",
    "            accumulatedDebtInterestMultiplier = math.power(self.debtRate, total_time)\n",
    "            self.debtAccumulator = accumulatedDebtInterestMultiplier * self.debtAccumulator\n",
    "            # pay interest out to hodlers\n",
    "            newDebt = (accumulatedDebtInterestMultiplier - Decimal('1')) * (self.totalDebt * self.debtAccumulator)\n",
    "            # self.rateAccumulator = math.power(self.rate, total_time) * self.rateAccumulator\n",
    "            feeIncome = newDebt * self.borrowFee\n",
    "            self.totalFeeIncome += feeIncome\n",
    "            totalPyTokens = self.totalSupply * self.rateAccumulator\n",
    "            if self.totalSupply > Decimal('0'):\n",
    "                self.rateAccumulator = ((newDebt - feeIncome) + totalPyTokens)/self.totalSupply\n",
    "                self.impliedRate = math.power(((newDebt - feeIncome) + totalPyTokens)/totalPyTokens, Decimal(1)/Decimal(total_time))\n",
    "            else:\n",
    "                self.rateAccumulator = Decimal('1')\n",
    "            self.lastUpdate = now\n",
    "    \n",
    "    def yearlyRate(self):\n",
    "        return math.power(self.impliedRate, Decimal(31622400)) - 1\n",
    "    \n",
    "    # updateRate for both debt and interest\n",
    "    # this contract implicity assumes that this is called every block\n",
    "    def updateRate(self, update):\n",
    "        #newRate = math.power(1 + Decimal(update), 1/Decimal(31622400)) - 1\n",
    "        newRate = math.power(1 + Decimal(update), 1/Decimal(31622400)) \n",
    "        self.debtRate = self.debtRate * newRate\n",
    "        if self.debtRate < Decimal(1):\n",
    "            self.debtRate = Decimal(1)\n",
    "        if self.debtRate > self.interestRateLimit:\n",
    "            self.debtRate = self.interestRateLimit\n",
    "        if self.totalDebt == 0:\n",
    "            print(\"Reseting Rates\")\n",
    "            self.debtRate = Decimal(1)\n",
    "            self.rate = Decimal(1)\n",
    "            return\n",
    "        \n",
    "        # To-DO:\n",
    "        # Update rate to be equal to rate = (debt*debtRate - fees)/(debt + reserveRatioTarget * debt)\n",
    "        \n",
    "        #calculate pyToken rate. The \"1\" in the denominator is to avoid divide by zero. Can we do this better?\n",
    "        #debt = self.getTotalDebt()\n",
    "        #self.rate = Decimal(1) + ((self.debtRate-1) * debt - self.minimumSpread)/(1 + (debt + debt*self.reservesTarget))\n",
    "        #if self.rate < Decimal(1):\n",
    "        #    self.rate = Decimal(1)\n",
    "\n",
    "    def yearlyDebtRate(self):\n",
    "        return math.power(self.debtRate, Decimal(31622400)) - 1\n",
    "    \n",
    "    def getTotalDebt(self):\n",
    "        return self.totalDebt * self.debtAccumulator\n",
    "    \n",
    "    def getCollateral(self, token, address):\n",
    "        return self.cdp[token][address]['amount'] \n",
    "    \n",
    "    def getDebt(self, token, address):\n",
    "        return self.cdp[token][address]['debt'] \n",
    "    \n",
    "    def debtInUnderlying(self, token, address):\n",
    "        return self.cdp[token][address]['debt'] * self.debtAccumulator\n",
    "    \n",
    "    # borrow against a particular tokens worth of collateral\n",
    "    def borrow(self, token, address, amount):\n",
    "        if token not in self.tokens.keys():\n",
    "            raise Exception(\"Borrow: Token not found\")\n",
    "        if amount < 0:\n",
    "            raise Exception(\"Borrow: Cannot borrow negative amounts\")\n",
    "            self.tokens[token.name()] = { 'token':token, 'oracle':oracle }\n",
    "        price = self.tokens[token]['oracle'].getPriceInToken(self.underlying)\n",
    "        minimumCollateral = ( 1 / price) * self.collateralizationRatio * \\\n",
    "                            (self.cdp[token][address]['debt'] * self.debtAccumulator + amount)\n",
    "        if self.cdp[token][address]['amount'] < minimumCollateral:\n",
    "            raise Exception(\"Borrow: Insufficient collateral Available: {} Minimum Needed: {}\".format(self.cdp[token][address]['amount'], minimumCollateral))\n",
    "        # Add debt\n",
    "        self.cdp[token][address]['debt'] = self.cdp[token][address]['debt'] + Decimal(amount) / self.debtAccumulator\n",
    "        # Add borrow\n",
    "        self.mintInUnderlying(address, amount)\n",
    "        self.totalDebt += Decimal(amount) / self.debtAccumulator\n",
    "        try:\n",
    "            assert(self.balanceOfUnderlying(address) >= amount)\n",
    "        except:     \n",
    "            print(\"amount minted: {} balance: {}\".format(amount, self.balanceOfUnderlying(address)))\n",
    "        \n",
    "    def maximumBorrow(self, token, address):\n",
    "        price = self.tokens[token]['oracle'].getPriceInToken(self.underlying)\n",
    "        maximumBorrow = self.cdp[token][address]['amount'] * price * \\\n",
    "                         (1 / self.collateralizationRatio) \n",
    "        return maximumBorrow\n",
    "    \n",
    "\n",
    "       \n",
    "    def liquidate(self, token, addressToLiquidate, LiquidatorAddress, amount):\n",
    "        price = self.tokens[token]['oracle'].getPriceInToken(self.underlying)\n",
    "        maximumBorrow = self.maximumBorrow(token, addressToLiquidate)\n",
    "        debt = self.debtInUnderlying(token, addressToLiquidate)\n",
    "        if maximumBorrow < debt:\n",
    "            # We need to liquidate\n",
    "            if amount < debt:\n",
    "                raise Exception(\"liquidate: Must liquidate entire CDP at once\")\n",
    "            availableFunds = self.balanceOfUnderlying(LiquidatorAddress)\n",
    "            if availableFunds < amount:\n",
    "                raise Exception(\"liquidate: Insufficient funds to liquidate\")\n",
    "            \n",
    "            collateralToLiquidator = debt*self.bonus/price\n",
    "            if collateralToLiquidator > self.cdp[token][addressToLiquidate]['amount']:\n",
    "                raise Exception(\"liquidate: CDP liquidated while undercollateralized. Owed to Liquidator: {} Available: {}\".format(collateralToLiquidator, self.cdp[token][addressToLiquidate]['amount']))\n",
    "            # Only burn amount of debt--it's possible to specify more than debt and have liquidate succeed\n",
    "            self.burn(LiquidatorAddress, self.getDebt(token, addressToLiquidate))\n",
    "            # Transfer liquidated funds to Liquidator\n",
    "            self.tokens[token]['token'].transferFrom(self.address, LiquidatorAddress, collateralToLiquidator)\n",
    "            # Debit CDP account \n",
    "            self.cdp[token][addressToLiquidate]['amount'] -= collateralToLiquidator\n",
    "            # Wipe Debt\n",
    "            self.cdp[token][addressToLiquidate]['debt'] = 0\n",
    "            self.totalDebt -= Decimal(amount) / self.debtAccumulator\n",
    "        else:\n",
    "            raise Exception(\"liquidate: Cannot liquidate a working CDP\")\n",
    "        \n",
    "    # Position in a particular collateral token\n",
    "    def position(self, token, address):\n",
    "        return self.cdp[token][address]\n",
    "    \n",
    "    def repay(self, token, address, amount):\n",
    "        if token not in self.tokens.keys():\n",
    "            return False\n",
    "        if amount < 0:\n",
    "            return False        \n",
    "        if amount > self.debtInUnderlying(token, address):\n",
    "            raise Exception(\"repay: Cannot repay more than available debt\")\n",
    "        if amount > self.balanceOfUnderlying(address):\n",
    "            raise Exception(\"repay: Must have sufficient funds to repay.\")\n",
    "        # Decrease debt\n",
    "        result = self.burnInUnderlying(address, amount)\n",
    "        if not result:\n",
    "            raise Exception(\"repay: Burn Tokens failed\")\n",
    "        self.cdp[token][address]['debt'] = self.cdp[token][address]['debt'] - Decimal(amount) / self.debtAccumulator\n",
    "        self.totalDebt -= Decimal(amount) / self.debtAccumulator\n",
    "        assert(self.cdp[token][address]['debt'] >= 0)\n",
    "        \n",
    "    def updateRates(self):\n",
    "        if self.totalSupply == 0:\n",
    "            return\n",
    "        imbalance = self.qx.measureRatio()    \n",
    "        if imbalance > self.reservesTarget:\n",
    "            # lower interest rate\n",
    "            self.updateRate(-self.interestUpdateAmount)\n",
    "        elif imbalance < self.reservesTarget - self.adjustmentFreeWindow:\n",
    "            # raise interest rate\n",
    "            self.updateRate(self.interestUpdateAmount)\n",
    "    \n",
    "        \n",
    "        "
   ]
  },
  {
   "cell_type": "code",
   "execution_count": 11,
   "metadata": {},
   "outputs": [
    {
     "name": "stdout",
     "output_type": "stream",
     "text": [
      "1.089910089910089989391554706\n"
     ]
    },
    {
     "data": {
      "text/plain": [
       "Decimal('-1')"
      ]
     },
     "execution_count": 11,
     "metadata": {},
     "output_type": "execute_result"
    }
   ],
   "source": [
    "debtRate = Decimal(1.1)\n",
    "totalDebt = Decimal(1000)\n",
    "minimumSpread = Decimal(.1)\n",
    "totalSupply = Decimal(1000)\n",
    "\n",
    "rate = Decimal(1) + ((debtRate-1) * totalDebt * (1 - minimumSpread))/(1 + totalSupply)\n",
    "print(rate)\n",
    "-Decimal('1')"
   ]
  },
  {
   "cell_type": "code",
   "execution_count": 12,
   "metadata": {},
   "outputs": [],
   "source": [
    "# Basic test of pyToken class\n",
    "\n",
    "chain = blockchain(1,1)\n",
    "BAT = Token(\"BAT\")\n",
    "DAI = Token(\"DAI\")\n",
    "oracleA = Oracle(BAT, DAI)\n",
    "\n",
    "collateral = Token(\"Collateral\")\n",
    "oracleC = Oracle(collateral, BAT)\n",
    "oracleC.setPrice(Decimal(1000000))\n",
    "pyBAT = pyToken(chain, BAT, oracleA)\n",
    "pyBAT.addCollateralType(collateral, oracleC)\n",
    "qx = QX(BAT , pyBAT)\n",
    "pyBAT.setQueueExchange(qx)\n",
    "\n",
    "oracleC.setPrice(Decimal(1000))\n",
    "BAT.mint(\"A\", Decimal('1000'))\n",
    "collateral.mint(\"B\", Decimal('1000'))\n",
    "pyBAT.addCollateral(\"Collateral\", \"B\", Decimal('100'))\n",
    "pyBAT.borrow(\"Collateral\", \"B\", Decimal('10'))\n",
    "pyBAT.repay(\"Collateral\", \"B\", Decimal('10'))\n",
    "pyBAT.borrow(\"Collateral\", \"B\", Decimal('10'))\n",
    "assert(pyBAT.balanceOf(\"B\") == Decimal('10'))\n"
   ]
  },
  {
   "cell_type": "code",
   "execution_count": 13,
   "metadata": {},
   "outputs": [],
   "source": [
    "# Liquidation Test\n",
    "oracleC.getPriceInToken(collateral)\n",
    "debt = pyBAT.debtInUnderlying(\"Collateral\", \"B\")\n",
    "maxBorrow = pyBAT.maximumBorrow(\"Collateral\", \"B\")\n",
    "pyBAT.borrow(\"Collateral\", \"B\", maxBorrow-debt)\n",
    "# Now make repo undercollateralized\n",
    "oracleC.setPriceInToken(BAT, Decimal(900))\n",
    "pyBAT.mint(\"A\", Decimal('100000'))\n",
    "pyBAT.liquidate(\"Collateral\", \"B\", \"A\", pyBAT.debtInUnderlying(\"Collateral\", \"B\"))\n",
    "assert(pyBAT.debtInUnderlying(\"Collateral\", \"B\") == Decimal('0'))\n",
    "assert(collateral.balanceOf(\"A\") == Decimal('71.89542483660130718954248367'))\n",
    "assert(pyBAT.getCollateral(\"Collateral\", \"B\") + collateral.balanceOf(\"A\") == Decimal('100.0000000000000000000000000'))"
   ]
  },
  {
   "cell_type": "code",
   "execution_count": 14,
   "metadata": {},
   "outputs": [],
   "source": [
    "# External market that provides \"infinite\" liquidity\n",
    "class ReferenceExchange:\n",
    "    def __init__(self):\n",
    "        self.tokenPairs = {}\n",
    "        self.address = \"0xReferenceExchange\"\n",
    "    \n",
    "    # Add pair. The price is the number of tokenB per tokenA\n",
    "    def addPair(self, tokenA, tokenB):\n",
    "        firstToken = tokenB.name()\n",
    "        secondToken = tokenA.name()\n",
    "        if tokenA.name() > tokenB.name():\n",
    "            firstToken = tokenA.name()\n",
    "            secondToken = tokenB.name()\n",
    "        \n",
    "        if firstToken not in self.tokenPairs.keys():\n",
    "            self.tokenPairs[firstToken] = {secondToken: {}}\n",
    "        self.tokenPairs[firstToken][secondToken] = {'Base':tokenA, 'Quote':tokenB, 'Price':Decimal('0')}  \n",
    "        \n",
    "        # mint a lot of tokens for both sides\n",
    "        tokenA.mint(self.address, Decimal(1000000000))\n",
    "        tokenB.mint(self.address, Decimal(1000000000))\n",
    "\n",
    "    \n",
    "    def updatePairPrice(self, tokenA, tokenB, price):\n",
    "        firstToken = tokenB.name()\n",
    "        secondToken = tokenA.name()\n",
    "        if tokenA.name() > tokenB.name():\n",
    "            firstToken = tokenA.name()\n",
    "            secondToken = tokenB.name()\n",
    "        self.tokenPairs[firstToken][secondToken]['Price'] = price\n",
    "    \n",
    "    def trade(self, tokenA, tokenB, tokenAAmount, address):\n",
    "        # transfer in tokenA\n",
    "        result = tokenA.transferFrom(address, self.address, tokenAAmount)\n",
    "        if result: \n",
    "            firstToken = tokenB.name()\n",
    "            secondToken = tokenA.name()\n",
    "            if tokenA.name() > tokenB.name():\n",
    "                firstToken = tokenA.name()\n",
    "                secondToken = tokenB.name()\n",
    "            pair = self.tokenPairs[firstToken][secondToken]\n",
    "            multiplier = 0\n",
    "            if pair['Quote'].name() == tokenB.name():\n",
    "                multiplier = pair['Price']\n",
    "            else:\n",
    "                multiplier = 1/pair['Price']\n",
    "            # calculate amount of tokenB to send\n",
    "            tokens_to_send = tokenAAmount * multiplier\n",
    "            # send tokenB to address\n",
    "            transferR = tokenB.transferFrom(self.address, address, tokens_to_send)\n",
    "            return (tokens_to_send, transferR)\n",
    "        else:\n",
    "            raise Exception(\"Trade: Token transfer failed\")"
   ]
  },
  {
   "cell_type": "code",
   "execution_count": 15,
   "metadata": {},
   "outputs": [],
   "source": [
    "class Interface:\n",
    "    \n",
    "    def __init__(self, _chain : blockchain, _uTokenA : Token, _uTokenB : Token, oracle):\n",
    "        self.A = _uTokenA\n",
    "        self.B = _uTokenB\n",
    "        self.chain = _chain\n",
    "        self.oracle = oracle\n",
    "        self.pyA = pyToken(_chain, self.A, oracle)\n",
    "        self.pyB = pyToken(_chain, self.B, oracle)\n",
    "        self.pyA.setPair(self.pyB)\n",
    "        self.pyB.setPair(self.pyA)\n",
    "        self.qxA = QX(self.A , self.pyA)\n",
    "        self.qxB = QX(self.B , self.pyB)\n",
    "        self.pyA.setQueueExchange(self.qxA)\n",
    "        self.pyB.setQueueExchange(self.qxB)\n",
    "        # Add \"ETH\" as acceptable collateral\n",
    "        self.eth = Token(\"ETH\")\n",
    "        self.ethAOracle = Oracle(self.eth, self.A)\n",
    "        self.ethBOracle = Oracle(self.eth, self.B)\n",
    "        self.ethAOracle.setPrice(Decimal('100'))\n",
    "        self.ethBOracle.setPrice(Decimal(100/oracle.currentPrice()))\n",
    "        self.pyA.addCollateralType(self.eth, self.ethAOracle)\n",
    "        self.pyB.addCollateralType(self.eth, self.ethBOracle)\n",
    "        self.ref = ReferenceExchange()\n",
    "        self.ref.addPair(self.eth, self.A)\n",
    "        self.ref.updatePairPrice(self.eth, self.A, self.ethAOracle.currentPrice())\n",
    "        self.ref.addPair(self.eth, self.B)\n",
    "        self.ref.updatePairPrice(self.eth, self.B, self.ethBOracle.currentPrice())\n",
    "        \n",
    "    def updateInterestRates(self):\n",
    "        self.pyA.updateRates()\n",
    "        self.pyB.updateRates()\n",
    "        self.pyA.accrueInterest()\n",
    "        self.pyB.accrueInterest()\n",
    "    \n",
    "    def eachBlock(self):\n",
    "        self.chain.incrementBlock()\n",
    "        self.updateInterestRates()\n",
    "        \n"
   ]
  },
  {
   "cell_type": "code",
   "execution_count": null,
   "metadata": {},
   "outputs": [],
   "source": []
  },
  {
   "cell_type": "markdown",
   "metadata": {},
   "source": [
    "## Agents"
   ]
  },
  {
   "cell_type": "code",
   "execution_count": 16,
   "metadata": {},
   "outputs": [],
   "source": [
    "class Agent:\n",
    "    def __init__(self, _interface):\n",
    "        self.interface = _interface\n",
    "        self.address = numpy.random.randint(1,1000)\n",
    "        \n",
    "    def setup(self):\n",
    "        pass\n",
    "    \n",
    "    def performActions(self):\n",
    "        pass\n",
    "    \n",
    "    def shutdown(self):\n",
    "        pass\n",
    "    \n",
    "\n",
    "class YieldAgent(Agent):\n",
    "    def __init__(self, _interface):\n",
    "        super().__init__(_interface)\n",
    "        self.address = \"0xYA_HodlPY\" + str(self.address)\n",
    "        self.block = 0\n",
    "        \n",
    "    def setup(self):   \n",
    "        self.initialA = min(Decimal(round(numpy.random.lognormal(6, 1))), Decimal(1000))\n",
    "        self.initialB = min(Decimal(round(numpy.random.lognormal(6, 1))), Decimal(1000))\n",
    "        #self.initialA =  Decimal(1000000000)\n",
    "        #self.initialB =  Decimal(1000000000)\n",
    "        self.interface.A.mint(self.address, Decimal(self.initialA))\n",
    "        self.interface.B.mint(self.address, Decimal(self.initialB))\n",
    "        self.initial_exchange_rate = self.interface.oracle.currentPrice()\n",
    "        self.lowerRate = Decimal(numpy.random.uniform(0,7) / 100)\n",
    "        self.upperRate = self.lowerRate + Decimal(numpy.random.uniform(0,5) / 100)\n",
    "    \n",
    "    def performActions(self):\n",
    "        if self.interface.pyA.yearlyRate() > self.upperRate:\n",
    "            self.HODL()\n",
    "        elif self.interface.pyA.yearlyRate() < self.lowerRate:\n",
    "            self.unHODL()\n",
    "            \n",
    "    def HODL(self):\n",
    "        self.block = self.interface.chain.block\n",
    "        if self.interface.A.balanceOf(self.address) > 0:\n",
    "            aBalance = self.interface.A.balanceOf(self.address)\n",
    "            self.interface.qxA.mint(self.address, aBalance)\n",
    "            print(\"HODLing {} tokens at rate {}\".format(aBalance, round(self.upperRate, 4)))\n",
    "            \n",
    "    def unHODL(self):\n",
    "        if self.block - self.interface.chain.block < 10:\n",
    "            return\n",
    "        amount = min(self.interface.pyA.balanceOfUnderlying(self.address), self.interface.qxA.underlying)\n",
    "        amount = amount*Decimal('0.1')\n",
    "        if amount > 0:\n",
    "            # let's only remove 10% at a time\n",
    "            self.interface.qxA.redeem(self.address, amount)\n",
    "            print(\"unHODLing {} tokens\".format(amount*Decimal('0.99'), round(self.lowerRate, 4)))\n",
    "            \n",
    "            \n",
    "# Borrow agents lever up on ETH collateral by selling pyTokens\n",
    "class BorrowAgent(Agent):\n",
    "    def __init__(self, _interface):\n",
    "        super().__init__(_interface)\n",
    "        self.address = \"0xBA_longETH\" + str(self.address)\n",
    "        \n",
    "    def setup(self):\n",
    "        self.initialETH = min(Decimal(round(numpy.random.lognormal(3, 1))), Decimal(100))\n",
    "        self.interface.eth.mint(self.address, Decimal(self.initialETH ))\n",
    "        ethReserve = self.initialETH * Decimal('0.1')\n",
    "        self.each = (self.initialETH - ethReserve)/2\n",
    "        self.interface.pyA.addCollateral(\"ETH\", self.address, self.each )\n",
    "        self.interface.pyB.addCollateral(\"ETH\", self.address, self.each )\n",
    "        price = self.interface.ethAOracle.getPriceInToken(self.interface.A)\n",
    "        self.desiredBorrow = Decimal('0.5')*self.interface.pyA.maximumBorrow(\"ETH\", self.address)\n",
    "        self.interface.A.mint(self.address, self.desiredBorrow*1000)\n",
    "        self.lowerRate = Decimal(numpy.random.uniform(0,10) / 100)\n",
    "        self.upperRate = self.lowerRate + Decimal(numpy.random.uniform(0,5) / 100)\n",
    "    \n",
    "    def performActions(self):\n",
    "        if self.interface.pyA.yearlyDebtRate() > self.upperRate:\n",
    "            self.unBorrow()\n",
    "        elif self.interface.pyA.yearlyDebtRate() < self.lowerRate:\n",
    "            self.borrow()\n",
    "        uAmount = min(self.interface.pyA.balanceOfUnderlying(self.address), self.interface.qxA.underlying)\n",
    "        if uAmount > Decimal('0.1'):\n",
    "            self.interface.qxA.redeem(self.address, uAmount*Decimal(.99))\n",
    "            print(\"Withdrew {} tokens at {}\".format(round(uAmount*Decimal(.99), 4), round(self.lowerRate, 4) ))\n",
    "            \n",
    "            \n",
    "    def borrow(self):\n",
    "        price = self.interface.ethAOracle.getPriceInToken(self.interface.A)\n",
    "        #if we've already mostly borrowed what we desire, let's stop\n",
    "        if self.interface.pyA.debtInUnderlying(\"ETH\", self.address) > Decimal('.99') * self.desiredBorrow:\n",
    "            return\n",
    "        #initiate borrow\n",
    "        borrowRatio = Decimal('0.5')\n",
    "        amount = self.interface.pyA.maximumBorrow(\"ETH\", self.address) - self.interface.pyA.debtInUnderlying(\"ETH\", self.address)\n",
    "        borrow = (amount * borrowRatio) / (self.interface.pyA.collateralizationRatio )\n",
    "        if borrow > Decimal('0.1'):\n",
    "            self.interface.pyA.borrow(\"ETH\", self.address, borrow)\n",
    "            print(\"Borrowed {} tokens at {}\".format(round(borrow, 4), round(self.lowerRate, 4) ))\n",
    "\n",
    "    \n",
    "    def unBorrow(self):\n",
    "        amount = Decimal('0.95') * self.interface.pyA.debtInUnderlying(\"ETH\", self.address)\n",
    "        #funds = self.interface.A.balanceOf(self.address)\n",
    "        #toUnBorrow = min(debt, funds)\n",
    "        if amount > Decimal('0.1'):\n",
    "            try:\n",
    "                self.interface.qxA.mint(self.address, amount*Decimal(1.01))\n",
    "                self.interface.pyA.repay(\"ETH\", self.address, amount)\n",
    "                print(\"unBorrowed {} tokens at {}\".format(round(amount, 4), round(self.upperRate, 4) ))\n",
    "            except Exception as e: \n",
    "                print(\"failed to unborrow. amount:{} underlying balance: {} pyTokens: {} \".format(amount, self.interface.A.balanceOf(self.address), self.interface.pyA.balanceOfUnderlying(self.address)))\n",
    "                raise e\n",
    "    \n"
   ]
  },
  {
   "cell_type": "code",
   "execution_count": null,
   "metadata": {},
   "outputs": [],
   "source": []
  },
  {
   "cell_type": "code",
   "execution_count": 18,
   "metadata": {},
   "outputs": [
    {
     "name": "stdout",
     "output_type": "stream",
     "text": [
      "Borrowed 404.8443 tokens at 0.0619\n",
      "Borrowed 311.4187 tokens at 0.0793\n",
      "Borrowed 285.7724 tokens at 0.0619\n",
      "Borrowed 219.8250 tokens at 0.0793\n",
      "Borrowed 147.9239 tokens at 0.0282\n",
      "Borrowed 104.4169 tokens at 0.0282\n",
      "Borrowed 155.7093 tokens at 0.0977\n",
      "Borrowed 109.9125 tokens at 0.0977\n",
      "Borrowed 358.1315 tokens at 0.0490\n",
      "Borrowed 252.7987 tokens at 0.0490\n",
      "Borrowed 62.2837 tokens at 0.0835\n",
      "Borrowed 43.9650 tokens at 0.0835\n",
      "HODLing 60 tokens at rate 0.0191\n",
      "Withdrew 59.4000 tokens at 0.0619\n",
      "Withdrew 0.5940 tokens at 0.0793\n",
      "Borrowed 498.2699 tokens at 0.0891\n",
      "Borrowed 351.7199 tokens at 0.0891\n",
      "HODLing 355 tokens at rate 0.0327\n",
      "Withdrew 262.9662 tokens at 0.0977\n",
      "Withdrew 91.1194 tokens at 0.0490\n",
      "Withdrew 0.9112 tokens at 0.0835\n",
      "HODLing 149 tokens at rate 0.0359\n",
      "Withdrew 147.5191 tokens at 0.0891\n",
      "Withdrew 1.4752 tokens at 0.0619\n",
      "HODLing 207 tokens at rate 0.0399\n",
      "Withdrew 204.9448 tokens at 0.0891\n",
      "Withdrew 2.0494 tokens at 0.0619\n",
      "unBorrowed 239.7248 tokens at 0.0449\n",
      "Withdrew 239.7213 tokens at 0.0282\n",
      "Withdrew 2.3972 tokens at 0.0977\n",
      "unBorrowed 11.9862 tokens at 0.0449\n",
      "Withdrew 12.0090 tokens at 0.0282\n",
      "Withdrew 0.1201 tokens at 0.0977\n",
      "unBorrowed 0.5993 tokens at 0.0449\n",
      "Withdrew 0.6005 tokens at 0.0282\n",
      "HODLing 525 tokens at rate 0.0419\n",
      "Withdrew 0.1375 tokens at 0.0977\n",
      "Withdrew 514.6147 tokens at 0.0490\n",
      "Withdrew 10.1513 tokens at 0.0835\n",
      "Withdrew 0.1015 tokens at 0.0891\n",
      "HODLing 643 tokens at rate 0.0433\n",
      "Withdrew 2.5088 tokens at 0.0282\n",
      "Withdrew 5.1461 tokens at 0.0490\n",
      "Withdrew 94.2348 tokens at 0.0835\n",
      "Withdrew 492.4517 tokens at 0.0891\n",
      "Withdrew 48.1731 tokens at 0.0619\n",
      "Withdrew 0.4817 tokens at 0.0793\n",
      "HODLing 531 tokens at rate 0.0447\n",
      "Withdrew 525.6948 tokens at 0.0619\n",
      "Withdrew 5.2569 tokens at 0.0793\n",
      "HODLing 1000 tokens at rate 0.0458\n",
      "Withdrew 0.9423 tokens at 0.0835\n",
      "Withdrew 4.9245 tokens at 0.0891\n",
      "Withdrew 53.2892 tokens at 0.0619\n",
      "Withdrew 519.6647 tokens at 0.0793\n",
      "Withdrew 0.5329 tokens at 0.0619\n",
      "Withdrew 5.1966 tokens at 0.0793\n",
      "HODLing 409 tokens at rate 0.0461\n",
      "Borrowed 155.7093 tokens at 0.0998\n",
      "Withdrew 154.1522 tokens at 0.0998\n",
      "Borrowed 109.9125 tokens at 0.0998\n",
      "Withdrew 110.3549 tokens at 0.0998\n",
      "Withdrew 1.1035 tokens at 0.0998\n",
      "HODLing 1000 tokens at rate 0.0545\n",
      "HODLing 470 tokens at rate 0.0285\n",
      "Borrowed 38.9273 tokens at 0.0819\n",
      "Withdrew 38.5381 tokens at 0.0819\n",
      "Borrowed 27.4781 tokens at 0.0819\n",
      "Withdrew 27.5887 tokens at 0.0819\n",
      "Withdrew 0.2759 tokens at 0.0819\n",
      "Borrowed 108.9965 tokens at 0.0623\n",
      "Withdrew 107.9066 tokens at 0.0623\n",
      "Borrowed 76.9387 tokens at 0.0623\n",
      "Withdrew 77.2484 tokens at 0.0623\n",
      "Withdrew 0.7725 tokens at 0.0623\n",
      "Borrowed 482.6990 tokens at 0.0412\n",
      "Withdrew 477.8720 tokens at 0.0412\n",
      "Borrowed 340.7287 tokens at 0.0412\n",
      "Withdrew 342.1001 tokens at 0.0412\n",
      "Withdrew 3.4210 tokens at 0.0412\n",
      "HODLing 231 tokens at rate 0.0318\n",
      "HODLing 253 tokens at rate 0.0340\n",
      "Borrowed 132.3529 tokens at 0.0836\n",
      "Withdrew 131.0294 tokens at 0.0836\n",
      "Borrowed 93.4256 tokens at 0.0836\n",
      "Withdrew 93.8016 tokens at 0.0836\n",
      "Withdrew 0.9380 tokens at 0.0836\n",
      "HODLing 428 tokens at rate 0.0214\n",
      "HODLing 137 tokens at rate 0.0317\n",
      "Borrowed 70.0692 tokens at 0.0821\n",
      "Withdrew 69.3685 tokens at 0.0821\n",
      "Borrowed 49.4606 tokens at 0.0821\n",
      "Withdrew 49.6597 tokens at 0.0821\n",
      "Withdrew 0.4966 tokens at 0.0821\n",
      "Borrowed 46.7128 tokens at 0.0398\n",
      "Withdrew 46.2457 tokens at 0.0398\n",
      "Borrowed 32.9737 tokens at 0.0398\n",
      "Withdrew 33.1065 tokens at 0.0398\n",
      "Withdrew 0.3311 tokens at 0.0398\n",
      "Borrowed 116.7820 tokens at 0.0933\n",
      "Withdrew 115.6142 tokens at 0.0933\n",
      "Borrowed 82.4344 tokens at 0.0933\n",
      "Withdrew 82.7662 tokens at 0.0933\n",
      "Withdrew 0.8277 tokens at 0.0933\n",
      "Borrowed 272.4913 tokens at 0.0801\n",
      "Withdrew 269.7664 tokens at 0.0801\n",
      "HODLing 138 tokens at rate 0.0388\n",
      "Borrowed 192.3468 tokens at 0.0801\n",
      "Withdrew 193.1210 tokens at 0.0801\n",
      "Withdrew 1.9312 tokens at 0.0801\n",
      "HODLing 863 tokens at rate 0.0445\n",
      "HODLing 1000 tokens at rate 0.0317\n",
      "Borrowed 93.4256 tokens at 0.0522\n",
      "Withdrew 92.4913 tokens at 0.0522\n",
      "Borrowed 65.9475 tokens at 0.0522\n",
      "Withdrew 66.2129 tokens at 0.0522\n",
      "Withdrew 0.6621 tokens at 0.0522\n",
      "HODLing 994 tokens at rate 0.0246\n",
      "HODLing 452 tokens at rate 0.0145\n",
      "Borrowed 101.2111 tokens at 0.0377\n",
      "Withdrew 100.1990 tokens at 0.0377\n",
      "Borrowed 71.4431 tokens at 0.0377\n",
      "Withdrew 71.7307 tokens at 0.0377\n",
      "Withdrew 0.7173 tokens at 0.0377\n",
      "Borrowed 498.2699 tokens at 0.0506\n",
      "Withdrew 493.2872 tokens at 0.0506\n",
      "Borrowed 351.7199 tokens at 0.0506\n",
      "Withdrew 353.1356 tokens at 0.0506\n",
      "Withdrew 3.5314 tokens at 0.0506\n",
      "Borrowed 147.9146 tokens at 0.0282\n",
      "Withdrew 146.4605 tokens at 0.0282\n",
      "Borrowed 104.4103 tokens at 0.0282\n",
      "Withdrew 104.8308 tokens at 0.0282\n",
      "Withdrew 1.0483 tokens at 0.0282\n",
      "Borrowed 264.7059 tokens at 0.0880\n",
      "Withdrew 262.0588 tokens at 0.0880\n",
      "Borrowed 186.8512 tokens at 0.0880\n",
      "Withdrew 187.6033 tokens at 0.0880\n",
      "Withdrew 1.8760 tokens at 0.0880\n",
      "Borrowed 93.4256 tokens at 0.0230\n",
      "Withdrew 92.4913 tokens at 0.0230\n",
      "Borrowed 65.9475 tokens at 0.0230\n",
      "Withdrew 66.2129 tokens at 0.0230\n",
      "Withdrew 0.6621 tokens at 0.0230\n"
     ]
    }
   ],
   "source": [
    "import numpy\n",
    "\n",
    "chain = blockchain(1,1)\n",
    "oracle.setPrice(Decimal('2'))\n",
    "tokenA = Token(\"TokenA\")\n",
    "tokenB = Token(\"TokenB\")\n",
    "oracle = Oracle(tokenA, tokenB)\n",
    "oracle.setPrice(Decimal('1'))\n",
    "interface = Interface(chain, tokenA, tokenB, oracle)\n",
    "\n",
    "interface.pyA.interestUpdateAmount = Decimal('0.0001')\n",
    "interface.pyA.reservesTarget = Decimal('0.25')\n",
    "interface.pyA.minimumSpread = Decimal('0.0')\n",
    "interface.pyA.adjustmentFreeWindow = Decimal('0.01')\n",
    "\n",
    "# tracking variables\n",
    "pyAinterest = []\n",
    "pyBinterest = []\n",
    "qxA = []\n",
    "qxB = []\n",
    "pyratesA = []\n",
    "debtratesA = []\n",
    "tSupply = []\n",
    "ulying = []\n",
    "debtOutstanding = []\n",
    "debtSupplyRatio = []\n",
    "feeIncome = []\n",
    "\n",
    "\n",
    "\n",
    "# Initial positions\n",
    "interface.A.mint(\"HODL\", Decimal(100000))\n",
    "interface.B.mint(\"HODL\", Decimal(100000))\n",
    "interface.eth.mint(\"BU\", Decimal(1000))\n",
    "interface.pyA.addCollateral(\"ETH\", \"BU\", Decimal(100) )\n",
    "interface.pyB.addCollateral(\"ETH\", \"BU\", Decimal(100) )\n",
    "\n",
    "price = interface.ethAOracle.getPriceInToken(interface.A)\n",
    "#borrow = (Decimal(25) * price) / (interface.pyA.collateralizationRatio )\n",
    "#borrow = Decimal(100)\n",
    "#interface.pyA.borrow(\"ETH\", \"BU\", borrow)\n",
    "#interface.qxA.mint(\"HODL\", Decimal(1500 * 0.15))\n",
    "\n",
    "#Create users\n",
    "\n",
    "#user1 = YieldAgent(interface)\n",
    "#user2 = BorrowAgent(interface)\n",
    "#users = [user1, user2]\n",
    "\n",
    "users = []\n",
    "for x in range(5):\n",
    "    users.append(YieldAgent(interface))\n",
    "    \n",
    "for y in range(2):\n",
    "    users.append(BorrowAgent(interface))\n",
    "\n",
    "# Setup\n",
    "for user in users:\n",
    "    user.setup()\n",
    "\n",
    "# Run\n",
    "for block in range(10000):\n",
    "    \n",
    "    # skip some blocks\n",
    "    if numpy.random.uniform(0,100) < 80:\n",
    "        continue\n",
    "    \n",
    "    # perform interest rate update at beginning of block\n",
    "    interface.eachBlock()\n",
    "    \n",
    "    # add users\n",
    "    if numpy.random.uniform(0,100) < 4:\n",
    "        if numpy.random.uniform(0,100) < 33:\n",
    "            newAgent = BorrowAgent(interface)\n",
    "            newAgent.setup()\n",
    "            users.append(newAgent)\n",
    "        else:\n",
    "            newAgent = YieldAgent(interface)\n",
    "            newAgent.setup()\n",
    "            users.append(newAgent)\n",
    "    \n",
    "    for user in users:\n",
    "        user.performActions()\n",
    "    \n",
    "    pyAinterest.append(float(interface.pyA.yearlyRate()))\n",
    "    debtSupplyRatio.append(float(interface.pyA.totalDebt/interface.pyA.totalSupply))\n",
    "    qxA.append(float(interface.qxA.measureRatio()))\n",
    "    debtOutstanding.append(float(interface.pyA.getTotalDebt()))\n",
    "    pyratesA.append(float(interface.pyA.yearlyRate()))\n",
    "    debtratesA.append(float(interface.pyA.yearlyDebtRate()))\n",
    "    tSupply.append(float(interface.pyA.totalSupply))\n",
    "    ulying.append(float(interface.qxA.underlying))\n",
    "    feeIncome.append(float(interface.pyA.totalFeeIncome))\n",
    "# Shutdown\n",
    "for user in users:\n",
    "    user.shutdown()"
   ]
  },
  {
   "cell_type": "code",
   "execution_count": 19,
   "metadata": {},
   "outputs": [
    {
     "data": {
      "text/plain": [
       "<matplotlib.axes._subplots.AxesSubplot at 0x11c10e890>"
      ]
     },
     "execution_count": 19,
     "metadata": {},
     "output_type": "execute_result"
    },
    {
     "data": {
      "image/png": "[encoded data removed]",
      "text/plain": [
       "<Figure size 432x288 with 1 Axes>"
      ]
     },
     "metadata": {
      "needs_background": "light"
     },
     "output_type": "display_data"
    }
   ],
   "source": [
    "pandas.Series(debtOutstanding, name=\"debt\").plot(legend=True)\n",
    "pandas.Series(tSupply, name=\"pyTokens\").plot(legend=True)\n",
    "pandas.Series(ulying, name=\"underlying\").plot(legend=True)"
   ]
  },
  {
   "cell_type": "code",
   "execution_count": 20,
   "metadata": {},
   "outputs": [
    {
     "data": {
      "text/plain": [
       "<matplotlib.axes._subplots.AxesSubplot at 0x11eba76d0>"
      ]
     },
     "execution_count": 20,
     "metadata": {},
     "output_type": "execute_result"
    },
    {
     "data": {
      "image/png": "[encoded data removed]",
      "text/plain": [
       "<Figure size 432x288 with 1 Axes>"
      ]
     },
     "metadata": {
      "needs_background": "light"
     },
     "output_type": "display_data"
    }
   ],
   "source": [
    "pandas.Series(debtSupplyRatio, name=\"Debt/Supply Ratio\").plot(legend=True)"
   ]
  },
  {
   "cell_type": "code",
   "execution_count": 21,
   "metadata": {},
   "outputs": [
    {
     "data": {
      "text/plain": [
       "<matplotlib.axes._subplots.AxesSubplot at 0x11ead7c50>"
      ]
     },
     "execution_count": 21,
     "metadata": {},
     "output_type": "execute_result"
    },
    {
     "data": {
      "image/png": "[encoded data removed]",
      "text/plain": [
       "<Figure size 432x288 with 1 Axes>"
      ]
     },
     "metadata": {
      "needs_background": "light"
     },
     "output_type": "display_data"
    }
   ],
   "source": [
    "pandas.Series(qxA, name=\"Reserve Ratio\").plot(legend=True)\n"
   ]
  },
  {
   "cell_type": "code",
   "execution_count": 22,
   "metadata": {},
   "outputs": [
    {
     "data": {
      "text/plain": [
       "<matplotlib.axes._subplots.AxesSubplot at 0x10cf93b10>"
      ]
     },
     "execution_count": 22,
     "metadata": {},
     "output_type": "execute_result"
    },
    {
     "data": {
      "image/png": "[encoded data removed]",
      "text/plain": [
       "<Figure size 432x288 with 1 Axes>"
      ]
     },
     "metadata": {
      "needs_background": "light"
     },
     "output_type": "display_data"
    }
   ],
   "source": [
    "pandas.Series(pyratesA, name=\"pyToken yield\").plot(legend=True)\n",
    "pandas.Series(debtratesA,name=\"borrow rate\").plot(legend=True)"
   ]
  },
  {
   "cell_type": "code",
   "execution_count": null,
   "metadata": {},
   "outputs": [],
   "source": [
    "# let's look at variance\n",
    "pandas.Series(pyratesA[1000:], name=\"pyToken yield\").var()"
   ]
  },
  {
   "cell_type": "code",
   "execution_count": null,
   "metadata": {},
   "outputs": [],
   "source": [
    "pandas.Series(feeIncome,name=\"fee income\").plot(legend=True)"
   ]
  },
  {
   "cell_type": "markdown",
   "metadata": {},
   "source": [
    "# Scratchpad"
   ]
  },
  {
   "cell_type": "code",
   "execution_count": null,
   "metadata": {},
   "outputs": [],
   "source": [
    "interface.A.balances"
   ]
  },
  {
   "cell_type": "code",
   "execution_count": null,
   "metadata": {},
   "outputs": [],
   "source": [
    "interface.pyA.balances"
   ]
  },
  {
   "cell_type": "code",
   "execution_count": null,
   "metadata": {},
   "outputs": [],
   "source": [
    "numpy.random.lognormal(5, 1)"
   ]
  },
  {
   "cell_type": "code",
   "execution_count": null,
   "metadata": {},
   "outputs": [],
   "source": [
    "def lnmean(mean, sigma):\n",
    "    sum = 0\n",
    "    for x in range(1000):\n",
    "        sum += numpy.random.lognormal(mean, sigma)\n",
    "    return sum/1000"
   ]
  },
  {
   "cell_type": "code",
   "execution_count": null,
   "metadata": {},
   "outputs": [],
   "source": [
    "lnmean(.1,2)"
   ]
  },
  {
   "cell_type": "code",
   "execution_count": null,
   "metadata": {},
   "outputs": [],
   "source": [
    "lnmean(6,1)"
   ]
  },
  {
   "cell_type": "code",
   "execution_count": null,
   "metadata": {},
   "outputs": [],
   "source": [
    "def threshold(mean, sigma, limit ):\n",
    "    result = int(numpy.random.exponential(mean))\n",
    "    print(result)\n",
    "    return result"
   ]
  },
  {
   "cell_type": "code",
   "execution_count": null,
   "metadata": {},
   "outputs": [],
   "source": [
    "def tfreq(mean, sigma, limit):\n",
    "    sum = 0\n",
    "    for x in range(100):\n",
    "        if threshold(mean, sigma, limit ):\n",
    "            sum += 1\n",
    "    return sum"
   ]
  },
  {
   "cell_type": "code",
   "execution_count": null,
   "metadata": {},
   "outputs": [],
   "source": [
    "numpy.random.exponential(1)"
   ]
  },
  {
   "cell_type": "markdown",
   "metadata": {},
   "source": [
    "## Interest Tests"
   ]
  },
  {
   "cell_type": "code",
   "execution_count": null,
   "metadata": {},
   "outputs": [],
   "source": [
    "# self.rate = Decimal(1) + ((self.debtRate-1) * self.totalDebt * (1 - self.minimumSpread))/(1 + self.totalSupply)\n",
    "# self.rate = math.power(1 + Decimal(rate), 1/Decimal(31622400)) "
   ]
  },
  {
   "cell_type": "code",
   "execution_count": null,
   "metadata": {},
   "outputs": [],
   "source": [
    "from decimal import Decimal\n",
    "import decimal\n",
    "debtRate = Decimal('1.04')"
   ]
  },
  {
   "cell_type": "code",
   "execution_count": null,
   "metadata": {},
   "outputs": [],
   "source": [
    "math = decimal.Context()\n",
    "accumulate = math.power(debtRate, 2)\n",
    "accumulate"
   ]
  },
  {
   "cell_type": "code",
   "execution_count": null,
   "metadata": {},
   "outputs": [],
   "source": [
    "minSpread = Decimal('0.00')\n",
    "totalSupply = 1000\n",
    "totalDebt = totalSupply * Decimal('0.7')"
   ]
  },
  {
   "cell_type": "code",
   "execution_count": null,
   "metadata": {},
   "outputs": [],
   "source": [
    "rate = Decimal(1) + ((debtRate-1) * totalDebt * (1 - minSpread))/(totalSupply)\n",
    "#rate = ((debtRate) * totalDebt * (1 - minSpread))/(1 + totalSupply)"
   ]
  },
  {
   "cell_type": "code",
   "execution_count": null,
   "metadata": {},
   "outputs": [],
   "source": [
    "rate"
   ]
  },
  {
   "cell_type": "code",
   "execution_count": null,
   "metadata": {},
   "outputs": [],
   "source": [
    "math.power(rate, 2)"
   ]
  },
  {
   "cell_type": "code",
   "execution_count": null,
   "metadata": {},
   "outputs": [],
   "source": [
    "accumulate*totalDebt - totalDebt"
   ]
  },
  {
   "cell_type": "code",
   "execution_count": null,
   "metadata": {},
   "outputs": [],
   "source": [
    "totalSupply*math.power(rate, 2) - totalSupply"
   ]
  },
  {
   "cell_type": "code",
   "execution_count": null,
   "metadata": {},
   "outputs": [],
   "source": [
    "print(totalDebt*math.power(debtRate, 10))\n",
    "print(totalSupply*math.power(Decimal('1.02'), 10))"
   ]
  },
  {
   "cell_type": "code",
   "execution_count": 23,
   "metadata": {},
   "outputs": [
    {
     "data": {
      "text/plain": [
       "Decimal('1.000000000003162157215564487')"
      ]
     },
     "execution_count": 23,
     "metadata": {},
     "output_type": "execute_result"
    }
   ],
   "source": [
    "interestUpdateAmount = Decimal('0.0001')\n",
    "newRate = math.power(1 + Decimal(interestUpdateAmount), 1/Decimal(31622400))\n",
    "newRate"
   ]
  },
  {
   "cell_type": "code",
   "execution_count": 24,
   "metadata": {},
   "outputs": [
    {
     "data": {
      "text/plain": [
       "1.0000000000031621"
      ]
     },
     "execution_count": 24,
     "metadata": {},
     "output_type": "execute_result"
    }
   ],
   "source": [
    "1000000000003162157215564487 / 10**27"
   ]
  },
  {
   "cell_type": "code",
   "execution_count": 32,
   "metadata": {},
   "outputs": [
    {
     "data": {
      "text/plain": [
       "1000000284625770972959474870"
      ]
     },
     "execution_count": 32,
     "metadata": {},
     "output_type": "execute_result"
    }
   ],
   "source": [
    "(3162157215564487 * 90010) + 10**27\n"
   ]
  },
  {
   "cell_type": "code",
   "execution_count": 33,
   "metadata": {},
   "outputs": [
    {
     "data": {
      "text/plain": [
       "2000000000000000000000000000"
      ]
     },
     "execution_count": 33,
     "metadata": {},
     "output_type": "execute_result"
    }
   ],
   "source": [
    "2*10**27"
   ]
  },
  {
   "cell_type": "code",
   "execution_count": null,
   "metadata": {},
   "outputs": [],
   "source": [
    "4.999999999999998706\n",
    "4.999999999999999000"
   ]
  }
 ],
 "metadata": {
  "kernelspec": {
   "display_name": "Python 3",
   "language": "python",
   "name": "python3"
  },
  "language_info": {
   "codemirror_mode": {
    "name": "ipython",
    "version": 3
   },
   "file_extension": ".py",
   "mimetype": "text/x-python",
   "name": "python",
   "nbconvert_exporter": "python",
   "pygments_lexer": "ipython3",
   "version": "3.7.4"
  }
 },
 "nbformat": 4,
 "nbformat_minor": 2
}
