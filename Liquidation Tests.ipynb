{
 "cells": [
  {
   "cell_type": "code",
   "execution_count": 1,
   "metadata": {},
   "outputs": [],
   "source": [
    "from decimal import Decimal\n",
    "import time \n",
    "import decimal\n",
    "math = decimal.Context()\n",
    "import numpy \n",
    "import random\n",
    "%matplotlib inline\n",
    "import matplotlib\n",
    "import pandas"
   ]
  },
  {
   "cell_type": "code",
   "execution_count": 2,
   "metadata": {},
   "outputs": [],
   "source": [
    "class Token:       \n",
    "    def __init__(self, _name = \"\"):\n",
    "        self.balances = {}\n",
    "        self.totalSupply = 0\n",
    "        self._name = _name\n",
    "    \n",
    "    def mint(self, address, amount):\n",
    "        assert(amount > 0)\n",
    "        self.balances[address] = self.balances.get(address, 0) + amount\n",
    "        self.totalSupply += amount\n",
    "        return True\n",
    "        \n",
    "    def burn(self, address, amount):\n",
    "        assert(amount > 0)\n",
    "        if self.balances[address] < amount:\n",
    "            raise Exception(\"burn: Cannot burn more value than present at address. Requested: {} Available: {}\".format(amount, self.balances[address]))\n",
    "        self.balances[address] = self.balances.get(address, 0) - amount\n",
    "        self.totalSupply -= amount\n",
    "        return True\n",
    "    \n",
    "    def balanceOf(self, address):\n",
    "        return self.balances.get(address, 0)\n",
    "    \n",
    "    def name(self):\n",
    "        return self._name\n",
    "    \n",
    "    def transferFrom(self, sender, recipient, amount):\n",
    "        assert(amount >= 0)\n",
    "        # always round\n",
    "        if self.balanceOf(sender) >= amount:\n",
    "            self.balances[sender] = self.balances.get(sender, 0) - amount\n",
    "            self.balances[recipient] = self.balances.get(recipient, 0) + amount    \n",
    "            return True\n",
    "        else:\n",
    "            raise Exception(\"transferFrom: Cannot transfer more than balance\")"
   ]
  },
  {
   "cell_type": "code",
   "execution_count": null,
   "metadata": {},
   "outputs": [],
   "source": [
    "class collateralHolder:\n",
    "    \n",
    "    def __init__(self, _collateral, _target):\n",
    "        self.collateral = _collateral\n",
    "        self.target     = _target\n",
    "        \n",
    "    def addCollateral(user, amount):\n",
    "        pass\n",
    "    \n",
    "    def removeCollateral(user, amount):\n",
    "        pass\n",
    "    \n",
    "    def enterPool(users, debtContract):\n",
    "        pass\n",
    "    \n",
    "    def modifyRepo(collateralType, repo, collateralSource, debtDestination, collateralChange, debtChange):\n",
    "        pass\n",
    "    \n",
    "    \n",
    "    "
   ]
  },
  {
   "cell_type": "code",
   "execution_count": null,
   "metadata": {},
   "outputs": [],
   "source": [
    "class DebtContract:\n",
    "    \n",
    "    def __init__(self, _collateral, _target):\n",
    "        pass\n",
    "    \n",
    "    \n",
    "    "
   ]
  }
 ],
 "metadata": {
  "kernelspec": {
   "display_name": "Python 3",
   "language": "python",
   "name": "python3"
  },
  "language_info": {
   "codemirror_mode": {
    "name": "ipython",
    "version": 3
   },
   "file_extension": ".py",
   "mimetype": "text/x-python",
   "name": "python",
   "nbconvert_exporter": "python",
   "pygments_lexer": "ipython3",
   "version": "3.7.4"
  }
 },
 "nbformat": 4,
 "nbformat_minor": 2
}
