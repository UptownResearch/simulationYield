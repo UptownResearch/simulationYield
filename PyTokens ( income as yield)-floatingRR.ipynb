{
 "cells": [
  {
   "cell_type": "code",
   "execution_count": 1,
   "metadata": {},
   "outputs": [],
   "source": [
    "from decimal import Decimal\n",
    "import time \n",
    "import decimal\n",
    "math = decimal.Context()\n",
    "import numpy \n",
    "import random\n",
    "%matplotlib inline\n",
    "import matplotlib\n",
    "import pandas"
   ]
  },
  {
   "cell_type": "code",
   "execution_count": 2,
   "metadata": {},
   "outputs": [],
   "source": [
    "class Token:       \n",
    "    def __init__(self, _name = \"\"):\n",
    "        self.balances = {}\n",
    "        self.totalSupply = 0\n",
    "        self._name = _name\n",
    "    \n",
    "    def mint(self, address, amount):\n",
    "        assert(amount > 0)\n",
    "        self.balances[address] = self.balances.get(address, 0) + amount\n",
    "        self.totalSupply += amount\n",
    "        return True\n",
    "        \n",
    "    def burn(self, address, amount):\n",
    "        assert(amount > 0)\n",
    "        if self.balances[address] < amount:\n",
    "            raise Exception(\"burn: Cannot burn more value than present at address. Requested: {} Available: {}\".format(amount, self.balances[address]))\n",
    "        self.balances[address] = self.balances.get(address, 0) - amount\n",
    "        self.totalSupply -= amount\n",
    "        return True\n",
    "    \n",
    "    def balanceOf(self, address):\n",
    "        return self.balances.get(address, 0)\n",
    "    \n",
    "    def name(self):\n",
    "        return self._name\n",
    "    \n",
    "    def transferFrom(self, sender, recipient, amount):\n",
    "        assert(amount >= 0)\n",
    "        # always round\n",
    "        if self.balanceOf(sender) >= amount:\n",
    "            self.balances[sender] = self.balances.get(sender, 0) - amount\n",
    "            self.balances[recipient] = self.balances.get(recipient, 0) + amount    \n",
    "            return True\n",
    "        else:\n",
    "            raise Exception(\"transferFrom: Cannot transfer more than balance\")"
   ]
  },
  {
   "cell_type": "code",
   "execution_count": 3,
   "metadata": {},
   "outputs": [],
   "source": [
    "# Basic test of Token class\n",
    "\n",
    "token = Token()\n",
    "token.mint(\"A\", 5)\n",
    "assert(token.balanceOf(\"A\") == 5)\n",
    "\n",
    "token.transferFrom(\"A\", \"B\", 3)\n",
    "assert(token.balanceOf(\"B\") == 3)\n",
    "assert(token.balanceOf(\"A\") == 2)\n",
    "\n",
    "token.transferFrom(\"A\", \"C\", 2)\n",
    "assert(token.balanceOf(\"A\") == 0)\n",
    "assert(token.balanceOf(\"C\") == 2)"
   ]
  },
  {
   "cell_type": "code",
   "execution_count": 4,
   "metadata": {},
   "outputs": [],
   "source": [
    "class blockchain:\n",
    "    \n",
    "    def __init__(self, _timestamp, _block):\n",
    "        self.timestamp = _timestamp\n",
    "        self.block = _block\n",
    "    \n",
    "    def incrementBlock(self):\n",
    "        self.block += 1\n",
    "        self.timestamp += 15\n",
    "    \n",
    "    def updateTimestamp(self, _timestamp):\n",
    "        self.timestamp = _timestamp\n",
    "    \n",
    "    def now(self):\n",
    "        return self.timestamp\n",
    "\n",
    "\n",
    "class InterestToken(Token):\n",
    "    # rate is a yearly rate, converted to a rate compounded per second\n",
    "    def __init__(self, _name, _blockchain, rate, _rateAccumulator):\n",
    "        Token.__init__(self, _name)\n",
    "        self.blockchain = _blockchain\n",
    "        self.lastUpdate = self.blockchain.now()\n",
    "        self.rateAccumulator = _rateAccumulator\n",
    "        # 31622400 is the number of seconds in a year\n",
    "        self.rate = math.power(1 + Decimal(rate), 1/Decimal(31622400))  \n",
    "        self.interestRateLimit = math.power(1 + Decimal(2), 1/Decimal(31622400)) \n",
    "    \n",
    "    def balanceOfUnderlying(self, address):\n",
    "        return self.balanceOf(address) * self.rateAccumulator\n",
    "    \n",
    "    def transferUnderlying(self, sender, recipient, amount):\n",
    "        value = amount / self.rateAccumulator\n",
    "        return self.transferFrom(sender, recipient, value)\n",
    "    \n",
    "    def totalSupplyUnderlying(self):\n",
    "        return self.totalSupply * self.rateAccumulator\n",
    "        \n",
    "    def accrueInterest(self):\n",
    "        now = self.blockchain.now()\n",
    "        if now > self.lastUpdate:\n",
    "            total_time =  now - self.lastUpdate\n",
    "            self.rateAccumulator = math.power(self.rate, total_time) * self.rateAccumulator\n",
    "            self.lastUpdate = now\n",
    "    \n",
    "    def updateRate(self, update):\n",
    "        print(\"Using old updateRate for some reason!\")\n",
    "        newRate = math.power(1 + Decimal(update), 1/Decimal(31622400)) - 1\n",
    "        self.rate = self.rate + newRate\n",
    "        if self.rate < Decimal(1):\n",
    "            self.rate = Decimal(1)\n",
    "        if self.rate > self.interestRateLimit:\n",
    "            self.rate = self.interestRateLimit\n",
    "    \n",
    "    def yearlyRate(self):\n",
    "        return math.power(self.rate, Decimal(31622400)) - 1\n",
    "    \n",
    "    def mintInUnderlying(self, address, amount):\n",
    "        return self.mint(address, amount/self.rateAccumulator)\n",
    "        \n",
    "    def burnInUnderlying(self, address, amount):\n",
    "        return self.burn(address, amount/self.rateAccumulator)"
   ]
  },
  {
   "cell_type": "code",
   "execution_count": 5,
   "metadata": {},
   "outputs": [],
   "source": [
    "# Basic tests of Interest Token Class\n",
    "\n",
    "chain = blockchain(0,1)\n",
    "token = InterestToken(\"Token\", chain, .02, 1)\n",
    "token.mint(\"A\", 1000)\n",
    "#token.lastUpdate = token.lastUpdate - 31622400\n",
    "chain.updateTimestamp(31622400)\n",
    "token.accrueInterest()\n",
    "token.balanceOfUnderlying(\"A\")\n",
    "assert(int(token.balanceOfUnderlying(\"A\")) == 1020)"
   ]
  },
  {
   "cell_type": "code",
   "execution_count": 6,
   "metadata": {},
   "outputs": [
    {
     "name": "stdout",
     "output_type": "stream",
     "text": [
      "Using old updateRate for some reason!\n",
      "Using old updateRate for some reason!\n",
      "Using old updateRate for some reason!\n",
      "Using old updateRate for some reason!\n",
      "Using old updateRate for some reason!\n"
     ]
    }
   ],
   "source": [
    "chain = blockchain(0,1)\n",
    "token = InterestToken(\"Token\", chain, .02, 1)\n",
    "token.mint(\"A\", 1000)\n",
    "#token.lastUpdate = token.lastUpdate - 31622400\n",
    "# Note that the per second rates are multiplied, not added\n",
    "token.updateRate(.001)\n",
    "token.updateRate(.001)\n",
    "token.updateRate(-.001)\n",
    "token.updateRate(.001)\n",
    "token.updateRate(.001)\n",
    "#print(token.yearlyRate())\n",
    "chain.updateTimestamp(31622400)\n",
    "#print(token.rate)\n",
    "token.accrueInterest()\n",
    "assert(int(token.balanceOfUnderlying(\"A\")) == 1023)"
   ]
  },
  {
   "cell_type": "code",
   "execution_count": 7,
   "metadata": {},
   "outputs": [],
   "source": [
    "\n",
    "# class QX:\n",
    "#  mint(address, amount):\n",
    "#  redeem(address, amount):\n",
    "#   measureRatio(self)\n",
    "#\n",
    "class QX:\n",
    "    def __init__(self, _uToken : Token , _sToken : Token):\n",
    "        self.uToken = _uToken\n",
    "        self.pyToken = _sToken\n",
    "        self.underlying = Decimal('0')\n",
    "        self.synthetic  = Decimal('0')   # denominated in pyTokens\n",
    "        self.address = '0xQX_' + _uToken.name()\n",
    "        self.book = dict()\n",
    "\n",
    "    def mint(self, address, amount):\n",
    "        if amount < 0:\n",
    "            raise Exception(\"mint: Cannot sell a negative amount. Amount: {}\".format(amount))\n",
    "        result = self.uToken.transferFrom(address, self.address, amount)\n",
    "        if result:\n",
    "            self.underlying += amount\n",
    "            result = self.pyToken.mintInUnderlying( self.address, amount)\n",
    "            if not result:\n",
    "                raise Exception(\"mint: Minting pyTokens failed. Amount: {}\".format(amount))\n",
    "            result = self.pyToken.transferUnderlying(self.address, address, amount)\n",
    "            if not result:\n",
    "                raise Exception(\"mint: Token transfer out failed. Amount: {}\".format(amount))\n",
    "        else:\n",
    "            raise Exception(\"mint: Token transfer in failed. Amount: {}\".format(amount))\n",
    "    \n",
    "    def redeem(self, address, amount):\n",
    "        if amount < 0:\n",
    "            raise Exception(\"redeem: Cannot redeem a negative amount. Amount: {}\".format(amount))\n",
    "        if self.underlying < amount:\n",
    "            raise Exception(\"redeem: Cannot withdraw more than available in reserves\")\n",
    "        result = self.pyToken.burnInUnderlying(address, amount)\n",
    "        if result:\n",
    "            outResult = self.uToken.transferFrom(self.address, address, amount)\n",
    "            if not outResult:\n",
    "                raise Exception(\"redeem: Token transfer out failed\")\n",
    "            self.underlying -= amount\n",
    "        else:\n",
    "            raise Exception(\"redeem: Token transfer in failed. Amount: {}\".format(amount))\n",
    "    \n",
    "    \n",
    "    def measureRatio(self):\n",
    "        try:\n",
    "            if self.underlying <= 0:\n",
    "                return Decimal('0')\n",
    "            return Decimal(self.underlying) / Decimal(self.pyToken.getTotalDebt() + self.underlying)\n",
    "        except Exception as e:\n",
    "            print(\"underlying: {} TotalDebt:{}\".format(self.underlying, self.pyToken.getTotalDebt()))\n",
    "            raise e\n",
    "    "
   ]
  },
  {
   "cell_type": "code",
   "execution_count": null,
   "metadata": {},
   "outputs": [],
   "source": []
  },
  {
   "cell_type": "code",
   "execution_count": null,
   "metadata": {},
   "outputs": [],
   "source": []
  },
  {
   "cell_type": "code",
   "execution_count": 8,
   "metadata": {},
   "outputs": [],
   "source": [
    "class Oracle:\n",
    "    def __init__(self, _tokenA, _tokenB):\n",
    "        self.tokenA = _tokenA\n",
    "        self.tokenB = _tokenB\n",
    "        # Price is stored in terms of TokenB\n",
    "        self.price = 0 \n",
    "    \n",
    "    # Assumes price is in terms of Token B\n",
    "    def currentPrice(self):\n",
    "        return self.price\n",
    "    \n",
    "    # Assumes price is in terms of Token B\n",
    "    def setPrice(self, price):\n",
    "        self.price = price\n",
    "        \n",
    "    def setPriceInToken(self, token, price):\n",
    "        if token == self.tokenA:\n",
    "            self.price = 1 / price\n",
    "        else:\n",
    "            self.price = price\n",
    "            \n",
    "    def getPriceInToken(self, token):\n",
    "        if token == self.tokenA:\n",
    "            return Decimal('1') /self.price\n",
    "        else:     \n",
    "            return self.price"
   ]
  },
  {
   "cell_type": "code",
   "execution_count": 9,
   "metadata": {},
   "outputs": [],
   "source": [
    "# Simple Test of Oracle\n",
    "ETH = Token(\"ETH\")\n",
    "DAI = Token(\"DAI\")\n",
    "oracle = Oracle(ETH, DAI)\n",
    "oracle.setPriceInToken(DAI, Decimal('100'))\n",
    "assert(oracle.getPriceInToken(DAI) == Decimal('100'))\n",
    "assert(oracle.getPriceInToken(ETH) == (Decimal('1')/Decimal('100')))"
   ]
  },
  {
   "cell_type": "code",
   "execution_count": 10,
   "metadata": {},
   "outputs": [],
   "source": [
    "# Issues:\n",
    "# 1. it is possible to pay out more pyTokens that is offset by debt\n",
    "\n",
    "\n",
    "class pyToken (InterestToken):\n",
    "    def __init__(self, _blockchain, _underlying : Token, _oracle):  \n",
    "        super().__init__(\"\", _blockchain, Decimal('0'), Decimal('1'))\n",
    "        self.underlying = _underlying\n",
    "        self._name = \"py\" + self.underlying.name()\n",
    "        self.cdp = {self.underlying.name(): {}}\n",
    "        self.tokens = {}\n",
    "        self.address = '0x' + self.name()\n",
    "        # oracle for the pyToken <> pyToken pair\n",
    "        self.oracle = _oracle\n",
    "        self.qx = 0\n",
    "        self.interestUpdateAmount = Decimal('0.0001')\n",
    "        self.collateralizationRatio = Decimal('1.7')\n",
    "        self.debtAccumulator = self.rateAccumulator\n",
    "        self.debtRate = Decimal('1.0')\n",
    "        # totalDebt is normalized by the debtAccumulator\n",
    "        self.totalDebt = Decimal('0.0')\n",
    "        # bonus factor when liquidating\n",
    "        self.bonus = Decimal('1.1')\n",
    "        self.reservesTarget = Decimal('0.3')\n",
    "        self.adjustmentFreeWindow = Decimal('0.1')\n",
    "        # minimumSpread may be deprecated\n",
    "        self.minimumSpread = Decimal('0.1')\n",
    "        self.borrowFee = Decimal('0.1')\n",
    "        self.totalFeeIncome = Decimal('0.0')\n",
    "        self.impliedRate = Decimal('1.0')\n",
    "        self.blockchain = _blockchain\n",
    "        \n",
    "        \n",
    "    # Admin Functions\n",
    "    def setPair(self, _pairedpyToken : InterestToken):\n",
    "        self.pairedpyToken = _pairedpyToken  \n",
    "        self.tokens[self.pairedpyToken.name()] = self.pairedpyToken\n",
    "        self.cdp[self.pairedpyToken.name()] = {}\n",
    "        \n",
    "    def setQueueExchange(self,exchange):\n",
    "        self.qx = exchange\n",
    "        \n",
    "    def addCollateralType(self, token, oracle):\n",
    "        self.tokens[token.name()] = { 'token':token, 'oracle':oracle }\n",
    "        self.cdp[token.name()] = {}\n",
    "    \n",
    "    # User Functions\n",
    "    def addCollateral(self, token, address, amount):\n",
    "        if token not in self.tokens.keys():\n",
    "            return False\n",
    "        result = self.tokens[token]['token'].transferFrom(address, self.address, amount)\n",
    "        if result:\n",
    "            if address not in self.cdp[token]:\n",
    "                self.cdp[token][address] = {'amount':amount, 'debt':Decimal('0')}\n",
    "            else:\n",
    "                self.cdp[token][address]['amount'] += amount\n",
    "        else:\n",
    "            return False\n",
    "      \n",
    "    def withdrawCollateral(self, token, address, amount):\n",
    "        if token not in self.tokens.keys():\n",
    "            return False\n",
    "        # check oracle price\n",
    "        price = self.oracle.currentPrice()\n",
    "        minimumCollateral = self.oracle.currentPrice() * self.collateralizationRatio * \\\n",
    "                            (self.cdp[token][address]['debt'] * self.debtAccumulator - amount)\n",
    "        if self.cdp[token][address]['amount'] < minimumCollateral:\n",
    "            raise Exception(\"withdrawCollateral: Insufficient free capital to withdraw\")\n",
    "        result = self.tokens[token].transferFrom(self.address, address, amount)\n",
    "        if result:\n",
    "            self.cdp[token][address]['amount'] = self.cdp[token][address]['amount'] - amount\n",
    "    \n",
    "    # accrue for both debt and interest\n",
    "    def accrueInterest(self):\n",
    "        now = self.blockchain.now()\n",
    "        if now > self.lastUpdate:\n",
    "            total_time =  now - self.lastUpdate\n",
    "            accumulatedDebtInterestMultiplier = math.power(self.debtRate, total_time)\n",
    "            self.debtAccumulator = accumulatedDebtInterestMultiplier * self.debtAccumulator\n",
    "            # pay interest out to hodlers\n",
    "            newDebt = (accumulatedDebtInterestMultiplier - Decimal('1')) * (self.totalDebt * self.debtAccumulator)\n",
    "            # self.rateAccumulator = math.power(self.rate, total_time) * self.rateAccumulator\n",
    "            feeIncome = newDebt * self.borrowFee\n",
    "            self.totalFeeIncome += feeIncome\n",
    "            totalPyTokens = self.totalSupply * self.rateAccumulator\n",
    "            if self.totalSupply > Decimal('0'):\n",
    "                self.rateAccumulator = ((newDebt - feeIncome) + totalPyTokens)/self.totalSupply\n",
    "                self.impliedRate = math.power(((newDebt - feeIncome) + totalPyTokens)/totalPyTokens, Decimal(1)/Decimal(total_time))\n",
    "            else:\n",
    "                self.rateAccumulator = Decimal('1')\n",
    "            self.lastUpdate = now\n",
    "    \n",
    "    def yearlyRate(self):\n",
    "        return math.power(self.impliedRate, Decimal(31622400)) - 1\n",
    "    \n",
    "    # updateRate for both debt and interest\n",
    "    # this contract implicity assumes that this is called every block\n",
    "    def updateRate(self, update):\n",
    "        #newRate = math.power(1 + Decimal(update), 1/Decimal(31622400)) - 1\n",
    "        newRate = math.power(1 + Decimal(update), 1/Decimal(31622400)) \n",
    "        self.debtRate = self.debtRate * newRate\n",
    "        if self.debtRate < Decimal(1):\n",
    "            self.debtRate = Decimal(1)\n",
    "        if self.debtRate > self.interestRateLimit:\n",
    "            self.debtRate = self.interestRateLimit\n",
    "        if self.totalDebt == 0:\n",
    "            print(\"Reseting Rates\")\n",
    "            self.debtRate = Decimal(1)\n",
    "            self.rate = Decimal(1)\n",
    "            return\n",
    "        \n",
    "        # To-DO:\n",
    "        # Update rate to be equal to rate = (debt*debtRate - fees)/(debt + reserveRatioTarget * debt)\n",
    "        \n",
    "        #calculate pyToken rate. The \"1\" in the denominator is to avoid divide by zero. Can we do this better?\n",
    "        #debt = self.getTotalDebt()\n",
    "        #self.rate = Decimal(1) + ((self.debtRate-1) * debt - self.minimumSpread)/(1 + (debt + debt*self.reservesTarget))\n",
    "        #if self.rate < Decimal(1):\n",
    "        #    self.rate = Decimal(1)\n",
    "\n",
    "    def yearlyDebtRate(self):\n",
    "        return math.power(self.debtRate, Decimal(31622400)) - 1\n",
    "    \n",
    "    def getTotalDebt(self):\n",
    "        return self.totalDebt * self.debtAccumulator\n",
    "    \n",
    "    def getCollateral(self, token, address):\n",
    "        return self.cdp[token][address]['amount'] \n",
    "    \n",
    "    def getDebt(self, token, address):\n",
    "        return self.cdp[token][address]['debt'] \n",
    "    \n",
    "    def debtInUnderlying(self, token, address):\n",
    "        return self.cdp[token][address]['debt'] * self.debtAccumulator\n",
    "    \n",
    "    # borrow against a particular tokens worth of collateral\n",
    "    def borrow(self, token, address, amount):\n",
    "        if token not in self.tokens.keys():\n",
    "            raise Exception(\"Borrow: Token not found\")\n",
    "        if amount < 0:\n",
    "            raise Exception(\"Borrow: Cannot borrow negative amounts\")\n",
    "            self.tokens[token.name()] = { 'token':token, 'oracle':oracle }\n",
    "        price = self.tokens[token]['oracle'].getPriceInToken(self.underlying)\n",
    "        minimumCollateral = ( 1 / price) * self.collateralizationRatio * \\\n",
    "                            (self.cdp[token][address]['debt'] * self.debtAccumulator + amount)\n",
    "        if self.cdp[token][address]['amount'] < minimumCollateral:\n",
    "            raise Exception(\"Borrow: Insufficient collateral Available: {} Minimum Needed: {}\".format(self.cdp[token][address]['amount'], minimumCollateral))\n",
    "        # Add debt\n",
    "        self.cdp[token][address]['debt'] = self.cdp[token][address]['debt'] + Decimal(amount) / self.debtAccumulator\n",
    "        # Add borrow\n",
    "        self.mintInUnderlying(address, amount)\n",
    "        self.totalDebt += Decimal(amount) / self.debtAccumulator\n",
    "        try:\n",
    "            assert(self.balanceOfUnderlying(address) >= amount)\n",
    "        except:     \n",
    "            print(\"amount minted: {} balance: {}\".format(amount, self.balanceOfUnderlying(address)))\n",
    "        \n",
    "    def maximumBorrow(self, token, address):\n",
    "        price = self.tokens[token]['oracle'].getPriceInToken(self.underlying)\n",
    "        maximumBorrow = self.cdp[token][address]['amount'] * price * \\\n",
    "                         (1 / self.collateralizationRatio) \n",
    "        return maximumBorrow\n",
    "    \n",
    "\n",
    "       \n",
    "    def liquidate(self, token, addressToLiquidate, LiquidatorAddress, amount):\n",
    "        price = self.tokens[token]['oracle'].getPriceInToken(self.underlying)\n",
    "        maximumBorrow = self.maximumBorrow(token, addressToLiquidate)\n",
    "        debt = self.debtInUnderlying(token, addressToLiquidate)\n",
    "        if maximumBorrow < debt:\n",
    "            # We need to liquidate\n",
    "            if amount < debt:\n",
    "                raise Exception(\"liquidate: Must liquidate entire CDP at once\")\n",
    "            availableFunds = self.balanceOfUnderlying(LiquidatorAddress)\n",
    "            if availableFunds < amount:\n",
    "                raise Exception(\"liquidate: Insufficient funds to liquidate\")\n",
    "            \n",
    "            collateralToLiquidator = debt*self.bonus/price\n",
    "            if collateralToLiquidator > self.cdp[token][addressToLiquidate]['amount']:\n",
    "                raise Exception(\"liquidate: CDP liquidated while undercollateralized. Owed to Liquidator: {} Available: {}\".format(collateralToLiquidator, self.cdp[token][addressToLiquidate]['amount']))\n",
    "            # Only burn amount of debt--it's possible to specify more than debt and have liquidate succeed\n",
    "            self.burn(LiquidatorAddress, self.getDebt(token, addressToLiquidate))\n",
    "            # Transfer liquidated funds to Liquidator\n",
    "            self.tokens[token]['token'].transferFrom(self.address, LiquidatorAddress, collateralToLiquidator)\n",
    "            # Debit CDP account \n",
    "            self.cdp[token][addressToLiquidate]['amount'] -= collateralToLiquidator\n",
    "            # Wipe Debt\n",
    "            self.cdp[token][addressToLiquidate]['debt'] = 0\n",
    "            self.totalDebt -= Decimal(amount) / self.debtAccumulator\n",
    "        else:\n",
    "            raise Exception(\"liquidate: Cannot liquidate a working CDP\")\n",
    "        \n",
    "    # Position in a particular collateral token\n",
    "    def position(self, token, address):\n",
    "        return self.cdp[token][address]\n",
    "    \n",
    "    def repay(self, token, address, amount):\n",
    "        if token not in self.tokens.keys():\n",
    "            return False\n",
    "        if amount < 0:\n",
    "            return False        \n",
    "        if amount > self.debtInUnderlying(token, address):\n",
    "            raise Exception(\"repay: Cannot repay more than available debt\")\n",
    "        if amount > self.balanceOfUnderlying(address):\n",
    "            raise Exception(\"repay: Must have sufficient funds to repay.\")\n",
    "        # Decrease debt\n",
    "        result = self.burnInUnderlying(address, amount)\n",
    "        if not result:\n",
    "            raise Exception(\"repay: Burn Tokens failed\")\n",
    "        self.cdp[token][address]['debt'] = self.cdp[token][address]['debt'] - Decimal(amount) / self.debtAccumulator\n",
    "        self.totalDebt -= Decimal(amount) / self.debtAccumulator\n",
    "        assert(self.cdp[token][address]['debt'] >= 0)\n",
    "        \n",
    "    def updateRates(self):\n",
    "        if self.totalSupply == 0:\n",
    "            return\n",
    "        imbalance = self.qx.measureRatio()    \n",
    "        if imbalance > self.reservesTarget:\n",
    "            # lower interest rate\n",
    "            self.updateRate(-self.interestUpdateAmount)\n",
    "        elif imbalance < self.reservesTarget - self.adjustmentFreeWindow:\n",
    "            # raise interest rate\n",
    "            self.updateRate(self.interestUpdateAmount)\n",
    "\n",
    "        \n",
    "        "
   ]
  },
  {
   "cell_type": "code",
   "execution_count": 11,
   "metadata": {},
   "outputs": [
    {
     "name": "stdout",
     "output_type": "stream",
     "text": [
      "1.089910089910089989391554706\n"
     ]
    },
    {
     "data": {
      "text/plain": [
       "Decimal('-1')"
      ]
     },
     "execution_count": 11,
     "metadata": {},
     "output_type": "execute_result"
    }
   ],
   "source": [
    "debtRate = Decimal(1.1)\n",
    "totalDebt = Decimal(1000)\n",
    "minimumSpread = Decimal(.1)\n",
    "totalSupply = Decimal(1000)\n",
    "\n",
    "rate = Decimal(1) + ((debtRate-1) * totalDebt * (1 - minimumSpread))/(1 + totalSupply)\n",
    "print(rate)\n",
    "-Decimal('1')"
   ]
  },
  {
   "cell_type": "code",
   "execution_count": 12,
   "metadata": {},
   "outputs": [],
   "source": [
    "# Basic test of pyToken class\n",
    "\n",
    "chain = blockchain(1,1)\n",
    "BAT = Token(\"BAT\")\n",
    "DAI = Token(\"DAI\")\n",
    "oracleA = Oracle(BAT, DAI)\n",
    "\n",
    "collateral = Token(\"Collateral\")\n",
    "oracleC = Oracle(collateral, BAT)\n",
    "oracleC.setPrice(Decimal(1000000))\n",
    "pyBAT = pyToken(chain, BAT, oracleA)\n",
    "pyBAT.addCollateralType(collateral, oracleC)\n",
    "qx = QX(BAT , pyBAT)\n",
    "pyBAT.setQueueExchange(qx)\n",
    "\n",
    "oracleC.setPrice(Decimal(1000))\n",
    "BAT.mint(\"A\", Decimal('1000'))\n",
    "collateral.mint(\"B\", Decimal('1000'))\n",
    "pyBAT.addCollateral(\"Collateral\", \"B\", Decimal('100'))\n",
    "pyBAT.borrow(\"Collateral\", \"B\", Decimal('10'))\n",
    "pyBAT.repay(\"Collateral\", \"B\", Decimal('10'))\n",
    "pyBAT.borrow(\"Collateral\", \"B\", Decimal('10'))\n",
    "assert(pyBAT.balanceOf(\"B\") == Decimal('10'))\n"
   ]
  },
  {
   "cell_type": "code",
   "execution_count": 13,
   "metadata": {},
   "outputs": [],
   "source": [
    "# Liquidation Test\n",
    "oracleC.getPriceInToken(collateral)\n",
    "debt = pyBAT.debtInUnderlying(\"Collateral\", \"B\")\n",
    "maxBorrow = pyBAT.maximumBorrow(\"Collateral\", \"B\")\n",
    "pyBAT.borrow(\"Collateral\", \"B\", maxBorrow-debt)\n",
    "# Now make repo undercollateralized\n",
    "oracleC.setPriceInToken(BAT, Decimal(900))\n",
    "pyBAT.mint(\"A\", Decimal('100000'))\n",
    "pyBAT.liquidate(\"Collateral\", \"B\", \"A\", pyBAT.debtInUnderlying(\"Collateral\", \"B\"))\n",
    "assert(pyBAT.debtInUnderlying(\"Collateral\", \"B\") == Decimal('0'))\n",
    "assert(collateral.balanceOf(\"A\") == Decimal('71.89542483660130718954248367'))\n",
    "assert(pyBAT.getCollateral(\"Collateral\", \"B\") + collateral.balanceOf(\"A\") == Decimal('100.0000000000000000000000000'))"
   ]
  },
  {
   "cell_type": "code",
   "execution_count": 14,
   "metadata": {},
   "outputs": [],
   "source": [
    "# External market that provides \"infinite\" liquidity\n",
    "class ReferenceExchange:\n",
    "    def __init__(self):\n",
    "        self.tokenPairs = {}\n",
    "        self.address = \"0xReferenceExchange\"\n",
    "    \n",
    "    # Add pair. The price is the number of tokenB per tokenA\n",
    "    def addPair(self, tokenA, tokenB):\n",
    "        firstToken = tokenB.name()\n",
    "        secondToken = tokenA.name()\n",
    "        if tokenA.name() > tokenB.name():\n",
    "            firstToken = tokenA.name()\n",
    "            secondToken = tokenB.name()\n",
    "        \n",
    "        if firstToken not in self.tokenPairs.keys():\n",
    "            self.tokenPairs[firstToken] = {secondToken: {}}\n",
    "        self.tokenPairs[firstToken][secondToken] = {'Base':tokenA, 'Quote':tokenB, 'Price':Decimal('0')}  \n",
    "        \n",
    "        # mint a lot of tokens for both sides\n",
    "        tokenA.mint(self.address, Decimal(1000000000))\n",
    "        tokenB.mint(self.address, Decimal(1000000000))\n",
    "\n",
    "    \n",
    "    def updatePairPrice(self, tokenA, tokenB, price):\n",
    "        firstToken = tokenB.name()\n",
    "        secondToken = tokenA.name()\n",
    "        if tokenA.name() > tokenB.name():\n",
    "            firstToken = tokenA.name()\n",
    "            secondToken = tokenB.name()\n",
    "        self.tokenPairs[firstToken][secondToken]['Price'] = price\n",
    "    \n",
    "    def trade(self, tokenA, tokenB, tokenAAmount, address):\n",
    "        # transfer in tokenA\n",
    "        result = tokenA.transferFrom(address, self.address, tokenAAmount)\n",
    "        if result: \n",
    "            firstToken = tokenB.name()\n",
    "            secondToken = tokenA.name()\n",
    "            if tokenA.name() > tokenB.name():\n",
    "                firstToken = tokenA.name()\n",
    "                secondToken = tokenB.name()\n",
    "            pair = self.tokenPairs[firstToken][secondToken]\n",
    "            multiplier = 0\n",
    "            if pair['Quote'].name() == tokenB.name():\n",
    "                multiplier = pair['Price']\n",
    "            else:\n",
    "                multiplier = 1/pair['Price']\n",
    "            # calculate amount of tokenB to send\n",
    "            tokens_to_send = tokenAAmount * multiplier\n",
    "            # send tokenB to address\n",
    "            transferR = tokenB.transferFrom(self.address, address, tokens_to_send)\n",
    "            return (tokens_to_send, transferR)\n",
    "        else:\n",
    "            raise Exception(\"Trade: Token transfer failed\")"
   ]
  },
  {
   "cell_type": "code",
   "execution_count": 15,
   "metadata": {},
   "outputs": [],
   "source": [
    "class Interface:\n",
    "    \n",
    "    def __init__(self, _chain : blockchain, _uTokenA : Token, _uTokenB : Token, oracle):\n",
    "        self.A = _uTokenA\n",
    "        self.B = _uTokenB\n",
    "        self.chain = _chain\n",
    "        self.oracle = oracle\n",
    "        self.pyA = pyToken(_chain, self.A, oracle)\n",
    "        self.pyB = pyToken(_chain, self.B, oracle)\n",
    "        self.pyA.setPair(self.pyB)\n",
    "        self.pyB.setPair(self.pyA)\n",
    "        self.qxA = QX(self.A , self.pyA)\n",
    "        self.qxB = QX(self.B , self.pyB)\n",
    "        self.pyA.setQueueExchange(self.qxA)\n",
    "        self.pyB.setQueueExchange(self.qxB)\n",
    "        # Add \"ETH\" as acceptable collateral\n",
    "        self.eth = Token(\"ETH\")\n",
    "        self.ethAOracle = Oracle(self.eth, self.A)\n",
    "        self.ethBOracle = Oracle(self.eth, self.B)\n",
    "        self.ethAOracle.setPrice(Decimal('100'))\n",
    "        self.ethBOracle.setPrice(Decimal(100/oracle.currentPrice()))\n",
    "        self.pyA.addCollateralType(self.eth, self.ethAOracle)\n",
    "        self.pyB.addCollateralType(self.eth, self.ethBOracle)\n",
    "        self.ref = ReferenceExchange()\n",
    "        self.ref.addPair(self.eth, self.A)\n",
    "        self.ref.updatePairPrice(self.eth, self.A, self.ethAOracle.currentPrice())\n",
    "        self.ref.addPair(self.eth, self.B)\n",
    "        self.ref.updatePairPrice(self.eth, self.B, self.ethBOracle.currentPrice())\n",
    "        \n",
    "    def updateInterestRates(self):\n",
    "        self.pyA.updateRates()\n",
    "        self.pyB.updateRates()\n",
    "        self.pyA.accrueInterest()\n",
    "        self.pyB.accrueInterest()\n",
    "    \n",
    "    def eachBlock(self):\n",
    "        self.chain.incrementBlock()\n",
    "        self.updateInterestRates()\n",
    "        \n",
    "        \n",
    "        \n"
   ]
  },
  {
   "cell_type": "code",
   "execution_count": null,
   "metadata": {},
   "outputs": [],
   "source": []
  },
  {
   "cell_type": "markdown",
   "metadata": {},
   "source": [
    "## Agents"
   ]
  },
  {
   "cell_type": "code",
   "execution_count": 16,
   "metadata": {},
   "outputs": [],
   "source": [
    "class Agent:\n",
    "    def __init__(self, _interface):\n",
    "        self.interface = _interface\n",
    "        self.address = numpy.random.randint(1,1000)\n",
    "        \n",
    "    def setup(self):\n",
    "        pass\n",
    "    \n",
    "    def performActions(self):\n",
    "        pass\n",
    "    \n",
    "    def shutdown(self):\n",
    "        pass\n",
    "    \n",
    "\n",
    "class YieldAgent(Agent):\n",
    "    def __init__(self, _interface):\n",
    "        super().__init__(_interface)\n",
    "        self.address = \"0xYA_HodlPY\" + str(self.address)\n",
    "        self.block = 0\n",
    "        \n",
    "    def setup(self):   \n",
    "        self.initialA = min(Decimal(round(numpy.random.lognormal(6, 1))), Decimal(1000))\n",
    "        self.initialB = min(Decimal(round(numpy.random.lognormal(6, 1))), Decimal(1000))\n",
    "        #self.initialA =  Decimal(1000000000)\n",
    "        #self.initialB =  Decimal(1000000000)\n",
    "        self.interface.A.mint(self.address, Decimal(self.initialA))\n",
    "        self.interface.B.mint(self.address, Decimal(self.initialB))\n",
    "        self.initial_exchange_rate = self.interface.oracle.currentPrice()\n",
    "        self.lowerRate = Decimal(numpy.random.uniform(0,7) / 100)\n",
    "        self.upperRate = self.lowerRate + Decimal(numpy.random.uniform(0,5) / 100)\n",
    "    \n",
    "    def performActions(self):\n",
    "        if self.interface.pyA.yearlyRate() > self.upperRate:\n",
    "            self.HODL()\n",
    "        elif self.interface.pyA.yearlyRate() < self.lowerRate:\n",
    "            self.unHODL()\n",
    "            \n",
    "    def HODL(self):\n",
    "        self.block = self.interface.chain.block\n",
    "        if self.interface.A.balanceOf(self.address) > 0:\n",
    "            aBalance = self.interface.A.balanceOf(self.address)\n",
    "            self.interface.qxA.mint(self.address, aBalance)\n",
    "            print(\"HODLing {} tokens at rate {}\".format(aBalance, round(self.upperRate, 4)))\n",
    "            \n",
    "    def unHODL(self):\n",
    "        if self.block - self.interface.chain.block < 10:\n",
    "            return\n",
    "        amount = min(self.interface.pyA.balanceOfUnderlying(self.address), self.interface.qxA.underlying)\n",
    "        amount = amount*Decimal('0.1')\n",
    "        if amount > 0:\n",
    "            # let's only remove 10% at a time\n",
    "            self.interface.qxA.redeem(self.address, amount)\n",
    "            print(\"unHODLing {} tokens\".format(amount*Decimal('0.99'), round(self.lowerRate, 4)))\n",
    "            \n",
    "            \n",
    "# Borrow agents lever up on ETH collateral by selling pyTokens\n",
    "class BorrowAgent(Agent):\n",
    "    def __init__(self, _interface):\n",
    "        super().__init__(_interface)\n",
    "        self.address = \"0xBA_longETH\" + str(self.address)\n",
    "        \n",
    "    def setup(self):\n",
    "        self.initialETH = min(Decimal(round(numpy.random.lognormal(3, 1))), Decimal(100))\n",
    "        self.interface.eth.mint(self.address, Decimal(self.initialETH ))\n",
    "        ethReserve = self.initialETH * Decimal('0.1')\n",
    "        self.each = (self.initialETH - ethReserve)/2\n",
    "        self.interface.pyA.addCollateral(\"ETH\", self.address, self.each )\n",
    "        self.interface.pyB.addCollateral(\"ETH\", self.address, self.each )\n",
    "        price = self.interface.ethAOracle.getPriceInToken(self.interface.A)\n",
    "        self.desiredBorrow = Decimal('0.5')*self.interface.pyA.maximumBorrow(\"ETH\", self.address)\n",
    "        self.interface.A.mint(self.address, self.desiredBorrow*1000)\n",
    "        self.lowerRate = Decimal(numpy.random.uniform(0,10) / 100)\n",
    "        self.upperRate = self.lowerRate + Decimal(numpy.random.uniform(0,5) / 100)\n",
    "    \n",
    "    def performActions(self):\n",
    "        if self.interface.pyA.yearlyDebtRate() > self.upperRate:\n",
    "            self.unBorrow()\n",
    "        elif self.interface.pyA.yearlyDebtRate() < self.lowerRate:\n",
    "            self.borrow()\n",
    "        uAmount = min(self.interface.pyA.balanceOfUnderlying(self.address), self.interface.qxA.underlying)\n",
    "        if uAmount > Decimal('0.1'):\n",
    "            self.interface.qxA.redeem(self.address, uAmount*Decimal(.99))\n",
    "            print(\"Withdrew {} tokens at {}\".format(round(uAmount*Decimal(.99), 4), round(self.lowerRate, 4) ))\n",
    "            \n",
    "            \n",
    "    def borrow(self):\n",
    "        price = self.interface.ethAOracle.getPriceInToken(self.interface.A)\n",
    "        #if we've already mostly borrowed what we desire, let's stop\n",
    "        if self.interface.pyA.debtInUnderlying(\"ETH\", self.address) > Decimal('.99') * self.desiredBorrow:\n",
    "            return\n",
    "        #initiate borrow\n",
    "        borrowRatio = Decimal('0.5')\n",
    "        amount = self.interface.pyA.maximumBorrow(\"ETH\", self.address) - self.interface.pyA.debtInUnderlying(\"ETH\", self.address)\n",
    "        borrow = (amount * borrowRatio) / (self.interface.pyA.collateralizationRatio )\n",
    "        if borrow > Decimal('0.1'):\n",
    "            self.interface.pyA.borrow(\"ETH\", self.address, borrow)\n",
    "            print(\"Borrowed {} tokens at {}\".format(round(borrow, 4), round(self.lowerRate, 4) ))\n",
    "\n",
    "    \n",
    "    def unBorrow(self):\n",
    "        amount = Decimal('0.95') * self.interface.pyA.debtInUnderlying(\"ETH\", self.address)\n",
    "        #funds = self.interface.A.balanceOf(self.address)\n",
    "        #toUnBorrow = min(debt, funds)\n",
    "        if amount > Decimal('0.1'):\n",
    "            try:\n",
    "                self.interface.qxA.mint(self.address, amount*Decimal(1.01))\n",
    "                self.interface.pyA.repay(\"ETH\", self.address, amount)\n",
    "                print(\"unBorrowed {} tokens at {}\".format(round(amount, 4), round(self.upperRate, 4) ))\n",
    "            except Exception as e: \n",
    "                print(\"failed to unborrow. amount:{} underlying balance: {} pyTokens: {} \".format(amount, self.interface.A.balanceOf(self.address), self.interface.pyA.balanceOfUnderlying(self.address)))\n",
    "                raise e\n",
    "    \n"
   ]
  },
  {
   "cell_type": "code",
   "execution_count": null,
   "metadata": {},
   "outputs": [],
   "source": []
  },
  {
   "cell_type": "code",
   "execution_count": 169,
   "metadata": {},
   "outputs": [
    {
     "name": "stdout",
     "output_type": "stream",
     "text": [
      "Borrowed 54.4983 tokens at 0.0688\n",
      "Borrowed 85.6401 tokens at 0.0663\n",
      "Borrowed 38.4694 tokens at 0.0688\n",
      "Borrowed 60.4519 tokens at 0.0663\n",
      "Borrowed 132.3529 tokens at 0.0697\n",
      "Borrowed 93.4256 tokens at 0.0697\n",
      "Borrowed 171.2803 tokens at 0.0648\n",
      "Borrowed 120.9037 tokens at 0.0648\n",
      "Borrowed 108.9965 tokens at 0.0749\n",
      "Borrowed 76.9387 tokens at 0.0749\n",
      "HODLing 1000 tokens at rate 0.0092\n",
      "Withdrew 92.0380 tokens at 0.0688\n",
      "Withdrew 144.6312 tokens at 0.0663\n",
      "Withdrew 223.5209 tokens at 0.0697\n",
      "Withdrew 289.2623 tokens at 0.0648\n",
      "Withdrew 184.0760 tokens at 0.0749\n",
      "Withdrew 0.9204 tokens at 0.0688\n",
      "Withdrew 1.4463 tokens at 0.0663\n",
      "Withdrew 2.2352 tokens at 0.0697\n",
      "Withdrew 2.8926 tokens at 0.0648\n",
      "Withdrew 1.8408 tokens at 0.0749\n",
      "Borrowed 155.7093 tokens at 0.0738\n",
      "Withdrew 56.5649 tokens at 0.0738\n",
      "Borrowed 109.9125 tokens at 0.0738\n",
      "Withdrew 0.5656 tokens at 0.0738\n",
      "Borrowed 700.6920 tokens at 0.0973\n",
      "Borrowed 494.6061 tokens at 0.0973\n",
      "Borrowed 607.2664 tokens at 0.0811\n",
      "Borrowed 428.6587 tokens at 0.0811\n",
      "Borrowed 54.4983 tokens at 0.0856\n",
      "Borrowed 38.4694 tokens at 0.0856\n",
      "Borrowed 132.3529 tokens at 0.0451\n",
      "Borrowed 93.4256 tokens at 0.0451\n",
      "HODLing 117 tokens at rate 0.0402\n",
      "Withdrew 115.8357 tokens at 0.0738\n",
      "Withdrew 1.1584 tokens at 0.0973\n",
      "unBorrowed 214.4901 tokens at 0.0502\n",
      "Withdrew 214.4802 tokens at 0.0451\n",
      "Withdrew 2.1448 tokens at 0.0738\n",
      "unBorrowed 10.7245 tokens at 0.0502\n",
      "Withdrew 10.7449 tokens at 0.0451\n",
      "HODLing 468 tokens at rate 0.0453\n",
      "Withdrew 89.6063 tokens at 0.0738\n",
      "Withdrew 374.7172 tokens at 0.0973\n",
      "Withdrew 3.7472 tokens at 0.0811\n",
      "unBorrowed 0.5362 tokens at 0.0502\n",
      "Withdrew 0.5736 tokens at 0.0451\n",
      "HODLing 1000 tokens at rate 0.0461\n",
      "Withdrew 0.8961 tokens at 0.0738\n",
      "Withdrew 811.2328 tokens at 0.0973\n",
      "Withdrew 185.9981 tokens at 0.0811\n",
      "Withdrew 1.8600 tokens at 0.0856\n",
      "HODLing 228 tokens at rate 0.0487\n",
      "Withdrew 8.1123 tokens at 0.0973\n",
      "Withdrew 217.7074 tokens at 0.0811\n",
      "Withdrew 2.1771 tokens at 0.0856\n",
      "HODLing 187 tokens at rate 0.0499\n",
      "Withdrew 185.1518 tokens at 0.0811\n",
      "Withdrew 1.8515 tokens at 0.0856\n",
      "HODLing 65 tokens at rate 0.0357\n",
      "Withdrew 64.3685 tokens at 0.0811\n",
      "Withdrew 0.6437 tokens at 0.0856\n",
      "HODLing 858 tokens at rate 0.0508\n",
      "Withdrew 375.1670 tokens at 0.0811\n",
      "Withdrew 85.5714 tokens at 0.0856\n",
      "Withdrew 2.2154 tokens at 0.0451\n",
      "Withdrew 3.7517 tokens at 0.0811\n",
      "Withdrew 0.8557 tokens at 0.0856\n",
      "HODLing 293 tokens at rate 0.0560\n",
      "Borrowed 54.4983 tokens at 0.0566\n",
      "Withdrew 53.9533 tokens at 0.0566\n",
      "Borrowed 38.4694 tokens at 0.0566\n",
      "Withdrew 38.6242 tokens at 0.0566\n",
      "Withdrew 0.3862 tokens at 0.0566\n",
      "Borrowed 140.1384 tokens at 0.0759\n",
      "Withdrew 138.7370 tokens at 0.0759\n",
      "Borrowed 98.9212 tokens at 0.0759\n",
      "Withdrew 99.3194 tokens at 0.0759\n",
      "Withdrew 0.9932 tokens at 0.0759\n",
      "HODLing 869 tokens at rate 0.0468\n",
      "Borrowed 140.1384 tokens at 0.0541\n",
      "Withdrew 138.7370 tokens at 0.0541\n",
      "Borrowed 98.9212 tokens at 0.0541\n",
      "Withdrew 99.3194 tokens at 0.0541\n",
      "Withdrew 0.9932 tokens at 0.0541\n",
      "Borrowed 132.3446 tokens at 0.0451\n",
      "Withdrew 131.0433 tokens at 0.0451\n",
      "Borrowed 93.4197 tokens at 0.0451\n",
      "Withdrew 93.7960 tokens at 0.0451\n",
      "Withdrew 0.9380 tokens at 0.0451\n",
      "Borrowed 210.2076 tokens at 0.0267\n",
      "Withdrew 208.1055 tokens at 0.0267\n",
      "Withdrew 2.0811 tokens at 0.0267\n",
      "Borrowed 202.4221 tokens at 0.0980\n",
      "Withdrew 200.3979 tokens at 0.0980\n",
      "Borrowed 142.8862 tokens at 0.0980\n",
      "Withdrew 143.4613 tokens at 0.0980\n",
      "Withdrew 1.4346 tokens at 0.0980\n",
      "HODLing 150 tokens at rate 0.0326\n",
      "Borrowed 373.7024 tokens at 0.0836\n",
      "Withdrew 346.6234 tokens at 0.0836\n",
      "Borrowed 263.7899 tokens at 0.0836\n",
      "Withdrew 3.4662 tokens at 0.0836\n",
      "unBorrowed 214.5045 tokens at 0.0502\n",
      "Withdrew 2.1330 tokens at 0.0451\n",
      "Withdrew 212.4061 tokens at 0.0836\n",
      "unBorrowed 10.7252 tokens at 0.0502\n",
      "Withdrew 0.1275 tokens at 0.0451\n",
      "Withdrew 12.7220 tokens at 0.0836\n",
      "unBorrowed 0.5363 tokens at 0.0502\n",
      "Withdrew 0.6634 tokens at 0.0836\n",
      "unBorrowed 199.6983 tokens at 0.0561\n",
      "Withdrew 1.9978 tokens at 0.0267\n",
      "Withdrew 60.9954 tokens at 0.0836\n",
      "unBorrowed 9.9849 tokens at 0.0561\n",
      "Withdrew 0.1188 tokens at 0.0267\n",
      "Withdrew 0.6100 tokens at 0.0836\n",
      "unBorrowed 0.4992 tokens at 0.0561\n",
      "Borrowed 778.5467 tokens at 0.0614\n",
      "Withdrew 147.0833 tokens at 0.0614\n",
      "Borrowed 549.5624 tokens at 0.0614\n",
      "Withdrew 1.4708 tokens at 0.0614\n",
      "unBorrowed 1261.7053 tokens at 0.0617\n",
      "Withdrew 1180.2517 tokens at 0.0614\n",
      "unBorrowed 63.0853 tokens at 0.0617\n",
      "Withdrew 12.4271 tokens at 0.0614\n",
      "unBorrowed 3.1543 tokens at 0.0617\n",
      "Withdrew 0.1555 tokens at 0.0614\n",
      "unBorrowed 0.1577 tokens at 0.0617\n",
      "unBorrowed 227.1097 tokens at 0.0682\n",
      "Withdrew 2.2583 tokens at 0.0541\n",
      "unBorrowed 11.3555 tokens at 0.0682\n",
      "Withdrew 0.1350 tokens at 0.0541\n",
      "unBorrowed 0.5678 tokens at 0.0682\n",
      "unBorrowed 88.3219 tokens at 0.0698\n",
      "Withdrew 0.8836 tokens at 0.0688\n",
      "unBorrowed 4.4161 tokens at 0.0698\n",
      "unBorrowed 0.2208 tokens at 0.0698\n",
      "HODLing 425 tokens at rate 0.0596\n",
      "Borrowed 54.4949 tokens at 0.0688\n",
      "Withdrew 54.0046 tokens at 0.0688\n",
      "Borrowed 38.4670 tokens at 0.0688\n",
      "Withdrew 38.6223 tokens at 0.0688\n",
      "Withdrew 0.3862 tokens at 0.0688\n",
      "Borrowed 778.5443 tokens at 0.0614\n",
      "Withdrew 770.7619 tokens at 0.0614\n",
      "Withdrew 7.7076 tokens at 0.0614\n",
      "unBorrowed 739.6250 tokens at 0.0617\n",
      "Withdrew 7.3994 tokens at 0.0614\n",
      "Borrowed 767.0974 tokens at 0.0614\n",
      "Withdrew 759.5004 tokens at 0.0614\n",
      "Withdrew 7.5950 tokens at 0.0614\n",
      "unBorrowed 765.7239 tokens at 0.0617\n",
      "Withdrew 7.6566 tokens at 0.0614\n",
      "Borrowed 766.6934 tokens at 0.0614\n",
      "Withdrew 759.1030 tokens at 0.0614\n",
      "Withdrew 7.5910 tokens at 0.0614\n",
      "unBorrowed 766.6450 tokens at 0.0617\n",
      "Withdrew 7.6657 tokens at 0.0614\n",
      "Borrowed 766.6791 tokens at 0.0614\n",
      "Withdrew 759.0890 tokens at 0.0614\n",
      "Withdrew 7.5909 tokens at 0.0614\n",
      "unBorrowed 766.6775 tokens at 0.0617\n",
      "Withdrew 7.6660 tokens at 0.0614\n",
      "Borrowed 766.6786 tokens at 0.0614\n",
      "Withdrew 759.0885 tokens at 0.0614\n",
      "Withdrew 7.5909 tokens at 0.0614\n",
      "unBorrowed 766.6787 tokens at 0.0617\n",
      "Withdrew 7.6660 tokens at 0.0614\n",
      "Borrowed 766.6786 tokens at 0.0614\n",
      "Withdrew 759.0885 tokens at 0.0614\n",
      "Withdrew 7.5909 tokens at 0.0614\n",
      "unBorrowed 766.6787 tokens at 0.0617\n",
      "Withdrew 7.6660 tokens at 0.0614\n",
      "Borrowed 766.6786 tokens at 0.0614\n",
      "Withdrew 759.0885 tokens at 0.0614\n",
      "Withdrew 7.5909 tokens at 0.0614\n",
      "unBorrowed 766.6787 tokens at 0.0617\n",
      "Withdrew 7.6660 tokens at 0.0614\n",
      "Borrowed 766.6786 tokens at 0.0614\n",
      "Withdrew 759.0885 tokens at 0.0614\n",
      "Withdrew 7.5909 tokens at 0.0614\n",
      "unBorrowed 766.6787 tokens at 0.0617\n",
      "Withdrew 7.6660 tokens at 0.0614\n",
      "Borrowed 766.6786 tokens at 0.0614\n",
      "Withdrew 759.0885 tokens at 0.0614\n",
      "Withdrew 7.5909 tokens at 0.0614\n",
      "unBorrowed 766.6787 tokens at 0.0617\n",
      "Withdrew 7.6660 tokens at 0.0614\n",
      "Borrowed 766.6786 tokens at 0.0614\n",
      "Withdrew 759.0885 tokens at 0.0614\n",
      "Withdrew 7.5909 tokens at 0.0614\n",
      "unBorrowed 766.6787 tokens at 0.0617\n",
      "Withdrew 7.6660 tokens at 0.0614\n",
      "Borrowed 766.6786 tokens at 0.0614\n",
      "Withdrew 759.0885 tokens at 0.0614\n",
      "Withdrew 7.5909 tokens at 0.0614\n",
      "unBorrowed 766.6787 tokens at 0.0617\n",
      "Withdrew 7.6660 tokens at 0.0614\n",
      "Borrowed 766.6786 tokens at 0.0614\n",
      "Withdrew 759.0885 tokens at 0.0614\n",
      "Withdrew 7.5909 tokens at 0.0614\n",
      "HODLing 1000 tokens at rate 0.0538\n",
      "Borrowed 541.1849 tokens at 0.0614\n",
      "Withdrew 535.8490 tokens at 0.0614\n",
      "Withdrew 5.3585 tokens at 0.0614\n",
      "unBorrowed 1280.8045 tokens at 0.0617\n",
      "Withdrew 12.7335 tokens at 0.0614\n",
      "Withdrew 0.1273 tokens at 0.0614\n",
      "Borrowed 758.7200 tokens at 0.0614\n",
      "Withdrew 751.1341 tokens at 0.0614\n",
      "Borrowed 535.5671 tokens at 0.0614\n",
      "Withdrew 537.7227 tokens at 0.0614\n",
      "Withdrew 5.3772 tokens at 0.0614\n",
      "unBorrowed 1293.6132 tokens at 0.0617\n",
      "Withdrew 12.8605 tokens at 0.0614\n",
      "Withdrew 0.1286 tokens at 0.0614\n",
      "Borrowed 758.5217 tokens at 0.0614\n",
      "Withdrew 750.9378 tokens at 0.0614\n",
      "Borrowed 535.4271 tokens at 0.0614\n",
      "Withdrew 537.5822 tokens at 0.0614\n",
      "Withdrew 5.3758 tokens at 0.0614\n",
      "unBorrowed 1293.9323 tokens at 0.0617\n",
      "Withdrew 12.8637 tokens at 0.0614\n",
      "Withdrew 0.1286 tokens at 0.0614\n",
      "Borrowed 758.5168 tokens at 0.0614\n",
      "Withdrew 750.9329 tokens at 0.0614\n",
      "Borrowed 535.4236 tokens at 0.0614\n",
      "Withdrew 537.5787 tokens at 0.0614\n",
      "Withdrew 5.3758 tokens at 0.0614\n",
      "unBorrowed 1293.9402 tokens at 0.0617\n",
      "Withdrew 12.8638 tokens at 0.0614\n",
      "Withdrew 0.1286 tokens at 0.0614\n",
      "Borrowed 758.5167 tokens at 0.0614\n",
      "Withdrew 750.9328 tokens at 0.0614\n",
      "Borrowed 535.4235 tokens at 0.0614\n",
      "Withdrew 537.5786 tokens at 0.0614\n",
      "Withdrew 5.3758 tokens at 0.0614\n",
      "unBorrowed 1293.9404 tokens at 0.0617\n",
      "Withdrew 12.8638 tokens at 0.0614\n",
      "Withdrew 0.1286 tokens at 0.0614\n",
      "Borrowed 758.5167 tokens at 0.0614\n",
      "Withdrew 750.9328 tokens at 0.0614\n",
      "Borrowed 535.4235 tokens at 0.0614\n",
      "Withdrew 537.5786 tokens at 0.0614\n",
      "Withdrew 5.3758 tokens at 0.0614\n",
      "unBorrowed 1293.9404 tokens at 0.0617\n",
      "Withdrew 12.8638 tokens at 0.0614\n",
      "Withdrew 0.1286 tokens at 0.0614\n",
      "Borrowed 758.5167 tokens at 0.0614\n",
      "Withdrew 750.9328 tokens at 0.0614\n",
      "Borrowed 535.4235 tokens at 0.0614\n",
      "Withdrew 537.5786 tokens at 0.0614\n",
      "Withdrew 5.3758 tokens at 0.0614\n",
      "unBorrowed 1293.9404 tokens at 0.0617\n",
      "Withdrew 12.8638 tokens at 0.0614\n",
      "Withdrew 0.1286 tokens at 0.0614\n",
      "Borrowed 758.5167 tokens at 0.0614\n",
      "Withdrew 750.9328 tokens at 0.0614\n",
      "Borrowed 535.4235 tokens at 0.0614\n",
      "Withdrew 537.5786 tokens at 0.0614\n",
      "Withdrew 5.3758 tokens at 0.0614\n",
      "unBorrowed 1293.9404 tokens at 0.0617\n",
      "Withdrew 12.8638 tokens at 0.0614\n",
      "HODLing 402 tokens at rate 0.0467\n",
      "Withdrew 0.1286 tokens at 0.0614\n",
      "Borrowed 758.5167 tokens at 0.0614\n",
      "Withdrew 750.9328 tokens at 0.0614\n",
      "Borrowed 535.4235 tokens at 0.0614\n",
      "Withdrew 537.5786 tokens at 0.0614\n",
      "Withdrew 5.3758 tokens at 0.0614\n",
      "Borrowed 140.1296 tokens at 0.0541\n",
      "Withdrew 138.7353 tokens at 0.0541\n",
      "Withdrew 1.3874 tokens at 0.0541\n"
     ]
    },
    {
     "name": "stdout",
     "output_type": "stream",
     "text": [
      "unBorrowed 1293.9451 tokens at 0.0617\n",
      "Withdrew 12.8638 tokens at 0.0614\n",
      "Withdrew 0.1286 tokens at 0.0614\n",
      "Borrowed 758.5166 tokens at 0.0614\n",
      "Withdrew 750.9327 tokens at 0.0614\n",
      "Borrowed 535.4235 tokens at 0.0614\n",
      "Withdrew 537.5786 tokens at 0.0614\n",
      "Withdrew 5.3758 tokens at 0.0614\n",
      "unBorrowed 1293.9405 tokens at 0.0617\n",
      "Withdrew 12.8638 tokens at 0.0614\n",
      "Withdrew 0.1286 tokens at 0.0614\n",
      "HODLing 390 tokens at rate 0.0346\n",
      "Borrowed 758.5167 tokens at 0.0614\n",
      "Withdrew 750.9328 tokens at 0.0614\n",
      "Borrowed 535.4235 tokens at 0.0614\n",
      "Withdrew 537.5786 tokens at 0.0614\n",
      "Withdrew 5.3758 tokens at 0.0614\n",
      "Borrowed 98.9149 tokens at 0.0541\n",
      "Withdrew 97.9396 tokens at 0.0541\n",
      "Withdrew 0.9794 tokens at 0.0541\n",
      "HODLing 1000 tokens at rate 0.0349\n",
      "Borrowed 132.3446 tokens at 0.0451\n",
      "Withdrew 131.0278 tokens at 0.0451\n",
      "Borrowed 93.4197 tokens at 0.0451\n",
      "Withdrew 93.7958 tokens at 0.0451\n",
      "Withdrew 0.9380 tokens at 0.0451\n",
      "Borrowed 225.7785 tokens at 0.0446\n",
      "Withdrew 223.5208 tokens at 0.0446\n",
      "Borrowed 159.3731 tokens at 0.0446\n",
      "Withdrew 160.0146 tokens at 0.0446\n",
      "Withdrew 1.6001 tokens at 0.0446\n",
      "HODLing 101 tokens at rate 0.0281\n",
      "Borrowed 295.8478 tokens at 0.0993\n",
      "Withdrew 292.8893 tokens at 0.0993\n",
      "Borrowed 208.8337 tokens at 0.0993\n",
      "Withdrew 209.6743 tokens at 0.0993\n",
      "Withdrew 2.0967 tokens at 0.0993\n",
      "Borrowed 93.4256 tokens at 0.0511\n",
      "Withdrew 92.4913 tokens at 0.0511\n",
      "Borrowed 65.9475 tokens at 0.0511\n",
      "Withdrew 66.2129 tokens at 0.0511\n",
      "Withdrew 0.6621 tokens at 0.0511\n",
      "Borrowed 31.1419 tokens at 0.0970\n",
      "Withdrew 30.8304 tokens at 0.0970\n",
      "Borrowed 21.9825 tokens at 0.0970\n",
      "Withdrew 22.0710 tokens at 0.0970\n",
      "Withdrew 0.2207 tokens at 0.0970\n",
      "Borrowed 350.3460 tokens at 0.0867\n",
      "Withdrew 346.8426 tokens at 0.0867\n",
      "HODLing 884 tokens at rate 0.0332\n",
      "Borrowed 247.3031 tokens at 0.0867\n",
      "Withdrew 248.2985 tokens at 0.0867\n",
      "Withdrew 2.4830 tokens at 0.0867\n",
      "HODLing 882 tokens at rate 0.0208\n",
      "Borrowed 210.1999 tokens at 0.0267\n",
      "Withdrew 208.1040 tokens at 0.0267\n",
      "Borrowed 148.3764 tokens at 0.0267\n",
      "Withdrew 148.9737 tokens at 0.0267\n",
      "Withdrew 1.4897 tokens at 0.0267\n",
      "Borrowed 77.8547 tokens at 0.0255\n",
      "Withdrew 77.0761 tokens at 0.0255\n",
      "Borrowed 54.9562 tokens at 0.0255\n",
      "Withdrew 55.1774 tokens at 0.0255\n",
      "Withdrew 0.5518 tokens at 0.0255\n",
      "Borrowed 124.5675 tokens at 0.0243\n",
      "Withdrew 123.3218 tokens at 0.0243\n",
      "Borrowed 87.9300 tokens at 0.0243\n",
      "Withdrew 88.2839 tokens at 0.0243\n",
      "Withdrew 0.8828 tokens at 0.0243\n",
      "Borrowed 46.7128 tokens at 0.0183\n",
      "Withdrew 46.2457 tokens at 0.0183\n",
      "Borrowed 32.9737 tokens at 0.0183\n",
      "Withdrew 33.1065 tokens at 0.0183\n",
      "Withdrew 0.3311 tokens at 0.0183\n",
      "Borrowed 179.0657 tokens at 0.0179\n",
      "Withdrew 177.2751 tokens at 0.0179\n",
      "Borrowed 126.3993 tokens at 0.0179\n",
      "Withdrew 126.9081 tokens at 0.0179\n",
      "Withdrew 1.2691 tokens at 0.0179\n",
      "Borrowed 132.3529 tokens at 0.0287\n",
      "Withdrew 131.0294 tokens at 0.0287\n",
      "Borrowed 93.4256 tokens at 0.0287\n",
      "Withdrew 93.8016 tokens at 0.0287\n",
      "Withdrew 0.9380 tokens at 0.0287\n",
      "Borrowed 264.7059 tokens at 0.0887\n",
      "Withdrew 262.0588 tokens at 0.0887\n",
      "Borrowed 186.8512 tokens at 0.0887\n",
      "Withdrew 187.6033 tokens at 0.0887\n",
      "Withdrew 1.8760 tokens at 0.0887\n",
      "unBorrowed 126.1707 tokens at 0.0356\n",
      "Withdrew 1.2546 tokens at 0.0255\n",
      "unBorrowed 6.3085 tokens at 0.0356\n",
      "unBorrowed 0.3154 tokens at 0.0356\n",
      "HODLing 396 tokens at rate 0.0365\n",
      "Borrowed 155.7093 tokens at 0.0960\n",
      "Withdrew 154.1522 tokens at 0.0960\n",
      "HODLing 376 tokens at rate 0.0372\n",
      "Borrowed 109.9125 tokens at 0.0960\n",
      "Withdrew 110.3549 tokens at 0.0960\n",
      "Withdrew 1.1035 tokens at 0.0960\n",
      "HODLing 467 tokens at rate 0.0126\n",
      "HODLing 149 tokens at rate 0.0156\n",
      "Borrowed 77.8547 tokens at 0.0406\n",
      "Withdrew 77.0761 tokens at 0.0406\n",
      "Borrowed 54.9562 tokens at 0.0406\n",
      "Withdrew 55.1774 tokens at 0.0406\n",
      "Withdrew 0.5518 tokens at 0.0406\n",
      "Borrowed 77.8498 tokens at 0.0255\n",
      "Withdrew 77.1494 tokens at 0.0255\n",
      "Borrowed 54.9528 tokens at 0.0255\n",
      "Withdrew 55.1748 tokens at 0.0255\n",
      "Withdrew 0.5517 tokens at 0.0255\n",
      "Borrowed 778.5467 tokens at 0.0156\n",
      "Withdrew 770.7612 tokens at 0.0156\n",
      "Withdrew 7.7076 tokens at 0.0156\n",
      "unBorrowed 739.6199 tokens at 0.0235\n",
      "Withdrew 7.3993 tokens at 0.0156\n",
      "Borrowed 778.5467 tokens at 0.0626\n",
      "Withdrew 770.7612 tokens at 0.0626\n",
      "Borrowed 549.5624 tokens at 0.0626\n",
      "Withdrew 354.9729 tokens at 0.0626\n",
      "Withdrew 3.5497 tokens at 0.0626\n",
      "Borrowed 233.5640 tokens at 0.0750\n",
      "Borrowed 164.8687 tokens at 0.0750\n",
      "Borrowed 529.4118 tokens at 0.0624\n",
      "Borrowed 373.7024 tokens at 0.0624\n",
      "unBorrowed 36.9810 tokens at 0.0235\n",
      "Withdrew 0.4401 tokens at 0.0156\n",
      "Withdrew 36.5771 tokens at 0.0626\n",
      "Withdrew 0.3658 tokens at 0.0750\n",
      "unBorrowed 1.8491 tokens at 0.0235\n",
      "Withdrew 1.8525 tokens at 0.0626\n",
      "HODLing 549 tokens at rate 0.0216\n",
      "Withdrew 158.7918 tokens at 0.0626\n",
      "Withdrew 386.3247 tokens at 0.0750\n",
      "Withdrew 3.8632 tokens at 0.0624\n",
      "HODLing 1000 tokens at rate 0.0258\n",
      "Withdrew 1.5879 tokens at 0.0626\n",
      "Withdrew 11.6251 tokens at 0.0750\n",
      "Withdrew 890.2595 tokens at 0.0624\n",
      "Withdrew 0.1163 tokens at 0.0750\n",
      "Withdrew 8.9026 tokens at 0.0624\n",
      "HODLing 542 tokens at rate 0.0316\n",
      "unBorrowed 126.1788 tokens at 0.0356\n",
      "Withdrew 1.2547 tokens at 0.0255\n",
      "unBorrowed 6.3089 tokens at 0.0356\n",
      "unBorrowed 0.3154 tokens at 0.0356\n",
      "HODLing 306 tokens at rate 0.0324\n",
      "Borrowed 62.2837 tokens at 0.0561\n",
      "Withdrew 61.6609 tokens at 0.0561\n",
      "Borrowed 43.9650 tokens at 0.0561\n",
      "Withdrew 44.1419 tokens at 0.0561\n",
      "Withdrew 0.4414 tokens at 0.0561\n",
      "HODLing 347 tokens at rate 0.0329\n",
      "HODLing 142 tokens at rate 0.0268\n",
      "Borrowed 762.9758 tokens at 0.0667\n",
      "Withdrew 755.3460 tokens at 0.0667\n",
      "Borrowed 538.5711 tokens at 0.0667\n",
      "Withdrew 540.7389 tokens at 0.0667\n",
      "Withdrew 5.4074 tokens at 0.0667\n",
      "Borrowed 31.1419 tokens at 0.0689\n",
      "Withdrew 30.8304 tokens at 0.0689\n",
      "Borrowed 21.9825 tokens at 0.0689\n",
      "Withdrew 22.0710 tokens at 0.0689\n",
      "Withdrew 0.2207 tokens at 0.0689\n",
      "HODLing 938 tokens at rate 0.0337\n",
      "HODLing 414 tokens at rate 0.0279\n",
      "Borrowed 116.7820 tokens at 0.0819\n",
      "Withdrew 115.6142 tokens at 0.0819\n",
      "Borrowed 82.4344 tokens at 0.0819\n",
      "Withdrew 82.7662 tokens at 0.0819\n",
      "Withdrew 0.8277 tokens at 0.0819\n",
      "HODLing 465 tokens at rate 0.0220\n",
      "Borrowed 77.8498 tokens at 0.0255\n",
      "Withdrew 77.1494 tokens at 0.0255\n",
      "Borrowed 54.9528 tokens at 0.0255\n",
      "Withdrew 55.1748 tokens at 0.0255\n",
      "Withdrew 0.5517 tokens at 0.0255\n",
      "Borrowed 513.8408 tokens at 0.0950\n",
      "Withdrew 508.7024 tokens at 0.0950\n",
      "Borrowed 362.7112 tokens at 0.0950\n",
      "Withdrew 364.1711 tokens at 0.0950\n",
      "Withdrew 3.6417 tokens at 0.0950\n",
      "unBorrowed 126.1785 tokens at 0.0356\n",
      "Withdrew 1.2547 tokens at 0.0255\n",
      "unBorrowed 6.3089 tokens at 0.0356\n",
      "unBorrowed 0.3154 tokens at 0.0356\n",
      "HODLing 329 tokens at rate 0.0352\n",
      "HODLing 435 tokens at rate 0.0286\n"
     ]
    }
   ],
   "source": [
    "import numpy\n",
    "\n",
    "chain = blockchain(1,1)\n",
    "oracle.setPrice(Decimal('2'))\n",
    "tokenA = Token(\"TokenA\")\n",
    "tokenB = Token(\"TokenB\")\n",
    "oracle = Oracle(tokenA, tokenB)\n",
    "oracle.setPrice(Decimal('1'))\n",
    "interface = Interface(chain, tokenA, tokenB, oracle)\n",
    "\n",
    "interface.pyA.interestUpdateAmount = Decimal('0.0001')\n",
    "interface.pyA.reservesTarget = Decimal('0.25')\n",
    "interface.pyA.minimumSpread = Decimal('0.0')\n",
    "interface.pyA.adjustmentFreeWindow = Decimal('0.01')\n",
    "\n",
    "# tracking variables\n",
    "pyAinterest = []\n",
    "pyBinterest = []\n",
    "qxA = []\n",
    "qxB = []\n",
    "pyratesA = []\n",
    "debtratesA = []\n",
    "tSupply = []\n",
    "ulying = []\n",
    "debtOutstanding = []\n",
    "debtSupplyRatio = []\n",
    "feeIncome = []\n",
    "rrMean = []\n",
    "rrvar  = []\n",
    "reservesTarget = []\n",
    "candidateReserves = []\n",
    "\n",
    "\n",
    "\n",
    "# Initial positions\n",
    "interface.A.mint(\"HODL\", Decimal(100000))\n",
    "interface.B.mint(\"HODL\", Decimal(100000))\n",
    "interface.eth.mint(\"BU\", Decimal(1000))\n",
    "interface.pyA.addCollateral(\"ETH\", \"BU\", Decimal(100) )\n",
    "interface.pyB.addCollateral(\"ETH\", \"BU\", Decimal(100) )\n",
    "\n",
    "price = interface.ethAOracle.getPriceInToken(interface.A)\n",
    "#borrow = (Decimal(25) * price) / (interface.pyA.collateralizationRatio )\n",
    "#borrow = Decimal(100)\n",
    "#interface.pyA.borrow(\"ETH\", \"BU\", borrow)\n",
    "#interface.qxA.mint(\"HODL\", Decimal(1500 * 0.15))\n",
    "\n",
    "#Create users\n",
    "\n",
    "#user1 = YieldAgent(interface)\n",
    "#user2 = BorrowAgent(interface)\n",
    "#users = [user1, user2]\n",
    "\n",
    "users = []\n",
    "for x in range(5):\n",
    "    users.append(YieldAgent(interface))\n",
    "    \n",
    "for y in range(2):\n",
    "    users.append(BorrowAgent(interface))\n",
    "\n",
    "# Setup\n",
    "for user in users:\n",
    "    user.setup()\n",
    "\n",
    "    \n",
    "mean_estimate = Decimal(0)  \n",
    "measurements = Decimal(0) \n",
    "var_estimate = Decimal(0)\n",
    "lastReserves = Decimal(0)\n",
    "measurementsLimit = Decimal(15)\n",
    "\n",
    "# Run\n",
    "for block in range(4000):\n",
    "    \n",
    "    # skip some blocks\n",
    "    #if numpy.random.uniform(0,100) < 80:\n",
    "    #    continue\n",
    "    \n",
    "    # perform interest rate update at beginning of block\n",
    "    interface.eachBlock()\n",
    "    \n",
    "    # add users\n",
    "    if numpy.random.uniform(0,100) < 4:\n",
    "        if numpy.random.uniform(0,100) < 33:\n",
    "            newAgent = BorrowAgent(interface)\n",
    "            newAgent.setup()\n",
    "            users.append(newAgent)\n",
    "        else:\n",
    "            newAgent = YieldAgent(interface)\n",
    "            newAgent.setup()\n",
    "            users.append(newAgent)\n",
    "    \n",
    "    for user in users:\n",
    "        user.performActions()\n",
    "    \n",
    "    #calculate an estimate of the reserves\n",
    "    reserves = interface.qxA.underlying\n",
    "    RTarget = (interface.pyA.totalDebt+interface.qxA.underlying)*interface.pyA.reservesTarget\n",
    "    \n",
    "    if reserves != lastReserves:\n",
    "        if measurements !=0:\n",
    "            mean_estimate = (1/measurements) * (reserves) + ((measurements - 1)/measurements) * mean_estimate\n",
    "            var_estimate = (1/measurements) * math.ln((RTarget - reserves)**2) + ((measurements - 1)/measurements) * mean_estimate\n",
    "        else:\n",
    "            mean_estimate = Decimal(reserves)\n",
    "            var_estimate = 0\n",
    "\n",
    "        measurements += 1\n",
    "        if measurements > measurementsLimit:\n",
    "            measurements = Decimal(measurementsLimit)\n",
    "        \n",
    "    lastReserves = reserves \n",
    "    #Candidate new reserves Target\n",
    "    candidateR = Decimal(10)*math.sqrt(interface.pyA.totalDebt)/(interface.pyA.totalDebt+interface.qxA.underlying)\n",
    "    interface.pyA.reservesTarget = candidateR\n",
    "    \n",
    "    candidateReserves.append(float(candidateR))\n",
    "    reservesTarget.append(float(RTarget))\n",
    "    rrMean.append(float(mean_estimate))\n",
    "    rrvar.append(float(var_estimate))\n",
    "    pyAinterest.append(float(interface.pyA.yearlyRate()))\n",
    "    debtSupplyRatio.append(float(interface.pyA.totalDebt/interface.pyA.totalSupply))\n",
    "    qxA.append(float(interface.qxA.measureRatio()))\n",
    "    debtOutstanding.append(float(interface.pyA.getTotalDebt()))\n",
    "    pyratesA.append(float(interface.pyA.yearlyRate()))\n",
    "    debtratesA.append(float(interface.pyA.yearlyDebtRate()))\n",
    "    tSupply.append(float(interface.pyA.totalSupply))\n",
    "    ulying.append(float(interface.qxA.underlying))\n",
    "    feeIncome.append(float(interface.pyA.totalFeeIncome))\n",
    "# Shutdown\n",
    "for user in users:\n",
    "    user.shutdown()"
   ]
  },
  {
   "cell_type": "code",
   "execution_count": 170,
   "metadata": {},
   "outputs": [
    {
     "data": {
      "text/plain": [
       "<matplotlib.axes._subplots.AxesSubplot at 0x12c5fefd0>"
      ]
     },
     "execution_count": 170,
     "metadata": {},
     "output_type": "execute_result"
    },
    {
     "data": {
      "image/png": "[encoded data removed]",
      "text/plain": [
       "<Figure size 432x288 with 1 Axes>"
      ]
     },
     "metadata": {
      "needs_background": "light"
     },
     "output_type": "display_data"
    }
   ],
   "source": [
    "pandas.Series(debtOutstanding, name=\"debt\").plot(legend=True)\n",
    "pandas.Series(tSupply, name=\"pyTokens\").plot(legend=True)\n",
    "pandas.Series(ulying, name=\"underlying\").plot(legend=True)"
   ]
  },
  {
   "cell_type": "code",
   "execution_count": 171,
   "metadata": {},
   "outputs": [
    {
     "data": {
      "text/plain": [
       "<matplotlib.axes._subplots.AxesSubplot at 0x12c705fd0>"
      ]
     },
     "execution_count": 171,
     "metadata": {},
     "output_type": "execute_result"
    },
    {
     "data": {
      "image/png": "[encoded data removed]",
      "text/plain": [
       "<Figure size 432x288 with 1 Axes>"
      ]
     },
     "metadata": {
      "needs_background": "light"
     },
     "output_type": "display_data"
    }
   ],
   "source": [
    "pandas.Series(debtSupplyRatio, name=\"Debt/Supply Ratio\").plot(legend=True)"
   ]
  },
  {
   "cell_type": "code",
   "execution_count": 172,
   "metadata": {},
   "outputs": [
    {
     "data": {
      "text/plain": [
       "<matplotlib.axes._subplots.AxesSubplot at 0x12c5e4550>"
      ]
     },
     "execution_count": 172,
     "metadata": {},
     "output_type": "execute_result"
    },
    {
     "data": {
      "image/png": "[encoded data removed]",
      "text/plain": [
       "<Figure size 432x288 with 1 Axes>"
      ]
     },
     "metadata": {
      "needs_background": "light"
     },
     "output_type": "display_data"
    }
   ],
   "source": [
    "pandas.Series(qxA, name=\"Reserve Ratio\").plot(legend=True)\n",
    "pandas.Series(candidateReserves, name=\"Candidate Reserve Ratio Target\").plot(legend=True)\n"
   ]
  },
  {
   "cell_type": "code",
   "execution_count": null,
   "metadata": {},
   "outputs": [],
   "source": []
  },
  {
   "cell_type": "code",
   "execution_count": 173,
   "metadata": {},
   "outputs": [
    {
     "data": {
      "text/plain": [
       "<matplotlib.axes._subplots.AxesSubplot at 0x12c9ca0d0>"
      ]
     },
     "execution_count": 173,
     "metadata": {},
     "output_type": "execute_result"
    },
    {
     "data": {
      "image/png": "[encoded data removed]",
      "text/plain": [
       "<Figure size 432x288 with 1 Axes>"
      ]
     },
     "metadata": {
      "needs_background": "light"
     },
     "output_type": "display_data"
    }
   ],
   "source": [
    "#pandas.Series(rrMean, name=\"Reserve Ratio Mean Estimate\").plot(legend=True)\n",
    "pandas.Series(reservesTarget, name=\"Reserves Target\").plot(legend=True)\n",
    "pandas.Series(ulying, name=\"underlying\").plot(legend=True)"
   ]
  },
  {
   "cell_type": "code",
   "execution_count": 174,
   "metadata": {},
   "outputs": [
    {
     "data": {
      "text/plain": [
       "<matplotlib.axes._subplots.AxesSubplot at 0x12cb0f9d0>"
      ]
     },
     "execution_count": 174,
     "metadata": {},
     "output_type": "execute_result"
    },
    {
     "data": {
      "image/png": "[encoded data removed]",
      "text/plain": [
       "<Figure size 432x288 with 1 Axes>"
      ]
     },
     "metadata": {
      "needs_background": "light"
     },
     "output_type": "display_data"
    }
   ],
   "source": [
    "pandas.Series(rrvar, name=\"variance\").plot(legend=True)"
   ]
  },
  {
   "cell_type": "code",
   "execution_count": 175,
   "metadata": {},
   "outputs": [
    {
     "data": {
      "text/plain": [
       "<matplotlib.axes._subplots.AxesSubplot at 0x12ccc6910>"
      ]
     },
     "execution_count": 175,
     "metadata": {},
     "output_type": "execute_result"
    },
    {
     "data": {
      "image/png": "[encoded data removed]",
      "text/plain": [
       "<Figure size 432x288 with 1 Axes>"
      ]
     },
     "metadata": {
      "needs_background": "light"
     },
     "output_type": "display_data"
    }
   ],
   "source": [
    "pandas.Series(pyratesA, name=\"pyToken yield\").plot(legend=True)\n",
    "pandas.Series(debtratesA,name=\"borrow rate\").plot(legend=True)"
   ]
  },
  {
   "cell_type": "code",
   "execution_count": 22,
   "metadata": {},
   "outputs": [
    {
     "data": {
      "text/plain": [
       "1.2647326092547395e-05"
      ]
     },
     "execution_count": 22,
     "metadata": {},
     "output_type": "execute_result"
    }
   ],
   "source": [
    "# let's look at variance\n",
    "pandas.Series(pyratesA[1000:], name=\"pyToken yield\").var()"
   ]
  },
  {
   "cell_type": "code",
   "execution_count": 168,
   "metadata": {},
   "outputs": [
    {
     "data": {
      "text/plain": [
       "<matplotlib.axes._subplots.AxesSubplot at 0x12c037dd0>"
      ]
     },
     "execution_count": 168,
     "metadata": {},
     "output_type": "execute_result"
    },
    {
     "data": {
      "image/png": "[encoded data removed]",
      "text/plain": [
       "<Figure size 432x288 with 1 Axes>"
      ]
     },
     "metadata": {
      "needs_background": "light"
     },
     "output_type": "display_data"
    }
   ],
   "source": [
    "pandas.Series(feeIncome,name=\"fee income\").plot(legend=True)"
   ]
  },
  {
   "cell_type": "markdown",
   "metadata": {},
   "source": [
    "# Scratchpad"
   ]
  },
  {
   "cell_type": "code",
   "execution_count": 24,
   "metadata": {},
   "outputs": [
    {
     "data": {
      "text/plain": [
       "{'0xReferenceExchange': Decimal('1000000000'),\n",
       " 'HODL': Decimal('100000'),\n",
       " '0xYA_HodlPY255': Decimal('239'),\n",
       " '0xYA_HodlPY312': Decimal('0'),\n",
       " '0xYA_HodlPY536': Decimal('530'),\n",
       " '0xYA_HodlPY753': Decimal('1000'),\n",
       " '0xYA_HodlPY539': Decimal('1000'),\n",
       " '0xBA_longETH202': Decimal('145588.1662439447303715612890'),\n",
       " '0xBA_longETH95': Decimal('1324857.494250996192092001421'),\n",
       " '0xYA_HodlPY342': Decimal('239'),\n",
       " '0xYA_HodlPY692': Decimal('0'),\n",
       " '0xYA_HodlPY187': Decimal('0'),\n",
       " '0xYA_HodlPY495': Decimal('0'),\n",
       " '0xQX_TokenA': Decimal('2180.551225007945549087069973'),\n",
       " '0xBA_longETH591': Decimal('145588.1628584547339975374692'),\n",
       " '0xYA_HodlPY403': Decimal('559'),\n",
       " '0xYA_HodlPY994': Decimal('572'),\n",
       " '0xYA_HodlPY506': Decimal('797'),\n",
       " '0xBA_longETH5': Decimal('39705.88235294117647058823530'),\n",
       " '0xBA_longETH215': Decimal('304717.2033041883467945107796'),\n",
       " '0xBA_longETH408': Decimal('119237.1649376913980946244718'),\n",
       " '0xBA_longETH633': Decimal('304411.7647058823529411764706'),\n",
       " '0xYA_HodlPY488': Decimal('322'),\n",
       " '0xYA_HodlPY636': Decimal('972'),\n",
       " '0xBA_longETH678': Decimal('516176.4705882352941176470590'),\n",
       " '0xBA_longETH192': Decimal('502941.1764705882352941176470'),\n",
       " '0xBA_longETH363': Decimal('211764.7058823529411764705882'),\n",
       " '0xBA_longETH820': Decimal('105988.5972098196846836827671'),\n",
       " '0xYA_HodlPY760': Decimal('347'),\n",
       " '0xYA_HodlPY251': Decimal('0'),\n",
       " '0xBA_longETH566': Decimal('185294.1176470588235294117647'),\n",
       " '0xYA_HodlPY617': Decimal('240'),\n",
       " '0xYA_HodlPY796': Decimal('1000'),\n",
       " '0xYA_HodlPY92': Decimal('0'),\n",
       " '0xYA_HodlPY35': Decimal('0'),\n",
       " '0xBA_longETH637': Decimal('225000.0202825860814662472016'),\n",
       " '0xBA_longETH751': Decimal('741920.1804688873380691923825'),\n",
       " '0xBA_longETH636': Decimal('225225.7690708625912835440920'),\n",
       " '0xYA_HodlPY512': Decimal('0'),\n",
       " '0xYA_HodlPY347': Decimal('0'),\n",
       " '0xYA_HodlPY426': Decimal('324'),\n",
       " '0xYA_HodlPY178': Decimal('765'),\n",
       " '0xYA_HodlPY61': Decimal('0'),\n",
       " '0xBA_longETH162': Decimal('502941.1764705882352941176470'),\n",
       " '0xYA_HodlPY394': Decimal('676'),\n",
       " '0xYA_HodlPY546': Decimal('247'),\n",
       " '0xYA_HodlPY888': Decimal('87'),\n",
       " '0xBA_longETH561': Decimal('238235.2941176470588235294118'),\n",
       " '0xYA_HodlPY293': Decimal('0'),\n",
       " '0xBA_longETH364': Decimal('158982.8958147458761622084469'),\n",
       " '0xYA_HodlPY304': Decimal('828'),\n",
       " '0xYA_HodlPY773': Decimal('0'),\n",
       " '0xBA_longETH31': Decimal('821411.6283755110173061508587'),\n",
       " '0xYA_HodlPY644': Decimal('369'),\n",
       " '0xBA_longETH672': Decimal('39745.72395365298377968497692'),\n",
       " '0xYA_HodlPY565': Decimal('239'),\n",
       " '0xYA_HodlPY102': Decimal('662'),\n",
       " '0xYA_HodlPY415': Decimal('0'),\n",
       " '0xYA_HodlPY714': Decimal('134'),\n",
       " '0xBA_longETH39': Decimal('278220.0676756624173246007861'),\n",
       " '0xBA_longETH748': Decimal('238474.3437220271774604761189'),\n",
       " '0xYA_HodlPY282': Decimal('0'),\n",
       " '0xYA_HodlPY931': Decimal('0'),\n",
       " '0xYA_HodlPY649': Decimal('418'),\n",
       " '0xBA_longETH864': Decimal('251722.9183732718393935163562'),\n",
       " '0xYA_HodlPY513': Decimal('779'),\n",
       " '0xBA_longETH297': Decimal('185480.0451171855861355730917'),\n",
       " '0xBA_longETH45': Decimal('66176.47058823529411764705885'),\n",
       " '0xYA_HodlPY824': Decimal('409'),\n",
       " '0xYA_HodlPY390': Decimal('0'),\n",
       " '0xBA_longETH348': Decimal('158982.8958147514046302058296'),\n",
       " '0xYA_HodlPY248': Decimal('0'),\n",
       " '0xBA_longETH492': Decimal('317965.7916294477460017367270'),\n",
       " '0xYA_HodlPY554': Decimal('380'),\n",
       " '0xYA_HodlPY516': Decimal('0'),\n",
       " '0xYA_HodlPY319': Decimal('227'),\n",
       " '0xBA_longETH756': Decimal('291176.4705882352941176470588'),\n",
       " '0xYA_HodlPY942': Decimal('356'),\n",
       " '0xBA_longETH185': Decimal('251618.4973183637329332696286'),\n",
       " '0xYA_HodlPY810': Decimal('1000'),\n",
       " '0xYA_HodlPY253': Decimal('320'),\n",
       " '0xYA_HodlPY112': Decimal('624'),\n",
       " '0xYA_HodlPY142': Decimal('0')}"
      ]
     },
     "execution_count": 24,
     "metadata": {},
     "output_type": "execute_result"
    }
   ],
   "source": [
    "interface.A.balances"
   ]
  },
  {
   "cell_type": "code",
   "execution_count": 25,
   "metadata": {},
   "outputs": [
    {
     "data": {
      "text/plain": [
       "{'0xBA_longETH202': Decimal('0.0868882457381374672547674163'),\n",
       " '0xBA_longETH95': Decimal('0.028326767708364589296749430'),\n",
       " '0xQX_TokenA': Decimal('0E-25'),\n",
       " '0xYA_HodlPY312': Decimal('999.9996584443820805767014771'),\n",
       " '0xBA_longETH591': Decimal('0.0868430408615332689461752574'),\n",
       " '0xBA_longETH215': Decimal('0.026593795272738221944147451'),\n",
       " '0xBA_longETH408': Decimal('0.011952957666731207748354779'),\n",
       " '0xYA_HodlPY495': Decimal('611.9986997883756845181540008'),\n",
       " '0xYA_HodlPY692': Decimal('327.9989597152214036079218273'),\n",
       " '0xYA_HodlPY187': Decimal('1095.987359143417690977534448'),\n",
       " '0xBA_longETH820': Decimal('0.0044587566004282398784045651'),\n",
       " '0xYA_HodlPY251': Decimal('455.9972719665310129213045212'),\n",
       " '0xYA_HodlPY92': Decimal('153.9987284446132739195070753'),\n",
       " '0xYA_HodlPY35': Decimal('200.9982688959080735510379511'),\n",
       " '0xBA_longETH636': Decimal('0.0094748115885531628893651249'),\n",
       " '0xYA_HodlPY512': Decimal('128.9986138534116180282285082'),\n",
       " '0xYA_HodlPY347': Decimal('77.99914501485735235933130797'),\n",
       " '0xBA_longETH637': Decimal('0.0066502214998684390838411140'),\n",
       " '0xBA_longETH751': Decimal('0.031211086323511456458240464'),\n",
       " '0xBA_longETH364': Decimal('0.0066880644809495045870540993'),\n",
       " '0xBA_longETH31': Decimal('0.034554930249076754510082170'),\n",
       " '0xYA_HodlPY61': Decimal('163.9969805689022198882537977'),\n",
       " '0xYA_HodlPY293': Decimal('754.9860995702510732660464469'),\n",
       " '0xYA_HodlPY773': Decimal('270.9950105742225706690047511'),\n",
       " '0xBA_longETH672': Decimal('0.0016720117518543589028213792'),\n",
       " '0xYA_HodlPY415': Decimal('384.9916776156267871445744626'),\n",
       " '0xBA_longETH39': Decimal('0.011704047948126206946575402'),\n",
       " '0xBA_longETH748': Decimal('0.0100320382320963453161508665'),\n",
       " '0xYA_HodlPY282': Decimal('652.9850832208619964450261496'),\n",
       " '0xYA_HodlPY931': Decimal('368.9914490025312736948948615'),\n",
       " '0xBA_longETH864': Decimal('0.010589359343679289356573436'),\n",
       " '0xBA_longETH297': Decimal('0.0078026827270165653876324211'),\n",
       " '0xBA_longETH348': Decimal('0.0066880075520860660087387525'),\n",
       " '0xYA_HodlPY248': Decimal('89.99771067394264275367636826'),\n",
       " '0xBA_longETH492': Decimal('0.013376003476697150353381129'),\n",
       " '0xYA_HodlPY516': Decimal('93.99752844923343721354860691'),\n",
       " '0xYA_HodlPY390': Decimal('287.9921026522529373762876952'),\n",
       " '0xBA_longETH185': Decimal('0.014791954853192329270288413'),\n",
       " '0xYA_HodlPY142': Decimal('490.9840909492395091068744909')}"
      ]
     },
     "execution_count": 25,
     "metadata": {},
     "output_type": "execute_result"
    }
   ],
   "source": [
    "interface.pyA.balances"
   ]
  },
  {
   "cell_type": "code",
   "execution_count": 26,
   "metadata": {},
   "outputs": [
    {
     "data": {
      "text/plain": [
       "192.8080100478424"
      ]
     },
     "execution_count": 26,
     "metadata": {},
     "output_type": "execute_result"
    }
   ],
   "source": [
    "numpy.random.lognormal(5, 1)"
   ]
  },
  {
   "cell_type": "code",
   "execution_count": 27,
   "metadata": {},
   "outputs": [],
   "source": [
    "def lnmean(mean, sigma):\n",
    "    sum = 0\n",
    "    for x in range(1000):\n",
    "        sum += numpy.random.lognormal(mean, sigma)\n",
    "    return sum/1000"
   ]
  },
  {
   "cell_type": "code",
   "execution_count": 28,
   "metadata": {},
   "outputs": [
    {
     "data": {
      "text/plain": [
       "12.910013808703923"
      ]
     },
     "execution_count": 28,
     "metadata": {},
     "output_type": "execute_result"
    }
   ],
   "source": [
    "lnmean(.1,2)"
   ]
  },
  {
   "cell_type": "code",
   "execution_count": 29,
   "metadata": {},
   "outputs": [
    {
     "data": {
      "text/plain": [
       "650.4594621904588"
      ]
     },
     "execution_count": 29,
     "metadata": {},
     "output_type": "execute_result"
    }
   ],
   "source": [
    "lnmean(6,1)"
   ]
  },
  {
   "cell_type": "code",
   "execution_count": 30,
   "metadata": {},
   "outputs": [],
   "source": [
    "def threshold(mean, sigma, limit ):\n",
    "    result = int(numpy.random.exponential(mean))\n",
    "    print(result)\n",
    "    return result"
   ]
  },
  {
   "cell_type": "code",
   "execution_count": 31,
   "metadata": {},
   "outputs": [],
   "source": [
    "def tfreq(mean, sigma, limit):\n",
    "    sum = 0\n",
    "    for x in range(100):\n",
    "        if threshold(mean, sigma, limit ):\n",
    "            sum += 1\n",
    "    return sum"
   ]
  },
  {
   "cell_type": "code",
   "execution_count": 32,
   "metadata": {},
   "outputs": [
    {
     "data": {
      "text/plain": [
       "1.3624386683879848"
      ]
     },
     "execution_count": 32,
     "metadata": {},
     "output_type": "execute_result"
    }
   ],
   "source": [
    "numpy.random.exponential(1)"
   ]
  },
  {
   "cell_type": "code",
   "execution_count": 48,
   "metadata": {},
   "outputs": [
    {
     "data": {
      "text/plain": [
       "[1, 1, 1, 1, 1]"
      ]
     },
     "execution_count": 48,
     "metadata": {},
     "output_type": "execute_result"
    }
   ],
   "source": [
    "[1]*5"
   ]
  },
  {
   "cell_type": "markdown",
   "metadata": {},
   "source": [
    "## Interest Tests"
   ]
  },
  {
   "cell_type": "code",
   "execution_count": 33,
   "metadata": {},
   "outputs": [],
   "source": [
    "# self.rate = Decimal(1) + ((self.debtRate-1) * self.totalDebt * (1 - self.minimumSpread))/(1 + self.totalSupply)\n",
    "# self.rate = math.power(1 + Decimal(rate), 1/Decimal(31622400)) "
   ]
  },
  {
   "cell_type": "code",
   "execution_count": 34,
   "metadata": {},
   "outputs": [],
   "source": [
    "from decimal import Decimal\n",
    "import decimal\n",
    "debtRate = Decimal('1.04')"
   ]
  },
  {
   "cell_type": "code",
   "execution_count": 35,
   "metadata": {},
   "outputs": [
    {
     "data": {
      "text/plain": [
       "Decimal('1.0816')"
      ]
     },
     "execution_count": 35,
     "metadata": {},
     "output_type": "execute_result"
    }
   ],
   "source": [
    "math = decimal.Context()\n",
    "accumulate = math.power(debtRate, 2)\n",
    "accumulate"
   ]
  },
  {
   "cell_type": "code",
   "execution_count": 36,
   "metadata": {},
   "outputs": [],
   "source": [
    "minSpread = Decimal('0.00')\n",
    "totalSupply = 1000\n",
    "totalDebt = totalSupply * Decimal('0.7')"
   ]
  },
  {
   "cell_type": "code",
   "execution_count": 37,
   "metadata": {},
   "outputs": [],
   "source": [
    "rate = Decimal(1) + ((debtRate-1) * totalDebt * (1 - minSpread))/(totalSupply)\n",
    "#rate = ((debtRate) * totalDebt * (1 - minSpread))/(1 + totalSupply)"
   ]
  },
  {
   "cell_type": "code",
   "execution_count": 38,
   "metadata": {},
   "outputs": [
    {
     "data": {
      "text/plain": [
       "Decimal('1.02800')"
      ]
     },
     "execution_count": 38,
     "metadata": {},
     "output_type": "execute_result"
    }
   ],
   "source": [
    "rate"
   ]
  },
  {
   "cell_type": "code",
   "execution_count": 39,
   "metadata": {},
   "outputs": [
    {
     "data": {
      "text/plain": [
       "Decimal('1.0567840000')"
      ]
     },
     "execution_count": 39,
     "metadata": {},
     "output_type": "execute_result"
    }
   ],
   "source": [
    "math.power(rate, 2)"
   ]
  },
  {
   "cell_type": "code",
   "execution_count": 40,
   "metadata": {},
   "outputs": [
    {
     "data": {
      "text/plain": [
       "Decimal('57.12000')"
      ]
     },
     "execution_count": 40,
     "metadata": {},
     "output_type": "execute_result"
    }
   ],
   "source": [
    "accumulate*totalDebt - totalDebt"
   ]
  },
  {
   "cell_type": "code",
   "execution_count": 41,
   "metadata": {},
   "outputs": [
    {
     "data": {
      "text/plain": [
       "Decimal('56.7840000000')"
      ]
     },
     "execution_count": 41,
     "metadata": {},
     "output_type": "execute_result"
    }
   ],
   "source": [
    "totalSupply*math.power(rate, 2) - totalSupply"
   ]
  },
  {
   "cell_type": "code",
   "execution_count": 42,
   "metadata": {},
   "outputs": [
    {
     "name": "stdout",
     "output_type": "stream",
     "text": [
      "1036.170999442840748032000\n",
      "1218.99441999475713024000\n"
     ]
    }
   ],
   "source": [
    "print(totalDebt*math.power(debtRate, 10))\n",
    "print(totalSupply*math.power(Decimal('1.02'), 10))"
   ]
  },
  {
   "cell_type": "code",
   "execution_count": 43,
   "metadata": {},
   "outputs": [
    {
     "data": {
      "text/plain": [
       "Decimal('1.000000000003162157215564487')"
      ]
     },
     "execution_count": 43,
     "metadata": {},
     "output_type": "execute_result"
    }
   ],
   "source": [
    "interestUpdateAmount = Decimal('0.0001')\n",
    "newRate = math.power(1 + Decimal(interestUpdateAmount), 1/Decimal(31622400))\n",
    "newRate"
   ]
  },
  {
   "cell_type": "code",
   "execution_count": 44,
   "metadata": {},
   "outputs": [
    {
     "data": {
      "text/plain": [
       "1.0000000000031621"
      ]
     },
     "execution_count": 44,
     "metadata": {},
     "output_type": "execute_result"
    }
   ],
   "source": [
    "1000000000003162157215564487 / 10**27"
   ]
  },
  {
   "cell_type": "code",
   "execution_count": 45,
   "metadata": {},
   "outputs": [
    {
     "data": {
      "text/plain": [
       "1000000284625770972959474870"
      ]
     },
     "execution_count": 45,
     "metadata": {},
     "output_type": "execute_result"
    }
   ],
   "source": [
    "(3162157215564487 * 90010) + 10**27\n"
   ]
  },
  {
   "cell_type": "code",
   "execution_count": 46,
   "metadata": {},
   "outputs": [
    {
     "data": {
      "text/plain": [
       "2000000000000000000000000000"
      ]
     },
     "execution_count": 46,
     "metadata": {},
     "output_type": "execute_result"
    }
   ],
   "source": [
    "2*10**27"
   ]
  },
  {
   "cell_type": "code",
   "execution_count": 47,
   "metadata": {},
   "outputs": [
    {
     "data": {
      "text/plain": [
       "4.999999999999999"
      ]
     },
     "execution_count": 47,
     "metadata": {},
     "output_type": "execute_result"
    }
   ],
   "source": [
    "4.999999999999998706\n",
    "4.999999999999999000"
   ]
  }
 ],
 "metadata": {
  "kernelspec": {
   "display_name": "Python 3",
   "language": "python",
   "name": "python3"
  },
  "language_info": {
   "codemirror_mode": {
    "name": "ipython",
    "version": 3
   },
   "file_extension": ".py",
   "mimetype": "text/x-python",
   "name": "python",
   "nbconvert_exporter": "python",
   "pygments_lexer": "ipython3",
   "version": "3.7.4"
  }
 },
 "nbformat": 4,
 "nbformat_minor": 2
}
